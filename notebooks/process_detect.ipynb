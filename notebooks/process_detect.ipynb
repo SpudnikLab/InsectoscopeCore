{
 "cells": [
  {
   "cell_type": "code",
   "execution_count": 21,
   "metadata": {},
   "outputs": [],
   "source": [
    "import numpy as np\n",
    "from python_speech_features import mfcc\n",
    "from scipy.spatial.distance import euclidean\n",
    "import os\n",
    "import pandas as pd\n",
    "import concurrent.futures\n",
    "from scipy.io import wavfile\n",
    "from scipy.spatial.distance import cosine\n",
    "import time\n",
    "from matplotlib.colors import LogNorm"
   ]
  },
  {
   "cell_type": "code",
   "execution_count": 22,
   "metadata": {},
   "outputs": [],
   "source": [
    "# Function to read CSV data\n",
    "def read_csv(file_path):\n",
    "    return pd.read_csv(file_path)"
   ]
  },
  {
   "cell_type": "code",
   "execution_count": 23,
   "metadata": {},
   "outputs": [],
   "source": [
    "# Function to load audio from file\n",
    "def load_audio(audio_file):\n",
    "    return wavfile.read(audio_file)"
   ]
  },
  {
   "cell_type": "code",
   "execution_count": 24,
   "metadata": {},
   "outputs": [],
   "source": [
    "# Function to match IDs with audio file names\n",
    "def match_audio_files(csv_data, audio_dir):\n",
    "    id_to_audio = {}\n",
    "    for index, row in csv_data.iterrows():\n",
    "        audio_file = os.path.join(audio_dir, f\"{row['id']}.wav\")\n",
    "        if os.path.exists(audio_file):\n",
    "            id_to_audio[row['id']] = audio_file\n",
    "    return id_to_audio"
   ]
  },
  {
   "cell_type": "code",
   "execution_count": 25,
   "metadata": {},
   "outputs": [],
   "source": [
    "def compare_audio(new_audio_path, existing_audios, method='mfcc'):\n",
    "    if not os.path.exists(new_audio_path):\n",
    "     \n",
    "        return False, False, False\n",
    "    \n",
    "    new_sr, new_audio = wavfile.read(new_audio_path)\n",
    "    min_distance = float('inf')\n",
    "    closest_match_id = None\n",
    "\n",
    "    # Calculate MFCC for the new audio\n",
    "    new_mfcc = mfcc(new_audio, samplerate=new_sr)\n",
    "\n",
    "    # Iterate over existing audios\n",
    "    for id_, (existing_sr, existing_audio) in existing_audios.items():\n",
    "        # Check if sample rates are compatible\n",
    "        \n",
    "        # if new_sr == existing_sr:\n",
    "            # Calculate MFCC for the existing audio\n",
    "            existing_mfcc = mfcc(existing_audio, samplerate=existing_sr)\n",
    "            \n",
    "            # Calculate similarity between the new audio and existing audio\n",
    "            if method == 'mfcc':\n",
    "                # Euclidean distance between MFCC vectors\n",
    "                similarity = euclidean(new_mfcc.mean(axis=0), existing_mfcc.mean(axis=0))\n",
    "            # Add other methods here as needed\n",
    "                \n",
    "            else:\n",
    "                raise ValueError(\"Invalid method specified.\")\n",
    "            \n",
    "         \n",
    "            \n",
    "            # If similarity is high enough, consider the audios as matching\n",
    "            if similarity == 0.0:\n",
    "                closest_match_id = id_\n",
    "                break\n",
    "            # found the range smallest\n",
    "            elif similarity < min_distance:\n",
    "                min_distance = similarity\n",
    "                closest_match_id = id_\n",
    "                if id_== 4341:\n",
    "                    break\n",
    "    \n",
    "    return closest_match_id,similarity,new_audio, new_sr"
   ]
  },
  {
   "cell_type": "code",
   "execution_count": 26,
   "metadata": {},
   "outputs": [],
   "source": [
    "# # Function to plot spectrogram\n",
    "# def plot_spectrogram(audio, sr, title):\n",
    "#     plt.figure(figsize=(10, 4))\n",
    "#     # Flatten the audio signal if it's multi-dimensional\n",
    "#     if len(audio.shape) > 1:\n",
    "#         audio = audio.flatten()\n",
    "#     plt.specgram(audio, Fs=sr, cmap='viridis', NFFT=1024, noverlap=512, scale='dB')\n",
    "#     plt.title(title)\n",
    "#     plt.xlabel('Time (s)')\n",
    "#     plt.ylabel('Frequency (Hz)')\n",
    "#     plt.colorbar(label='Intensity (dB)')\n",
    "#     plt.show()"
   ]
  },
  {
   "cell_type": "code",
   "execution_count": 27,
   "metadata": {},
   "outputs": [],
   "source": [
    "# 1. Membaca data1.csv dan mencari nilai species untuk id 57\n",
    "def find_species_for_id(file_path, id_value):\n",
    "    df = pd.read_csv(file_path)\n",
    "    species_value = df.loc[df['id'] == id_value, 'species'].iloc[0]\n",
    "    return species_value"
   ]
  },
  {
   "cell_type": "code",
   "execution_count": 28,
   "metadata": {},
   "outputs": [],
   "source": [
    "def find_data_for_species(file_path, species_name):\n",
    "    df = pd.read_csv(file_path)\n",
    "    result = df.loc[df['Species Name'] == species_name, ['Species Name', 'Disease', 'Danger Level']]\n",
    "    return result.values.tolist()[0] if not result.empty else None"
   ]
  },
  {
   "cell_type": "code",
   "execution_count": 29,
   "metadata": {},
   "outputs": [],
   "source": [
    "import json\n",
    "\n",
    "\n",
    "def processDetect(unique_filename):\n",
    "    start_time = time.time()\n",
    "    \n",
    "    # CSV file location and audio directory\n",
    "    csv_file = r\"E:\\KERJA\\spudniklab\\InsecstopProjeck\\data\\metadata\\data.csv\"\n",
    "    csv_dangerous_species = r\"E:\\KERJA\\spudniklab\\InsecstopProjeck\\data\\metadata\\dangerous_species.csv\"\n",
    "    audio_dir = r\"E:\\KERJA\\spudniklab\\InsecstopProjeck\\data\\audio\"\n",
    "\n",
    "    # Read data from CSV\n",
    "    csv_data = read_csv(csv_file)\n",
    "\n",
    "    # Match IDs with audio file names\n",
    "    id_to_audio = match_audio_files(csv_data, audio_dir)\n",
    "\n",
    "    # Process audio in parallel\n",
    "    with concurrent.futures.ProcessPoolExecutor() as executor:\n",
    "        audio_data = {id_: load_audio(audio_file) for id_, audio_file in id_to_audio.items()}\n",
    "\n",
    "    # Example of new audio\n",
    "    new_audio_path = os.path.join(r\"E:\\KERJA\\spudniklab\\InsecstopProjeck\\upload\", unique_filename) \n",
    "\n",
    "    # Compare new audio with existing audio\n",
    "    closest_match_id,similarity,new_audio, new_sr = compare_audio(new_audio_path, audio_data)\n",
    "    \n",
    "    \n",
    "    if closest_match_id is False:\n",
    "        return json.dumps({\"speciesName\": \"\", \"similarityValue\": 0, \"check_dangerous\": \"\", \"status\": \"file not found\"})\n",
    "    \n",
    "    # Plot spectrogram of new audio\n",
    "    print(\"Spectogram Audio Upload New\")\n",
    "    # plot_spectrogram(new_audio, new_sr, 'New Audio Spectrogram')\n",
    "    \n",
    "    if closest_match_id:\n",
    "        print(f\"New audio is similar to the species with ID: {closest_match_id}.\")\n",
    "        # Check dangerous or not\n",
    "        get_speciesname = find_species_for_id(csv_file, closest_match_id)\n",
    "        print(f\"Species untuk ID {closest_match_id}:\", get_speciesname)\n",
    "        \n",
    "        check_dangerous = find_data_for_species(csv_dangerous_species, get_speciesname)\n",
    "        \n",
    "        if similarity == 0.0:\n",
    "            precentageSimilarity = 1*100\n",
    "        else:\n",
    "            precentageSimilarity = round(similarity) + 20\n",
    "        \n",
    "        print(\"Similarity value:\",precentageSimilarity)\n",
    "        \n",
    "        if check_dangerous:\n",
    "            print(\"Species DANGEROUS\", get_speciesname, \":\", check_dangerous)\n",
    "            return json.dumps({\"speciesName\": get_speciesname, \"similarityValue\": precentageSimilarity, \"check_dangerous\": check_dangerous, \"status\": \"Species found\"})\n",
    "        else:\n",
    "            print(\"Species NOT DANGEROUS \")\n",
    "            return json.dumps({\"speciesName\": get_speciesname, \"similarityValue\": precentageSimilarity, \"check_dangerous\": \"Low\", \"status\": \"Species found\"})\n",
    "        \n",
    "        # Plot spectrogram of the closest matching audio\n",
    "        closest_match_audio = audio_data[closest_match_id][1]\n",
    "        closest_match_sr = audio_data[closest_match_id][0]\n",
    "        \n",
    "        plot_spectrogram(closest_match_audio, closest_match_sr, f'Closest Match ({closest_match_id}) Spectrogram')\n",
    "    else:\n",
    "        print(\"No matching species found.\")\n",
    "        # Jika tidak ada kecocokan, tampilkan spektrogram untuk setiap audio dalam data CSV\n",
    "        for id_, audio_info in audio_data.items():\n",
    "            closest_match_audio = audio_data[id_][1]\n",
    "            closest_match_sr = audio_data[id_][0]\n",
    "            \n",
    "            # plot_spectrogram(closest_match_audio, closest_match_sr, f'Closest Match ({id_}) Spectrogram')\n",
    "        return json.dumps({\"speciesName\": \"\", \"similarityValue\": 0, \"check_dangerous\": \"\", \"status\": \"Species not found\"})\n",
    "    \n",
    "    print(\"Total time:\", time.time() - start_time)"
   ]
  },
  {
   "cell_type": "code",
   "execution_count": 30,
   "metadata": {},
   "outputs": [
    {
     "name": "stderr",
     "output_type": "stream",
     "text": [
      "C:\\Users\\H P\\AppData\\Local\\Temp\\ipykernel_15212\\526435801.py:3: WavFileWarning: Reached EOF prematurely; finished at 1507328 bytes, expected 6088490 bytes from header.\n",
      "  return wavfile.read(audio_file)\n"
     ]
    },
    {
     "name": "stdout",
     "output_type": "stream",
     "text": [
      "Similarty with  ID 199980: 77.14531344842688\n",
      "Similarty with  ID 53: 60.725475748764445\n",
      "Similarty with  ID 57: 63.80109675487992\n",
      "Similarty with  ID 61: 70.26978730693939\n",
      "Similarty with  ID 69: 71.06116698573355\n",
      "Similarty with  ID 56: 62.28136368633523\n",
      "Similarty with  ID 81: 60.997467161338356\n",
      "Similarty with  ID 70: 70.02335442842781\n",
      "Similarty with  ID 86: 62.62880755465109\n",
      "Similarty with  ID 62: 67.27725448077676\n",
      "Similarty with  ID 71: 76.11628463627343\n",
      "Similarty with  ID 72: 56.87148628421151\n",
      "Similarty with  ID 54: 61.34622805449703\n",
      "Similarty with  ID 63: 63.56410692839695\n",
      "Similarty with  ID 73: 61.479765310892006\n",
      "Similarty with  ID 74: 77.14959825602277\n",
      "Similarty with  ID 58: 68.30574908577618\n",
      "Similarty with  ID 75: 74.77601092001922\n",
      "Similarty with  ID 64: 63.19464656064437\n",
      "Similarty with  ID 76: 66.38616149716829\n",
      "Similarty with  ID 55: 78.61740996857698\n",
      "Similarty with  ID 59: 70.28160454956225\n",
      "Similarty with  ID 65: 60.578020188929074\n",
      "Similarty with  ID 77: 64.36076198933345\n",
      "Similarty with  ID 78: 64.99929959420001\n",
      "Similarty with  ID 66: 67.01245367921697\n",
      "Similarty with  ID 79: 68.08053008847835\n",
      "Similarty with  ID 80: 69.10419525652306\n",
      "Similarty with  ID 60: 61.36465464755789\n",
      "Similarty with  ID 67: 68.88801455832719\n",
      "Similarty with  ID 82: 69.48928170129119\n",
      "Similarty with  ID 83: 69.32135112264137\n",
      "Similarty with  ID 68: 70.7443321151196\n",
      "Similarty with  ID 84: 59.39102753121046\n",
      "Similarty with  ID 85: 66.93109760161659\n",
      "Similarty with  ID 110: 61.77996035840371\n",
      "Similarty with  ID 111: 63.92819650748709\n",
      "Similarty with  ID 112: 59.42611038709043\n",
      "Similarty with  ID 113: 63.06452169970787\n",
      "Similarty with  ID 114: 62.6323498049954\n",
      "Similarty with  ID 115: 59.29749070236323\n",
      "Similarty with  ID 87: 52.27450388086589\n",
      "Similarty with  ID 117: 62.47620970521098\n",
      "Similarty with  ID 118: 58.6953249371541\n",
      "Similarty with  ID 89: 57.581195183767\n",
      "Similarty with  ID 119: 62.89808672129365\n",
      "Similarty with  ID 120: 64.79966279234813\n",
      "Similarty with  ID 90: 55.56028776275117\n",
      "Similarty with  ID 121: 63.9329705587709\n",
      "Similarty with  ID 123: 63.48188899472562\n",
      "Similarty with  ID 93: 54.6722757470047\n",
      "Similarty with  ID 126: 55.28768125263719\n",
      "Similarty with  ID 128: 70.44160318400354\n",
      "Similarty with  ID 94: 55.32646399594544\n",
      "Similarty with  ID 135: 60.44958353126015\n",
      "Similarty with  ID 136: 68.99969878999582\n",
      "Similarty with  ID 95: 60.68419577821019\n",
      "Similarty with  ID 137: 62.91578446204542\n",
      "Similarty with  ID 141: 57.28506919251452\n",
      "Similarty with  ID 100: 50.17304610035002\n",
      "Similarty with  ID 142: 58.75101709461054\n",
      "Similarty with  ID 153: 63.87464167056585\n",
      "Similarty with  ID 116: 54.11270999412285\n",
      "Similarty with  ID 107: 61.24163113156265\n",
      "Similarty with  ID 125: 64.49097160808245\n",
      "Similarty with  ID 122: 55.864596280572634\n",
      "Similarty with  ID 132: 67.41613070178832\n",
      "Similarty with  ID 134: 60.40333913100553\n",
      "Similarty with  ID 131: 56.08759948412074\n",
      "Similarty with  ID 146: 61.43836882007099\n",
      "Similarty with  ID 148: 63.24385155712752\n",
      "Similarty with  ID 140: 62.88238948269345\n",
      "Similarty with  ID 150: 63.53787674154395\n",
      "Similarty with  ID 151: 60.53056976596003\n",
      "Similarty with  ID 157: 58.265604709314665\n",
      "Similarty with  ID 154: 60.14415138110876\n",
      "Similarty with  ID 156: 60.13999166169018\n",
      "Similarty with  ID 164: 66.15561626783355\n",
      "Similarty with  ID 159: 59.81934630146901\n",
      "Similarty with  ID 108: 54.31034720092172\n",
      "Similarty with  ID 163: 59.35883359376071\n",
      "Similarty with  ID 124: 56.679446260597246\n",
      "Similarty with  ID 127: 53.83776654884957\n",
      "Similarty with  ID 165: 55.386532517338644\n",
      "Similarty with  ID 129: 67.03331563585641\n",
      "Similarty with  ID 130: 58.41825263438013\n",
      "Similarty with  ID 88: 53.55654277807908\n",
      "Similarty with  ID 133: 56.291912771147004\n",
      "Similarty with  ID 138: 61.95715799425178\n",
      "Similarty with  ID 91: 66.34803398148424\n",
      "Similarty with  ID 139: 63.71349247237787\n",
      "Similarty with  ID 143: 64.32778490345622\n",
      "Similarty with  ID 92: 62.1143701081988\n",
      "Similarty with  ID 144: 64.30255941618655\n",
      "Similarty with  ID 145: 59.11716980156855\n",
      "Similarty with  ID 96: 62.73638405608575\n",
      "Similarty with  ID 147: 63.379948342874435\n",
      "Similarty with  ID 149: 57.22311328735859\n",
      "Similarty with  ID 97: 57.85708830976137\n",
      "Similarty with  ID 152: 58.58719779807516\n",
      "Similarty with  ID 155: 61.868655720473576\n",
      "Similarty with  ID 98: 57.927572140572096\n",
      "Similarty with  ID 158: 59.78079552681446\n",
      "Similarty with  ID 160: 57.45777622269453\n",
      "Similarty with  ID 99: 60.889346055713126\n",
      "Similarty with  ID 161: 60.87292904926888\n",
      "Similarty with  ID 162: 67.25263682002041\n",
      "Similarty with  ID 101: 62.1111771222703\n",
      "Similarty with  ID 102: 69.6502338480558\n",
      "Similarty with  ID 103: 69.56564404625468\n",
      "Similarty with  ID 104: 63.24169510255464\n",
      "Similarty with  ID 105: 63.25897954167642\n",
      "Similarty with  ID 106: 59.264159248010614\n",
      "Similarty with  ID 109: 64.52901213971622\n",
      "Similarty with  ID 180: 58.1395878539125\n",
      "Similarty with  ID 181: 60.085379685220886\n",
      "Similarty with  ID 182: 61.33653992404562\n",
      "Similarty with  ID 183: 62.51797375755066\n",
      "Similarty with  ID 184: 62.61122164373163\n",
      "Similarty with  ID 185: 60.54807503498528\n",
      "Similarty with  ID 186: 62.22989840022356\n",
      "Similarty with  ID 187: 65.00362962439067\n",
      "Similarty with  ID 188: 62.37877494525763\n",
      "Similarty with  ID 189: 63.996233892785504\n",
      "Similarty with  ID 190: 66.27660834529316\n",
      "Similarty with  ID 191: 60.894870428221985\n",
      "Similarty with  ID 192: 62.62273410149923\n",
      "Similarty with  ID 193: 65.68028697165398\n",
      "Similarty with  ID 194: 61.60723727615922\n",
      "Similarty with  ID 195: 65.70115764267582\n",
      "Similarty with  ID 196: 70.56424111062063\n",
      "Similarty with  ID 197: 60.70479466603971\n",
      "Similarty with  ID 198: 61.22089997863679\n",
      "Similarty with  ID 199: 58.31487603213835\n",
      "Similarty with  ID 200: 68.12162134977967\n",
      "Similarty with  ID 201: 63.427602469993005\n",
      "Similarty with  ID 202: 61.75163156615771\n",
      "Similarty with  ID 203: 67.35585080000348\n",
      "Similarty with  ID 204: 63.13493546297077\n",
      "Similarty with  ID 205: 68.37318332544072\n",
      "Similarty with  ID 206: 66.63609000380008\n",
      "Similarty with  ID 207: 62.81071145964923\n",
      "Similarty with  ID 208: 59.322306303995724\n",
      "Similarty with  ID 209: 63.1574851786094\n",
      "Similarty with  ID 212: 68.56028258660112\n",
      "Similarty with  ID 213: 65.81090597500139\n",
      "Similarty with  ID 214: 63.8061501971304\n",
      "Similarty with  ID 215: 63.02413108295397\n",
      "Similarty with  ID 216: 62.8558398136609\n",
      "Similarty with  ID 217: 67.33722016669947\n",
      "Similarty with  ID 218: 62.820652901634276\n",
      "Similarty with  ID 219: 58.687306960693086\n",
      "Similarty with  ID 220: 60.333523534870515\n",
      "Similarty with  ID 210: 61.83189066945302\n",
      "Similarty with  ID 211: 62.2632006690599\n",
      "Similarty with  ID 166: 61.7546028048999\n",
      "Similarty with  ID 167: 60.868347181463115\n",
      "Similarty with  ID 168: 63.715153159431885\n",
      "Similarty with  ID 169: 62.148596654529655\n",
      "Similarty with  ID 170: 59.303129645705766\n",
      "Similarty with  ID 171: 63.183712464441626\n",
      "Similarty with  ID 172: 59.3613083149459\n",
      "Similarty with  ID 173: 65.51046477723715\n",
      "Similarty with  ID 174: 59.375193173767286\n",
      "Similarty with  ID 175: 65.00632880870191\n",
      "Similarty with  ID 176: 63.35306719906192\n",
      "Similarty with  ID 177: 65.51000395150487\n",
      "Similarty with  ID 178: 61.18817187111339\n",
      "Similarty with  ID 179: 62.825061939848545\n",
      "Similarty with  ID 221: 65.03476927686495\n",
      "Similarty with  ID 222: 64.15370300334332\n",
      "Similarty with  ID 223: 60.55444354780427\n",
      "Similarty with  ID 224: 60.35223896044017\n",
      "Similarty with  ID 225: 58.00216503522136\n",
      "Similarty with  ID 226: 59.555867185289564\n",
      "Similarty with  ID 227: 58.354780925166\n",
      "Similarty with  ID 228: 66.60622219738104\n",
      "Similarty with  ID 229: 62.61458501373404\n",
      "Similarty with  ID 230: 68.12719911381586\n",
      "Similarty with  ID 231: 59.81373739960307\n",
      "Similarty with  ID 232: 63.37921625303365\n",
      "Similarty with  ID 233: 55.740602391284646\n",
      "Similarty with  ID 234: 64.25801826148559\n",
      "Similarty with  ID 235: 59.8889435280875\n",
      "Similarty with  ID 236: 63.704614185510195\n",
      "Similarty with  ID 237: 64.22193279861857\n",
      "Similarty with  ID 238: 63.31421279570329\n",
      "Similarty with  ID 239: 64.49481356210224\n",
      "Similarty with  ID 240: 70.25067834083063\n",
      "Similarty with  ID 241: 59.38099726309744\n",
      "Similarty with  ID 242: 69.15049513095776\n",
      "Similarty with  ID 243: 60.160995952027214\n",
      "Similarty with  ID 244: 76.74843154778918\n",
      "Similarty with  ID 245: 64.9349582541262\n",
      "Similarty with  ID 246: 71.28132793636206\n",
      "Similarty with  ID 247: 72.06416492716286\n",
      "Similarty with  ID 248: 62.414436130602176\n",
      "Similarty with  ID 249: 59.76944533476706\n",
      "Similarty with  ID 250: 64.63503836622736\n",
      "Similarty with  ID 251: 68.9522789731857\n",
      "Similarty with  ID 252: 61.17270356441339\n",
      "Similarty with  ID 253: 66.53222337497905\n",
      "Similarty with  ID 254: 61.669577660056994\n",
      "Similarty with  ID 255: 68.10039026117211\n",
      "Similarty with  ID 256: 59.59669244542546\n",
      "Similarty with  ID 257: 66.50054899139717\n",
      "Similarty with  ID 258: 68.39938882723163\n",
      "Similarty with  ID 259: 59.68536676259983\n",
      "Similarty with  ID 260: 80.09502709381101\n",
      "Similarty with  ID 261: 67.69763699769068\n",
      "Similarty with  ID 262: 67.11139237696361\n",
      "Similarty with  ID 263: 64.23626785760628\n",
      "Similarty with  ID 264: 64.33762736854098\n",
      "Similarty with  ID 265: 74.59539435388369\n",
      "Similarty with  ID 266: 64.03210466246203\n",
      "Similarty with  ID 268: 72.06196358422125\n",
      "Similarty with  ID 269: 60.80111592361962\n",
      "Similarty with  ID 270: 64.40408402520919\n",
      "Similarty with  ID 271: 70.31279493924573\n",
      "Similarty with  ID 272: 62.12767208217043\n",
      "Similarty with  ID 273: 69.96463856871434\n",
      "Similarty with  ID 274: 59.127547127463195\n",
      "Similarty with  ID 275: 63.462350313853904\n",
      "Similarty with  ID 267: 71.19074767141583\n",
      "Similarty with  ID 310: 58.922734413868994\n",
      "Similarty with  ID 311: 64.70820807513059\n",
      "Similarty with  ID 312: 62.07275013763593\n",
      "Similarty with  ID 313: 59.31805075575119\n",
      "Similarty with  ID 314: 62.949270441656715\n",
      "Similarty with  ID 315: 63.67594234058234\n",
      "Similarty with  ID 316: 54.98167235064134\n",
      "Similarty with  ID 317: 69.28010791139316\n",
      "Similarty with  ID 318: 74.81225569679594\n",
      "Similarty with  ID 319: 61.66890107026417\n",
      "Similarty with  ID 320: 60.37192492906903\n",
      "Similarty with  ID 321: 62.40819493437239\n",
      "Similarty with  ID 322: 77.63193669073088\n",
      "Similarty with  ID 323: 58.58412826468998\n",
      "Similarty with  ID 324: 58.66267478729453\n",
      "Similarty with  ID 325: 67.91455363871418\n",
      "Similarty with  ID 326: 57.722835039547164\n",
      "Similarty with  ID 327: 61.76310572303872\n",
      "Similarty with  ID 280: 63.59349293386336\n",
      "Similarty with  ID 296: 63.71979474271802\n",
      "Similarty with  ID 276: 61.35699626503319\n",
      "Similarty with  ID 277: 63.13125133970241\n",
      "Similarty with  ID 278: 67.38642120316756\n",
      "Similarty with  ID 279: 65.59399154194071\n",
      "Similarty with  ID 281: 74.74365575155733\n",
      "Similarty with  ID 282: 62.18012320152887\n",
      "Similarty with  ID 283: 66.39714893075669\n",
      "Similarty with  ID 284: 59.97901979170461\n",
      "Similarty with  ID 285: 59.99314460111295\n",
      "Similarty with  ID 286: 63.44797592181565\n",
      "Similarty with  ID 287: 69.6475054122519\n",
      "Similarty with  ID 288: 63.47455645832049\n",
      "Similarty with  ID 289: 58.91621365920827\n",
      "Similarty with  ID 290: 62.44625303639333\n",
      "Similarty with  ID 291: 63.942712400786334\n",
      "Similarty with  ID 292: 63.03703402027319\n",
      "Similarty with  ID 293: 66.34889244757365\n",
      "Similarty with  ID 294: 61.40606201887224\n",
      "Similarty with  ID 295: 60.109174497213836\n",
      "Similarty with  ID 297: 60.011668855753165\n",
      "Similarty with  ID 298: 68.78852622299598\n",
      "Similarty with  ID 299: 73.43841014076885\n",
      "Similarty with  ID 300: 65.47050057372718\n",
      "Similarty with  ID 301: 64.86725623469545\n",
      "Similarty with  ID 302: 62.87214646034108\n",
      "Similarty with  ID 303: 66.98288066441859\n",
      "Similarty with  ID 304: 66.15826272986061\n",
      "Similarty with  ID 305: 57.87475681667194\n",
      "Similarty with  ID 306: 59.06818272528823\n",
      "Similarty with  ID 307: 63.71258164367969\n",
      "Similarty with  ID 308: 71.08110031534747\n",
      "Similarty with  ID 309: 59.93524266134896\n",
      "Similarty with  ID 328: 56.5216211726864\n",
      "Similarty with  ID 329: 57.9916674679022\n",
      "Similarty with  ID 330: 54.47127157217191\n",
      "Similarty with  ID 331: 57.95540209604247\n",
      "Similarty with  ID 332: 56.12576538487731\n",
      "Similarty with  ID 333: 63.88554689535193\n",
      "Similarty with  ID 334: 54.031514936705676\n",
      "Similarty with  ID 335: 59.44665106698404\n",
      "Similarty with  ID 336: 57.211901636397045\n",
      "Similarty with  ID 337: 57.75599870719306\n",
      "Similarty with  ID 338: 61.633509729790475\n",
      "Similarty with  ID 339: 57.11404460806373\n",
      "Similarty with  ID 340: 56.82359419894045\n",
      "Similarty with  ID 341: 64.01574097636014\n",
      "Similarty with  ID 342: 58.19351980443423\n",
      "Similarty with  ID 343: 63.07301576701568\n",
      "Similarty with  ID 344: 59.47686166259274\n",
      "Similarty with  ID 345: 66.54123374569228\n",
      "Similarty with  ID 346: 60.20179204541014\n",
      "Similarty with  ID 347: 74.52666786508469\n",
      "Similarty with  ID 348: 64.12676318139287\n",
      "Similarty with  ID 349: 61.67170418553871\n",
      "Similarty with  ID 350: 60.4530300480995\n",
      "Similarty with  ID 351: 66.02727454133849\n",
      "Similarty with  ID 352: 68.12146421666412\n",
      "Similarty with  ID 353: 67.52831099116749\n",
      "Similarty with  ID 354: 61.629080208413626\n",
      "Similarty with  ID 355: 64.18229061931888\n",
      "Similarty with  ID 356: 63.752168106830744\n",
      "Similarty with  ID 357: 62.467954820338434\n",
      "Similarty with  ID 358: 68.73920845790933\n",
      "Similarty with  ID 359: 66.82746849297423\n",
      "Similarty with  ID 360: 64.3735939067021\n",
      "Similarty with  ID 361: 61.39287245115564\n",
      "Similarty with  ID 362: 60.30105253277511\n",
      "Similarty with  ID 363: 64.4468195206899\n",
      "Similarty with  ID 364: 63.00014539404641\n",
      "Similarty with  ID 365: 65.83295667520531\n",
      "Similarty with  ID 366: 71.2267866047954\n",
      "Similarty with  ID 367: 62.0320351116209\n",
      "Similarty with  ID 368: 68.54176657670075\n",
      "Similarty with  ID 369: 63.627278024903895\n",
      "Similarty with  ID 370: 72.10137214802495\n",
      "Similarty with  ID 371: 62.353285218049244\n",
      "Similarty with  ID 372: 64.45864680500475\n",
      "Similarty with  ID 373: 63.705684717626355\n",
      "Similarty with  ID 374: 60.002275448983596\n",
      "Similarty with  ID 375: 69.04130727053018\n",
      "Similarty with  ID 376: 55.575198622051204\n",
      "Similarty with  ID 377: 60.74357557510788\n",
      "Similarty with  ID 378: 63.72810135861841\n",
      "Similarty with  ID 379: 62.99085837692873\n",
      "Similarty with  ID 380: 63.96073041729778\n",
      "Similarty with  ID 381: 65.65460129907247\n",
      "Similarty with  ID 382: 58.38140084698198\n",
      "Similarty with  ID 383: 59.577879673686\n",
      "Similarty with  ID 384: 64.48654315982279\n",
      "Similarty with  ID 385: 63.06598139936125\n",
      "Similarty with  ID 386: 74.98544312243659\n",
      "Similarty with  ID 387: 61.45669452147712\n",
      "Similarty with  ID 388: 58.67376821743268\n",
      "Similarty with  ID 389: 66.7190713115156\n",
      "Similarty with  ID 390: 63.96703525721362\n",
      "Similarty with  ID 391: 65.1932503215032\n",
      "Similarty with  ID 392: 61.493173854644425\n",
      "Similarty with  ID 393: 60.00511204123406\n",
      "Similarty with  ID 394: 68.10607021315701\n",
      "Similarty with  ID 395: 59.685489611965\n",
      "Similarty with  ID 396: 64.11234920824785\n",
      "Similarty with  ID 397: 73.5853232401679\n",
      "Similarty with  ID 398: 66.66481138501258\n",
      "Similarty with  ID 399: 56.185497993660164\n",
      "Similarty with  ID 400: 51.68499856867076\n",
      "Similarty with  ID 401: 69.02333659504035\n",
      "Similarty with  ID 402: 61.824190149125386\n",
      "Similarty with  ID 403: 64.88384231494605\n",
      "Similarty with  ID 404: 59.05976495264825\n",
      "Similarty with  ID 405: 64.15289586841193\n",
      "Similarty with  ID 406: 59.09643837402208\n",
      "Similarty with  ID 407: 67.60513426038007\n",
      "Similarty with  ID 408: 66.59912725897824\n",
      "Similarty with  ID 409: 64.65196983913657\n",
      "Similarty with  ID 410: 66.71661065486454\n",
      "Similarty with  ID 411: 64.42911823398642\n",
      "Similarty with  ID 412: 70.2181438516193\n",
      "Similarty with  ID 413: 74.6074609737692\n",
      "Similarty with  ID 414: 71.34305398889221\n",
      "Similarty with  ID 415: 64.37547261274206\n",
      "Similarty with  ID 416: 75.5903022537077\n",
      "Similarty with  ID 417: 71.30065015211473\n",
      "Similarty with  ID 418: 62.19131579500647\n",
      "Similarty with  ID 419: 64.6760308843656\n",
      "Similarty with  ID 420: 58.82936905554695\n",
      "Similarty with  ID 421: 61.05497191303991\n",
      "Similarty with  ID 422: 62.567135331600994\n",
      "Similarty with  ID 423: 61.686412429576286\n",
      "Similarty with  ID 424: 65.15954815723208\n",
      "Similarty with  ID 449: 62.7276813057446\n",
      "Similarty with  ID 450: 62.42877782789066\n",
      "Similarty with  ID 451: 58.02983576957658\n",
      "Similarty with  ID 452: 65.1068084966105\n",
      "Similarty with  ID 453: 74.82619612621913\n",
      "Similarty with  ID 454: 56.4912188830841\n",
      "Similarty with  ID 455: 65.89492946237968\n",
      "Similarty with  ID 456: 68.24233353815535\n",
      "Similarty with  ID 457: 69.41033760695305\n",
      "Similarty with  ID 458: 61.219543350048646\n",
      "Similarty with  ID 459: 60.81370261417278\n",
      "Similarty with  ID 460: 61.95831592874605\n",
      "Similarty with  ID 461: 60.791756680918056\n",
      "Similarty with  ID 462: 62.698490863974556\n",
      "Similarty with  ID 463: 61.09859985077255\n",
      "Similarty with  ID 464: 60.68821718812052\n",
      "Similarty with  ID 465: 68.22716852023247\n",
      "Similarty with  ID 466: 66.17126156699926\n",
      "Similarty with  ID 467: 59.148022263856674\n",
      "Similarty with  ID 469: 66.2920681473155\n",
      "Similarty with  ID 470: 61.44723414992396\n",
      "Similarty with  ID 471: 56.846081708486956\n",
      "Similarty with  ID 472: 60.18760588345607\n",
      "Similarty with  ID 473: 58.34297473604887\n",
      "Similarty with  ID 474: 57.520385632401464\n",
      "Similarty with  ID 475: 62.08572196069507\n",
      "Similarty with  ID 476: 58.604324620054754\n",
      "Similarty with  ID 477: 63.501074742237016\n",
      "Similarty with  ID 478: 58.574472430171824\n",
      "Similarty with  ID 479: 68.13380955525611\n",
      "Similarty with  ID 480: 70.70690327845593\n",
      "Similarty with  ID 481: 62.340960761558804\n",
      "Similarty with  ID 482: 60.789036381640344\n",
      "Similarty with  ID 483: 60.87804100088672\n",
      "Similarty with  ID 484: 63.49364307495665\n",
      "Similarty with  ID 485: 59.87046580890056\n",
      "Similarty with  ID 486: 62.43534457943472\n",
      "Similarty with  ID 487: 72.03570931780146\n",
      "Similarty with  ID 488: 71.06781859823157\n",
      "Similarty with  ID 433: 56.99593766834414\n",
      "Similarty with  ID 468: 67.96815221392751\n",
      "Similarty with  ID 425: 70.03674817327222\n",
      "Similarty with  ID 426: 77.1717588349702\n",
      "Similarty with  ID 427: 58.19075477537255\n",
      "Similarty with  ID 428: 58.60032628031817\n",
      "Similarty with  ID 429: 59.88031906480246\n",
      "Similarty with  ID 430: 71.45079247542192\n",
      "Similarty with  ID 431: 55.13056269599491\n",
      "Similarty with  ID 432: 58.54403635335237\n",
      "Similarty with  ID 434: 56.48385687907691\n",
      "Similarty with  ID 435: 64.5090703463892\n",
      "Similarty with  ID 436: 65.92451633717626\n",
      "Similarty with  ID 437: 71.23628706929462\n",
      "Similarty with  ID 438: 64.75939434112664\n",
      "Similarty with  ID 439: 70.83922354699588\n",
      "Similarty with  ID 440: 62.84130139493034\n",
      "Similarty with  ID 441: 64.53604095839891\n",
      "Similarty with  ID 442: 58.526189971621804\n",
      "Similarty with  ID 443: 85.13656628519166\n",
      "Similarty with  ID 444: 58.92051545293452\n",
      "Similarty with  ID 445: 61.52795834578761\n",
      "Similarty with  ID 446: 62.21899279892684\n",
      "Similarty with  ID 447: 67.36951916321274\n",
      "Similarty with  ID 448: 63.413423566773645\n",
      "Similarty with  ID 489: 69.91721205962094\n",
      "Similarty with  ID 490: 57.514260725249635\n",
      "Similarty with  ID 491: 62.38860234668078\n",
      "Similarty with  ID 492: 60.217910027788555\n",
      "Similarty with  ID 493: 59.41064172786016\n",
      "Similarty with  ID 494: 71.30470714048374\n",
      "Similarty with  ID 495: 78.3506789983944\n",
      "Similarty with  ID 496: 74.7903029692028\n",
      "Similarty with  ID 497: 65.13164812142037\n",
      "Similarty with  ID 498: 74.75813519417967\n",
      "Similarty with  ID 499: 72.38372713778297\n",
      "Similarty with  ID 500: 67.6458212959681\n",
      "Similarty with  ID 501: 66.436500339264\n",
      "Similarty with  ID 502: 70.81118313736941\n",
      "Similarty with  ID 503: 75.34873994237884\n",
      "Similarty with  ID 504: 61.6702847788068\n",
      "Similarty with  ID 506: 65.76820568721894\n",
      "Similarty with  ID 507: 63.10042181870922\n",
      "Similarty with  ID 508: 69.17926802433814\n",
      "Similarty with  ID 509: 69.3881589945052\n",
      "Similarty with  ID 510: 60.59591657020221\n",
      "Similarty with  ID 511: 60.730993762407\n",
      "Similarty with  ID 512: 63.045830027326055\n",
      "Similarty with  ID 513: 64.39496940343821\n",
      "Similarty with  ID 514: 63.228305195575885\n",
      "Similarty with  ID 515: 59.74763298622413\n",
      "Similarty with  ID 516: 62.91317104111502\n",
      "Similarty with  ID 517: 61.393904989875985\n",
      "Similarty with  ID 518: 62.19261314826172\n",
      "Similarty with  ID 519: 62.002934466193835\n",
      "Similarty with  ID 520: 70.04589490701318\n",
      "Similarty with  ID 521: 60.042604266954434\n",
      "Similarty with  ID 522: 60.82010410629622\n",
      "Similarty with  ID 523: 66.22490003441891\n",
      "Similarty with  ID 524: 63.12697097166591\n",
      "Similarty with  ID 525: 58.90948275330246\n",
      "Similarty with  ID 526: 60.092546362332875\n",
      "Similarty with  ID 527: 66.60218530062232\n",
      "Similarty with  ID 528: 69.74878119194248\n",
      "Similarty with  ID 529: 64.33649375907196\n",
      "Similarty with  ID 530: 62.74892549380161\n",
      "Similarty with  ID 531: 69.24198934495689\n",
      "Similarty with  ID 532: 74.85527909280223\n",
      "Similarty with  ID 533: 71.4118045093339\n",
      "Similarty with  ID 534: 64.42885175561538\n",
      "Similarty with  ID 535: 69.15146417174272\n",
      "Similarty with  ID 536: 63.91626567906932\n",
      "Similarty with  ID 537: 63.289925490705734\n",
      "Similarty with  ID 538: 71.07910345027754\n",
      "Similarty with  ID 539: 67.90768962399937\n",
      "Similarty with  ID 505: 68.58782301379604\n",
      "Similarty with  ID 540: 59.455912947912466\n",
      "Similarty with  ID 541: 60.51729942613177\n",
      "Similarty with  ID 542: 57.87581451702254\n",
      "Similarty with  ID 543: 62.07728770334664\n",
      "Similarty with  ID 544: 57.079405176693754\n",
      "Similarty with  ID 545: 57.18976810448625\n",
      "Similarty with  ID 546: 57.479748836475196\n",
      "Similarty with  ID 547: 60.666397893695795\n",
      "Similarty with  ID 549: 64.32463543215307\n",
      "Similarty with  ID 550: 57.58779448079217\n",
      "Similarty with  ID 548: 57.60412916214519\n",
      "Similarty with  ID 551: 61.49163555652457\n",
      "Similarty with  ID 552: 59.00908030788654\n",
      "Similarty with  ID 553: 64.36460450012031\n",
      "Similarty with  ID 554: 64.08535678531345\n",
      "Similarty with  ID 555: 65.60393029064339\n",
      "Similarty with  ID 556: 64.45453175955971\n",
      "Similarty with  ID 557: 66.77102774898994\n",
      "Similarty with  ID 558: 64.4132821595467\n",
      "Similarty with  ID 559: 63.41810007110138\n",
      "Similarty with  ID 560: 60.67144815813127\n",
      "Similarty with  ID 561: 61.56277332293692\n",
      "Similarty with  ID 562: 61.662536695318906\n",
      "Similarty with  ID 563: 60.00212940634535\n",
      "Similarty with  ID 564: 59.51385978601622\n",
      "Similarty with  ID 565: 61.72960416970554\n",
      "Similarty with  ID 566: 65.4374691257458\n",
      "Similarty with  ID 567: 58.52110821359599\n",
      "Similarty with  ID 568: 69.09449837538196\n",
      "Similarty with  ID 569: 60.13998157477803\n",
      "Similarty with  ID 570: 56.98497710948795\n",
      "Similarty with  ID 571: 57.828267223333874\n",
      "Similarty with  ID 572: 66.38295164994595\n",
      "Similarty with  ID 573: 63.87167265471161\n",
      "Similarty with  ID 574: 58.979300712230156\n",
      "Similarty with  ID 575: 64.07456351607367\n",
      "Similarty with  ID 576: 61.44588403029137\n",
      "Similarty with  ID 577: 59.62488356730529\n",
      "Similarty with  ID 578: 64.04331587992877\n",
      "Similarty with  ID 579: 61.77889450527953\n",
      "Similarty with  ID 580: 61.189247339041955\n",
      "Similarty with  ID 581: 60.57310755005057\n",
      "Similarty with  ID 582: 58.559235674958856\n",
      "Similarty with  ID 583: 60.36344025023586\n",
      "Similarty with  ID 584: 62.24282382514884\n",
      "Similarty with  ID 585: 58.87055920826918\n",
      "Similarty with  ID 586: 57.933757773573184\n",
      "Similarty with  ID 587: 65.25126103410595\n",
      "Similarty with  ID 588: 60.70169751340757\n",
      "Similarty with  ID 589: 65.5743854896544\n",
      "Similarty with  ID 222691: 53.090286718303545\n",
      "Similarty with  ID 222692: 53.00426628414367\n",
      "Similarty with  ID 222693: 55.30922436167479\n",
      "Similarty with  ID 222694: 55.27040213546241\n",
      "Similarty with  ID 222695: 55.084592263812276\n",
      "Similarty with  ID 222696: 55.028845767512\n",
      "Similarty with  ID 222697: 55.0317441159447\n",
      "Similarty with  ID 222698: 53.46655875904339\n",
      "Similarty with  ID 222699: 55.06889635368917\n",
      "Similarty with  ID 222700: 54.69995614252259\n",
      "Similarty with  ID 222701: 54.94844772137476\n",
      "Similarty with  ID 222702: 54.90532359873971\n",
      "Similarty with  ID 222703: 53.734032060412375\n",
      "Similarty with  ID 222704: 54.660081397820534\n",
      "Similarty with  ID 222705: 54.96263480606238\n",
      "Similarty with  ID 222706: 55.115586433520804\n",
      "Similarty with  ID 222707: 50.86309296068216\n",
      "Similarty with  ID 222708: 50.85193599317744\n",
      "Similarty with  ID 222709: 50.475450688006035\n",
      "Similarty with  ID 222710: 52.021174308814686\n",
      "Similarty with  ID 222669: 57.819087013880264\n",
      "Similarty with  ID 222670: 48.34203652844329\n",
      "Similarty with  ID 199884: 50.794620246148895\n",
      "Similarty with  ID 199885: 49.1715634579941\n",
      "Similarty with  ID 222644: 48.182573505383886\n",
      "Similarty with  ID 222645: 47.25917522606882\n",
      "Similarty with  ID 199886: 48.62853036366259\n",
      "Similarty with  ID 199887: 50.090341200135384\n",
      "Similarty with  ID 222622: 48.719756037281755\n",
      "Similarty with  ID 222623: 48.40439257618948\n",
      "Similarty with  ID 222624: 48.82239006373345\n",
      "Similarty with  ID 222625: 52.39297812492324\n",
      "Similarty with  ID 199888: 53.95985630773564\n",
      "Similarty with  ID 199889: 53.73693728811729\n",
      "Similarty with  ID 199890: 49.95406070813427\n",
      "Similarty with  ID 199891: 47.52257484242301\n",
      "Similarty with  ID 199897: 47.05795504888546\n",
      "Similarty with  ID 199893: 48.02858902084273\n",
      "Similarty with  ID 222648: 48.55772108648502\n",
      "Similarty with  ID 222649: 48.391950517177555\n",
      "Similarty with  ID 222650: 49.07611016062371\n",
      "Similarty with  ID 222651: 49.132617629967555\n",
      "Similarty with  ID 222652: 48.62073455007035\n",
      "Similarty with  ID 222653: 48.46353519961053\n",
      "Similarty with  ID 222654: 50.88612191868187\n",
      "Similarty with  ID 199898: 48.82552150171156\n",
      "Similarty with  ID 199899: 47.38574112897015\n",
      "Similarty with  ID 199892: 48.63498839530635\n",
      "Similarty with  ID 199894: 49.04704069029818\n",
      "Similarty with  ID 199895: 48.348011171602266\n",
      "Similarty with  ID 199896: 47.85536294442873\n",
      "Similarty with  ID 222711: 49.4581198487741\n",
      "Similarty with  ID 222674: 76.31634928296288\n",
      "Similarty with  ID 222675: 74.26427792042215\n",
      "Similarty with  ID 199900: 49.61447387266198\n",
      "Similarty with  ID 199901: 51.82420809883012\n",
      "Similarty with  ID 199902: 53.490840353071924\n",
      "Similarty with  ID 199904: 52.161821773276074\n",
      "Similarty with  ID 222626: 51.56082910523889\n",
      "Similarty with  ID 222627: 55.59729962200003\n",
      "Similarty with  ID 222628: 64.51700414252306\n",
      "Similarty with  ID 222629: 49.62613344923093\n",
      "Similarty with  ID 199903: 48.90040076560606\n",
      "Similarty with  ID 199905: 53.8996960884983\n",
      "Similarty with  ID 222676: 50.66918450282418\n",
      "Similarty with  ID 222678: 87.1145132127628\n",
      "Similarty with  ID 222679: 86.13792935247056\n",
      "Similarty with  ID 222677: 50.768571088146615\n",
      "Similarty with  ID 199906: 51.371381510358546\n",
      "Similarty with  ID 199907: 52.941605720448216\n",
      "Similarty with  ID 199908: 54.7102970866895\n",
      "Similarty with  ID 199909: 51.098898279747885\n",
      "Similarty with  ID 222680: 51.47148790986913\n",
      "Similarty with  ID 222681: 51.817687807769275\n",
      "Similarty with  ID 199910: 53.232206963751\n",
      "Similarty with  ID 199911: 51.89309737313066\n",
      "Similarty with  ID 199913: 49.38076053069247\n",
      "Similarty with  ID 222637: 48.96176621661894\n",
      "Similarty with  ID 222638: 64.39731059302333\n",
      "Similarty with  ID 222639: 81.51186949756469\n",
      "Similarty with  ID 222640: 49.02223551572978\n",
      "Similarty with  ID 222641: 48.628042117892335\n",
      "Similarty with  ID 199912: 48.64722521921248\n",
      "Similarty with  ID 199914: 50.975049244632515\n",
      "Similarty with  ID 199915: 49.87132460944903\n",
      "Similarty with  ID 222643: 50.91922338636514\n",
      "Similarty with  ID 222642: 50.2218045059015\n",
      "Similarty with  ID 199916: 50.16515199268834\n",
      "Similarty with  ID 199917: 47.91775735656928\n",
      "Similarty with  ID 222658: 48.561075662719425\n",
      "Similarty with  ID 222659: 49.174210939580384\n",
      "Similarty with  ID 222660: 49.158536329194355\n",
      "Similarty with  ID 222661: 49.61962265620353\n",
      "Similarty with  ID 199918: 49.406400712018254\n",
      "Similarty with  ID 199919: 49.81925258530452\n",
      "Similarty with  ID 199921: 52.83984560894139\n",
      "Similarty with  ID 222663: 48.484367636386004\n",
      "Similarty with  ID 222664: 50.33741319367037\n",
      "Similarty with  ID 222665: 53.050857618434534\n",
      "Similarty with  ID 199920: 49.07540955518253\n",
      "Similarty with  ID 199922: 51.464078720441954\n",
      "Similarty with  ID 222633: 48.98191802877328\n",
      "Similarty with  ID 222636: 49.8085460533173\n",
      "Similarty with  ID 199923: 50.15017680413609\n",
      "Similarty with  ID 199924: 49.09737577661091\n",
      "Similarty with  ID 199925: 52.167644056882935\n",
      "Similarty with  ID 199926: 49.051002922822285\n",
      "Similarty with  ID 222635: 53.52248282474469\n",
      "Similarty with  ID 222634: 51.14230867524112\n",
      "Similarty with  ID 222631: 49.58311302100077\n",
      "Similarty with  ID 222630: 50.55089295313185\n",
      "Similarty with  ID 199927: 48.00959511421889\n",
      "Similarty with  ID 199928: 49.21028060515381\n",
      "Similarty with  ID 222671: 49.545307416497394\n",
      "Similarty with  ID 199929: 49.00754693621502\n",
      "Similarty with  ID 199930: 55.346773311041225\n",
      "Similarty with  ID 222667: 50.58345444718032\n",
      "Similarty with  ID 222666: 51.143505930089376\n",
      "Similarty with  ID 199932: 51.70343984658512\n",
      "Similarty with  ID 199933: 50.68674258536184\n",
      "Similarty with  ID 199931: 51.495197683067566\n",
      "Similarty with  ID 199934: 50.944736949589746\n",
      "Similarty with  ID 199936: 49.11108553025476\n",
      "Similarty with  ID 222662: 49.7890409737941\n",
      "Similarty with  ID 199935: 49.60971133567401\n",
      "Similarty with  ID 199937: 52.29553958890815\n",
      "Similarty with  ID 222712: 54.2936539808045\n",
      "Similarty with  ID 222713: 52.93555473161537\n",
      "Similarty with  ID 222714: 51.84852799559809\n",
      "Similarty with  ID 222715: 52.710558847683394\n",
      "Similarty with  ID 222632: 54.03304366459425\n",
      "Similarty with  ID 199938: 51.840182120524595\n",
      "Similarty with  ID 222716: 53.024322197597314\n",
      "Similarty with  ID 222717: 51.25310223866721\n",
      "Similarty with  ID 199939: 56.918839704727574\n",
      "Similarty with  ID 222655: 52.7169683191137\n",
      "Similarty with  ID 199940: 56.955672084718316\n",
      "Similarty with  ID 222672: 51.64525559143897\n",
      "Similarty with  ID 222673: 50.30981303078605\n",
      "Similarty with  ID 199941: 51.65935321818449\n",
      "Similarty with  ID 199942: 50.76208958654745\n",
      "Similarty with  ID 199943: 52.57643285700962\n",
      "Similarty with  ID 222684: 53.10627078015915\n",
      "Similarty with  ID 222685: 51.70971350950782\n",
      "Similarty with  ID 222683: 56.41653407178424\n",
      "Similarty with  ID 222646: 51.185101837553006\n",
      "Similarty with  ID 222647: 51.47753765372206\n",
      "Similarty with  ID 199944: 53.31760788334204\n",
      "Similarty with  ID 222686: 54.38326727065513\n",
      "Similarty with  ID 222718: 52.94948013687053\n",
      "Similarty with  ID 222688: 53.66971157714792\n",
      "Similarty with  ID 222687: 53.79534629398189\n",
      "Similarty with  ID 222689: 53.58337301859426\n",
      "Similarty with  ID 222690: 51.080108436407976\n",
      "Similarty with  ID 222656: 49.47295676338096\n",
      "Similarty with  ID 222657: 52.57290468022531\n",
      "Similarty with  ID 199945: 53.41903659768751\n"
     ]
    },
    {
     "name": "stderr",
     "output_type": "stream",
     "text": [
      "WARNING:root:frame length (1103) is greater than FFT size (512), frame will be truncated. Increase NFFT to avoid.\n"
     ]
    },
    {
     "name": "stdout",
     "output_type": "stream",
     "text": [
      "Similarty with  ID 606: 60.35253147370953\n"
     ]
    },
    {
     "name": "stderr",
     "output_type": "stream",
     "text": [
      "WARNING:root:frame length (1103) is greater than FFT size (512), frame will be truncated. Increase NFFT to avoid.\n"
     ]
    },
    {
     "name": "stdout",
     "output_type": "stream",
     "text": [
      "Similarty with  ID 602: 69.00043992756349\n"
     ]
    },
    {
     "name": "stderr",
     "output_type": "stream",
     "text": [
      "WARNING:root:frame length (1103) is greater than FFT size (512), frame will be truncated. Increase NFFT to avoid.\n"
     ]
    },
    {
     "name": "stdout",
     "output_type": "stream",
     "text": [
      "Similarty with  ID 598: 67.35800631777772\n"
     ]
    },
    {
     "name": "stderr",
     "output_type": "stream",
     "text": [
      "WARNING:root:frame length (1103) is greater than FFT size (512), frame will be truncated. Increase NFFT to avoid.\n",
      "WARNING:root:frame length (1103) is greater than FFT size (512), frame will be truncated. Increase NFFT to avoid.\n",
      "WARNING:root:frame length (1103) is greater than FFT size (512), frame will be truncated. Increase NFFT to avoid.\n"
     ]
    },
    {
     "name": "stdout",
     "output_type": "stream",
     "text": [
      "Similarty with  ID 591: 75.88010933858071\n",
      "Similarty with  ID 590: 67.50093729244963\n",
      "Similarty with  ID 592: 71.06080494621744\n"
     ]
    },
    {
     "name": "stderr",
     "output_type": "stream",
     "text": [
      "WARNING:root:frame length (1103) is greater than FFT size (512), frame will be truncated. Increase NFFT to avoid.\n",
      "WARNING:root:frame length (1103) is greater than FFT size (512), frame will be truncated. Increase NFFT to avoid.\n",
      "WARNING:root:frame length (1103) is greater than FFT size (512), frame will be truncated. Increase NFFT to avoid.\n",
      "WARNING:root:frame length (1103) is greater than FFT size (512), frame will be truncated. Increase NFFT to avoid.\n"
     ]
    },
    {
     "name": "stdout",
     "output_type": "stream",
     "text": [
      "Similarty with  ID 593: 72.25022371185113\n",
      "Similarty with  ID 594: 73.0995785615302\n",
      "Similarty with  ID 595: 75.49480187240924\n",
      "Similarty with  ID 596: 71.56200744780313\n"
     ]
    },
    {
     "name": "stderr",
     "output_type": "stream",
     "text": [
      "WARNING:root:frame length (1103) is greater than FFT size (512), frame will be truncated. Increase NFFT to avoid.\n",
      "WARNING:root:frame length (1103) is greater than FFT size (512), frame will be truncated. Increase NFFT to avoid.\n"
     ]
    },
    {
     "name": "stdout",
     "output_type": "stream",
     "text": [
      "Similarty with  ID 597: 71.22541841438576\n",
      "Similarty with  ID 599: 70.94367853102177\n"
     ]
    },
    {
     "name": "stderr",
     "output_type": "stream",
     "text": [
      "WARNING:root:frame length (1103) is greater than FFT size (512), frame will be truncated. Increase NFFT to avoid.\n"
     ]
    },
    {
     "name": "stdout",
     "output_type": "stream",
     "text": [
      "Similarty with  ID 600: 71.71462833075144\n"
     ]
    },
    {
     "name": "stderr",
     "output_type": "stream",
     "text": [
      "WARNING:root:frame length (1103) is greater than FFT size (512), frame will be truncated. Increase NFFT to avoid.\n",
      "WARNING:root:frame length (1103) is greater than FFT size (512), frame will be truncated. Increase NFFT to avoid.\n"
     ]
    },
    {
     "name": "stdout",
     "output_type": "stream",
     "text": [
      "Similarty with  ID 601: 71.11864422013836\n"
     ]
    },
    {
     "name": "stderr",
     "output_type": "stream",
     "text": [
      "WARNING:root:frame length (1103) is greater than FFT size (512), frame will be truncated. Increase NFFT to avoid.\n"
     ]
    },
    {
     "name": "stdout",
     "output_type": "stream",
     "text": [
      "Similarty with  ID 603: 60.14670257611774\n",
      "Similarty with  ID 604: 69.72019158396259\n"
     ]
    },
    {
     "name": "stderr",
     "output_type": "stream",
     "text": [
      "WARNING:root:frame length (1103) is greater than FFT size (512), frame will be truncated. Increase NFFT to avoid.\n",
      "WARNING:root:frame length (1103) is greater than FFT size (512), frame will be truncated. Increase NFFT to avoid.\n",
      "WARNING:root:frame length (1103) is greater than FFT size (512), frame will be truncated. Increase NFFT to avoid.\n"
     ]
    },
    {
     "name": "stdout",
     "output_type": "stream",
     "text": [
      "Similarty with  ID 605: 70.21901381381326\n",
      "Similarty with  ID 607: 66.09962299484586\n"
     ]
    },
    {
     "name": "stderr",
     "output_type": "stream",
     "text": [
      "WARNING:root:frame length (1103) is greater than FFT size (512), frame will be truncated. Increase NFFT to avoid.\n"
     ]
    },
    {
     "name": "stdout",
     "output_type": "stream",
     "text": [
      "Similarty with  ID 640: 50.18148912504045\n",
      "Similarty with  ID 612: 75.4382026332213\n"
     ]
    },
    {
     "name": "stderr",
     "output_type": "stream",
     "text": [
      "WARNING:root:frame length (1103) is greater than FFT size (512), frame will be truncated. Increase NFFT to avoid.\n",
      "WARNING:root:frame length (1103) is greater than FFT size (512), frame will be truncated. Increase NFFT to avoid.\n",
      "WARNING:root:frame length (1103) is greater than FFT size (512), frame will be truncated. Increase NFFT to avoid.\n"
     ]
    },
    {
     "name": "stdout",
     "output_type": "stream",
     "text": [
      "Similarty with  ID 638: 47.23161202129543\n",
      "Similarty with  ID 609: 64.16094781500786\n",
      "Similarty with  ID 636: 50.046405766838966\n"
     ]
    },
    {
     "name": "stderr",
     "output_type": "stream",
     "text": [
      "WARNING:root:frame length (1103) is greater than FFT size (512), frame will be truncated. Increase NFFT to avoid.\n",
      "WARNING:root:frame length (1103) is greater than FFT size (512), frame will be truncated. Increase NFFT to avoid.\n"
     ]
    },
    {
     "name": "stdout",
     "output_type": "stream",
     "text": [
      "Similarty with  ID 611: 71.87013096356142\n",
      "Similarty with  ID 618: 50.05020095356505\n"
     ]
    },
    {
     "name": "stderr",
     "output_type": "stream",
     "text": [
      "WARNING:root:frame length (1103) is greater than FFT size (512), frame will be truncated. Increase NFFT to avoid.\n",
      "WARNING:root:frame length (1103) is greater than FFT size (512), frame will be truncated. Increase NFFT to avoid.\n",
      "WARNING:root:frame length (1103) is greater than FFT size (512), frame will be truncated. Increase NFFT to avoid.\n"
     ]
    },
    {
     "name": "stdout",
     "output_type": "stream",
     "text": [
      "Similarty with  ID 614: 70.66829189458876\n",
      "Similarty with  ID 634: 49.45961814677115\n",
      "Similarty with  ID 616: 71.46473740535166\n"
     ]
    },
    {
     "name": "stderr",
     "output_type": "stream",
     "text": [
      "WARNING:root:frame length (1103) is greater than FFT size (512), frame will be truncated. Increase NFFT to avoid.\n",
      "WARNING:root:frame length (1103) is greater than FFT size (512), frame will be truncated. Increase NFFT to avoid.\n"
     ]
    },
    {
     "name": "stdout",
     "output_type": "stream",
     "text": [
      "Similarty with  ID 617: 46.52944702858052\n",
      "Similarty with  ID 619: 73.8751798610585\n"
     ]
    },
    {
     "name": "stderr",
     "output_type": "stream",
     "text": [
      "WARNING:root:frame length (1103) is greater than FFT size (512), frame will be truncated. Increase NFFT to avoid.\n"
     ]
    },
    {
     "name": "stdout",
     "output_type": "stream",
     "text": [
      "Similarty with  ID 615: 50.19732708921536\n"
     ]
    },
    {
     "name": "stderr",
     "output_type": "stream",
     "text": [
      "WARNING:root:frame length (1103) is greater than FFT size (512), frame will be truncated. Increase NFFT to avoid.\n"
     ]
    },
    {
     "name": "stdout",
     "output_type": "stream",
     "text": [
      "Similarty with  ID 621: 68.60641782821338\n"
     ]
    },
    {
     "name": "stderr",
     "output_type": "stream",
     "text": [
      "WARNING:root:frame length (1103) is greater than FFT size (512), frame will be truncated. Increase NFFT to avoid.\n",
      "WARNING:root:frame length (1103) is greater than FFT size (512), frame will be truncated. Increase NFFT to avoid.\n",
      "WARNING:root:frame length (1103) is greater than FFT size (512), frame will be truncated. Increase NFFT to avoid.\n"
     ]
    },
    {
     "name": "stdout",
     "output_type": "stream",
     "text": [
      "Similarty with  ID 613: 48.649661183780836\n",
      "Similarty with  ID 625: 71.82439318007455\n"
     ]
    },
    {
     "name": "stderr",
     "output_type": "stream",
     "text": [
      "WARNING:root:frame length (1103) is greater than FFT size (512), frame will be truncated. Increase NFFT to avoid.\n"
     ]
    },
    {
     "name": "stdout",
     "output_type": "stream",
     "text": [
      "Similarty with  ID 608: 49.86911253098448\n",
      "Similarty with  ID 627: 67.37265648099049\n"
     ]
    },
    {
     "name": "stderr",
     "output_type": "stream",
     "text": [
      "WARNING:root:frame length (1103) is greater than FFT size (512), frame will be truncated. Increase NFFT to avoid.\n"
     ]
    },
    {
     "name": "stdout",
     "output_type": "stream",
     "text": [
      "Similarty with  ID 610: 48.004525325951484\n"
     ]
    },
    {
     "name": "stderr",
     "output_type": "stream",
     "text": [
      "WARNING:root:frame length (1103) is greater than FFT size (512), frame will be truncated. Increase NFFT to avoid.\n",
      "WARNING:root:frame length (1103) is greater than FFT size (512), frame will be truncated. Increase NFFT to avoid.\n"
     ]
    },
    {
     "name": "stdout",
     "output_type": "stream",
     "text": [
      "Similarty with  ID 629: 69.19312874894302\n",
      "Similarty with  ID 620: 46.694242374431674\n"
     ]
    },
    {
     "name": "stderr",
     "output_type": "stream",
     "text": [
      "WARNING:root:frame length (1103) is greater than FFT size (512), frame will be truncated. Increase NFFT to avoid.\n",
      "WARNING:root:frame length (1103) is greater than FFT size (512), frame will be truncated. Increase NFFT to avoid.\n"
     ]
    },
    {
     "name": "stdout",
     "output_type": "stream",
     "text": [
      "Similarty with  ID 633: 72.56499378289534\n",
      "Similarty with  ID 628: 50.83360854849887\n"
     ]
    },
    {
     "name": "stderr",
     "output_type": "stream",
     "text": [
      "WARNING:root:frame length (1103) is greater than FFT size (512), frame will be truncated. Increase NFFT to avoid.\n",
      "WARNING:root:frame length (1103) is greater than FFT size (512), frame will be truncated. Increase NFFT to avoid.\n",
      "WARNING:root:frame length (1103) is greater than FFT size (512), frame will be truncated. Increase NFFT to avoid.\n",
      "WARNING:root:frame length (1103) is greater than FFT size (512), frame will be truncated. Increase NFFT to avoid.\n"
     ]
    },
    {
     "name": "stdout",
     "output_type": "stream",
     "text": [
      "Similarty with  ID 635: 69.67123050295933\n",
      "Similarty with  ID 626: 46.032742449515275\n",
      "Similarty with  ID 637: 67.9094061890973\n"
     ]
    },
    {
     "name": "stderr",
     "output_type": "stream",
     "text": [
      "WARNING:root:frame length (1103) is greater than FFT size (512), frame will be truncated. Increase NFFT to avoid.\n"
     ]
    },
    {
     "name": "stdout",
     "output_type": "stream",
     "text": [
      "Similarty with  ID 622: 45.53514278166726\n",
      "Similarty with  ID 641: 67.2695032520272\n"
     ]
    },
    {
     "name": "stderr",
     "output_type": "stream",
     "text": [
      "WARNING:root:frame length (1103) is greater than FFT size (512), frame will be truncated. Increase NFFT to avoid.\n",
      "WARNING:root:frame length (1103) is greater than FFT size (512), frame will be truncated. Increase NFFT to avoid.\n",
      "WARNING:root:frame length (1103) is greater than FFT size (512), frame will be truncated. Increase NFFT to avoid.\n",
      "WARNING:root:frame length (1103) is greater than FFT size (512), frame will be truncated. Increase NFFT to avoid.\n"
     ]
    },
    {
     "name": "stdout",
     "output_type": "stream",
     "text": [
      "Similarty with  ID 624: 47.33269814556176\n",
      "Similarty with  ID 643: 71.38528754830276\n",
      "Similarty with  ID 632: 51.45972369770309\n"
     ]
    },
    {
     "name": "stderr",
     "output_type": "stream",
     "text": [
      "WARNING:root:frame length (1103) is greater than FFT size (512), frame will be truncated. Increase NFFT to avoid.\n",
      "WARNING:root:frame length (1103) is greater than FFT size (512), frame will be truncated. Increase NFFT to avoid.\n"
     ]
    },
    {
     "name": "stdout",
     "output_type": "stream",
     "text": [
      "Similarty with  ID 645: 63.70802765718624\n",
      "Similarty with  ID 630: 54.79257735574683\n",
      "Similarty with  ID 647: 70.98769814993216\n"
     ]
    },
    {
     "name": "stderr",
     "output_type": "stream",
     "text": [
      "WARNING:root:frame length (1103) is greater than FFT size (512), frame will be truncated. Increase NFFT to avoid.\n",
      "WARNING:root:frame length (1103) is greater than FFT size (512), frame will be truncated. Increase NFFT to avoid.\n",
      "WARNING:root:frame length (1103) is greater than FFT size (512), frame will be truncated. Increase NFFT to avoid.\n",
      "WARNING:root:frame length (1103) is greater than FFT size (512), frame will be truncated. Increase NFFT to avoid.\n",
      "WARNING:root:frame length (1103) is greater than FFT size (512), frame will be truncated. Increase NFFT to avoid.\n"
     ]
    },
    {
     "name": "stdout",
     "output_type": "stream",
     "text": [
      "Similarty with  ID 654: 49.019494525552986\n",
      "Similarty with  ID 649: 67.6290184107195\n",
      "Similarty with  ID 657: 59.91437163238079\n",
      "Similarty with  ID 651: 72.15397945785648\n",
      "Similarty with  ID 652: 49.65374243252057\n"
     ]
    },
    {
     "name": "stderr",
     "output_type": "stream",
     "text": [
      "WARNING:root:frame length (1103) is greater than FFT size (512), frame will be truncated. Increase NFFT to avoid.\n",
      "WARNING:root:frame length (1103) is greater than FFT size (512), frame will be truncated. Increase NFFT to avoid.\n",
      "WARNING:root:frame length (1103) is greater than FFT size (512), frame will be truncated. Increase NFFT to avoid.\n",
      "WARNING:root:frame length (1103) is greater than FFT size (512), frame will be truncated. Increase NFFT to avoid.\n",
      "WARNING:root:frame length (1103) is greater than FFT size (512), frame will be truncated. Increase NFFT to avoid.\n"
     ]
    },
    {
     "name": "stdout",
     "output_type": "stream",
     "text": [
      "Similarty with  ID 653: 67.88868470503911\n",
      "Similarty with  ID 644: 49.6307446529719\n",
      "Similarty with  ID 639: 68.98013570505832\n",
      "Similarty with  ID 642: 51.84886775014706\n"
     ]
    },
    {
     "name": "stderr",
     "output_type": "stream",
     "text": [
      "WARNING:root:frame length (1103) is greater than FFT size (512), frame will be truncated. Increase NFFT to avoid.\n",
      "WARNING:root:frame length (1103) is greater than FFT size (512), frame will be truncated. Increase NFFT to avoid.\n",
      "WARNING:root:frame length (1103) is greater than FFT size (512), frame will be truncated. Increase NFFT to avoid.\n",
      "WARNING:root:frame length (1103) is greater than FFT size (512), frame will be truncated. Increase NFFT to avoid.\n",
      "WARNING:root:frame length (1103) is greater than FFT size (512), frame will be truncated. Increase NFFT to avoid.\n"
     ]
    },
    {
     "name": "stdout",
     "output_type": "stream",
     "text": [
      "Similarty with  ID 655: 70.21417778210198\n",
      "Similarty with  ID 650: 48.59028725021327\n",
      "Similarty with  ID 631: 73.29903280505738\n",
      "Similarty with  ID 648: 48.89587878588108\n",
      "Similarty with  ID 623: 72.39096293078126\n",
      "Similarty with  ID 656: 48.01282222419684\n"
     ]
    },
    {
     "name": "stderr",
     "output_type": "stream",
     "text": [
      "WARNING:root:frame length (1103) is greater than FFT size (512), frame will be truncated. Increase NFFT to avoid.\n",
      "WARNING:root:frame length (1103) is greater than FFT size (512), frame will be truncated. Increase NFFT to avoid.\n",
      "WARNING:root:frame length (1103) is greater than FFT size (512), frame will be truncated. Increase NFFT to avoid.\n",
      "WARNING:root:frame length (1103) is greater than FFT size (512), frame will be truncated. Increase NFFT to avoid.\n",
      "WARNING:root:frame length (1103) is greater than FFT size (512), frame will be truncated. Increase NFFT to avoid.\n"
     ]
    },
    {
     "name": "stdout",
     "output_type": "stream",
     "text": [
      "Similarty with  ID 646: 48.62328938972013\n",
      "Similarty with  ID 659: 65.1810156795371\n",
      "Similarty with  ID 733: 71.03818130242549\n",
      "Similarty with  ID 661: 58.46056671493828\n",
      "Similarty with  ID 667: 52.810110496659966\n"
     ]
    },
    {
     "name": "stderr",
     "output_type": "stream",
     "text": [
      "WARNING:root:frame length (1103) is greater than FFT size (512), frame will be truncated. Increase NFFT to avoid.\n",
      "WARNING:root:frame length (1103) is greater than FFT size (512), frame will be truncated. Increase NFFT to avoid.\n",
      "WARNING:root:frame length (1103) is greater than FFT size (512), frame will be truncated. Increase NFFT to avoid.\n",
      "WARNING:root:frame length (1103) is greater than FFT size (512), frame will be truncated. Increase NFFT to avoid.\n",
      "WARNING:root:frame length (1103) is greater than FFT size (512), frame will be truncated. Increase NFFT to avoid.\n",
      "WARNING:root:frame length (1103) is greater than FFT size (512), frame will be truncated. Increase NFFT to avoid.\n",
      "WARNING:root:frame length (1103) is greater than FFT size (512), frame will be truncated. Increase NFFT to avoid.\n"
     ]
    },
    {
     "name": "stdout",
     "output_type": "stream",
     "text": [
      "Similarty with  ID 663: 65.19370794739055\n",
      "Similarty with  ID 662: 49.12144288866102\n",
      "Similarty with  ID 665: 36.16903667885495\n",
      "Similarty with  ID 660: 49.41509640951387\n",
      "Similarty with  ID 666: 38.857645538253074\n",
      "Similarty with  ID 658: 49.08271522902974\n",
      "Similarty with  ID 668: 66.67847973560013\n"
     ]
    },
    {
     "name": "stderr",
     "output_type": "stream",
     "text": [
      "WARNING:root:frame length (1103) is greater than FFT size (512), frame will be truncated. Increase NFFT to avoid.\n",
      "WARNING:root:frame length (1103) is greater than FFT size (512), frame will be truncated. Increase NFFT to avoid.\n",
      "WARNING:root:frame length (1103) is greater than FFT size (512), frame will be truncated. Increase NFFT to avoid.\n",
      "WARNING:root:frame length (1103) is greater than FFT size (512), frame will be truncated. Increase NFFT to avoid.\n",
      "WARNING:root:frame length (1103) is greater than FFT size (512), frame will be truncated. Increase NFFT to avoid.\n"
     ]
    },
    {
     "name": "stdout",
     "output_type": "stream",
     "text": [
      "Similarty with  ID 709: 44.60787233013944\n",
      "Similarty with  ID 671: 69.52489818193442\n",
      "Similarty with  ID 707: 52.93560949801575\n",
      "Similarty with  ID 673: 55.97365037683828\n",
      "Similarty with  ID 705: 48.36525532651964\n"
     ]
    },
    {
     "name": "stderr",
     "output_type": "stream",
     "text": [
      "WARNING:root:frame length (1103) is greater than FFT size (512), frame will be truncated. Increase NFFT to avoid.\n",
      "WARNING:root:frame length (1103) is greater than FFT size (512), frame will be truncated. Increase NFFT to avoid.\n",
      "WARNING:root:frame length (1103) is greater than FFT size (512), frame will be truncated. Increase NFFT to avoid.\n"
     ]
    },
    {
     "name": "stdout",
     "output_type": "stream",
     "text": [
      "Similarty with  ID 675: 57.09940548873584\n",
      "Similarty with  ID 676: 47.10673650693099\n",
      "Similarty with  ID 677: 65.32841856700212\n"
     ]
    },
    {
     "name": "stderr",
     "output_type": "stream",
     "text": [
      "WARNING:root:frame length (1103) is greater than FFT size (512), frame will be truncated. Increase NFFT to avoid.\n",
      "WARNING:root:frame length (1103) is greater than FFT size (512), frame will be truncated. Increase NFFT to avoid.\n",
      "WARNING:root:frame length (1103) is greater than FFT size (512), frame will be truncated. Increase NFFT to avoid.\n",
      "WARNING:root:frame length (1103) is greater than FFT size (512), frame will be truncated. Increase NFFT to avoid.\n"
     ]
    },
    {
     "name": "stdout",
     "output_type": "stream",
     "text": [
      "Similarty with  ID 674: 51.623711495785535\n",
      "Similarty with  ID 679: 63.954057325318665\n",
      "Similarty with  ID 703: 46.7616516917933\n"
     ]
    },
    {
     "name": "stderr",
     "output_type": "stream",
     "text": [
      "WARNING:root:frame length (1103) is greater than FFT size (512), frame will be truncated. Increase NFFT to avoid.\n",
      "WARNING:root:frame length (1103) is greater than FFT size (512), frame will be truncated. Increase NFFT to avoid.\n"
     ]
    },
    {
     "name": "stdout",
     "output_type": "stream",
     "text": [
      "Similarty with  ID 681: 66.41913282118183\n",
      "Similarty with  ID 672: 46.029036704151615\n",
      "Similarty with  ID 683: 64.32805499672004\n"
     ]
    },
    {
     "name": "stderr",
     "output_type": "stream",
     "text": [
      "WARNING:root:frame length (1103) is greater than FFT size (512), frame will be truncated. Increase NFFT to avoid.\n",
      "WARNING:root:frame length (1103) is greater than FFT size (512), frame will be truncated. Increase NFFT to avoid.\n",
      "WARNING:root:frame length (1103) is greater than FFT size (512), frame will be truncated. Increase NFFT to avoid.\n",
      "WARNING:root:frame length (1103) is greater than FFT size (512), frame will be truncated. Increase NFFT to avoid.\n",
      "WARNING:root:frame length (1103) is greater than FFT size (512), frame will be truncated. Increase NFFT to avoid.\n"
     ]
    },
    {
     "name": "stdout",
     "output_type": "stream",
     "text": [
      "Similarty with  ID 669: 46.28525148786135\n",
      "Similarty with  ID 688: 65.93198914772626\n",
      "Similarty with  ID 701: 45.70280365903146\n",
      "Similarty with  ID 690: 60.225901521820816\n",
      "Similarty with  ID 687: 50.19120168518922\n"
     ]
    },
    {
     "name": "stderr",
     "output_type": "stream",
     "text": [
      "WARNING:root:frame length (1103) is greater than FFT size (512), frame will be truncated. Increase NFFT to avoid.\n",
      "WARNING:root:frame length (1103) is greater than FFT size (512), frame will be truncated. Increase NFFT to avoid.\n",
      "WARNING:root:frame length (1103) is greater than FFT size (512), frame will be truncated. Increase NFFT to avoid.\n",
      "WARNING:root:frame length (1103) is greater than FFT size (512), frame will be truncated. Increase NFFT to avoid.\n"
     ]
    },
    {
     "name": "stdout",
     "output_type": "stream",
     "text": [
      "Similarty with  ID 692: 62.35156680496765\n",
      "Similarty with  ID 680: 54.911037186097104\n",
      "Similarty with  ID 696: 69.64674730176378\n",
      "Similarty with  ID 678: 46.00410856206192\n"
     ]
    },
    {
     "name": "stderr",
     "output_type": "stream",
     "text": [
      "WARNING:root:frame length (1103) is greater than FFT size (512), frame will be truncated. Increase NFFT to avoid.\n",
      "WARNING:root:frame length (1103) is greater than FFT size (512), frame will be truncated. Increase NFFT to avoid.\n",
      "WARNING:root:frame length (1103) is greater than FFT size (512), frame will be truncated. Increase NFFT to avoid.\n",
      "WARNING:root:frame length (1103) is greater than FFT size (512), frame will be truncated. Increase NFFT to avoid.\n",
      "WARNING:root:frame length (1103) is greater than FFT size (512), frame will be truncated. Increase NFFT to avoid.\n"
     ]
    },
    {
     "name": "stdout",
     "output_type": "stream",
     "text": [
      "Similarty with  ID 698: 60.768495767793205\n",
      "Similarty with  ID 685: 48.612069103006306\n",
      "Similarty with  ID 700: 56.97565465165196\n",
      "Similarty with  ID 682: 49.19297010060683\n"
     ]
    },
    {
     "name": "stderr",
     "output_type": "stream",
     "text": [
      "WARNING:root:frame length (1103) is greater than FFT size (512), frame will be truncated. Increase NFFT to avoid.\n",
      "WARNING:root:frame length (1103) is greater than FFT size (512), frame will be truncated. Increase NFFT to avoid.\n",
      "WARNING:root:frame length (1103) is greater than FFT size (512), frame will be truncated. Increase NFFT to avoid.\n",
      "WARNING:root:frame length (1103) is greater than FFT size (512), frame will be truncated. Increase NFFT to avoid.\n"
     ]
    },
    {
     "name": "stdout",
     "output_type": "stream",
     "text": [
      "Similarty with  ID 704: 66.99940137235947\n",
      "Similarty with  ID 684: 48.54699954931152\n",
      "Similarty with  ID 706: 60.093591457702594\n",
      "Similarty with  ID 699: 46.604348884454424\n",
      "Similarty with  ID 708: 65.6183140396103\n"
     ]
    },
    {
     "name": "stderr",
     "output_type": "stream",
     "text": [
      "WARNING:root:frame length (1103) is greater than FFT size (512), frame will be truncated. Increase NFFT to avoid.\n",
      "WARNING:root:frame length (1103) is greater than FFT size (512), frame will be truncated. Increase NFFT to avoid.\n",
      "WARNING:root:frame length (1103) is greater than FFT size (512), frame will be truncated. Increase NFFT to avoid.\n"
     ]
    },
    {
     "name": "stdout",
     "output_type": "stream",
     "text": [
      "Similarty with  ID 691: 48.80355350975011\n",
      "Similarty with  ID 711: 69.40535294108092\n",
      "Similarty with  ID 689: 47.74147663633124\n"
     ]
    },
    {
     "name": "stderr",
     "output_type": "stream",
     "text": [
      "WARNING:root:frame length (1103) is greater than FFT size (512), frame will be truncated. Increase NFFT to avoid.\n",
      "WARNING:root:frame length (1103) is greater than FFT size (512), frame will be truncated. Increase NFFT to avoid.\n",
      "WARNING:root:frame length (1103) is greater than FFT size (512), frame will be truncated. Increase NFFT to avoid.\n",
      "WARNING:root:frame length (1103) is greater than FFT size (512), frame will be truncated. Increase NFFT to avoid.\n"
     ]
    },
    {
     "name": "stdout",
     "output_type": "stream",
     "text": [
      "Similarty with  ID 713: 63.843566953589594\n",
      "Similarty with  ID 697: 53.45529157143578\n",
      "Similarty with  ID 715: 68.93929104129121\n",
      "Similarty with  ID 693: 47.4398103399343\n"
     ]
    },
    {
     "name": "stderr",
     "output_type": "stream",
     "text": [
      "WARNING:root:frame length (1103) is greater than FFT size (512), frame will be truncated. Increase NFFT to avoid.\n",
      "WARNING:root:frame length (1103) is greater than FFT size (512), frame will be truncated. Increase NFFT to avoid.\n",
      "WARNING:root:frame length (1103) is greater than FFT size (512), frame will be truncated. Increase NFFT to avoid.\n",
      "WARNING:root:frame length (1103) is greater than FFT size (512), frame will be truncated. Increase NFFT to avoid.\n"
     ]
    },
    {
     "name": "stdout",
     "output_type": "stream",
     "text": [
      "Similarty with  ID 717: 60.46353553551519\n",
      "Similarty with  ID 695: 49.77117922604761\n",
      "Similarty with  ID 721: 62.48611386746059\n",
      "Similarty with  ID 726: 43.299163564887166\n"
     ]
    },
    {
     "name": "stderr",
     "output_type": "stream",
     "text": [
      "WARNING:root:frame length (1103) is greater than FFT size (512), frame will be truncated. Increase NFFT to avoid.\n",
      "WARNING:root:frame length (1103) is greater than FFT size (512), frame will be truncated. Increase NFFT to avoid.\n",
      "WARNING:root:frame length (1103) is greater than FFT size (512), frame will be truncated. Increase NFFT to avoid.\n",
      "WARNING:root:frame length (1103) is greater than FFT size (512), frame will be truncated. Increase NFFT to avoid.\n",
      "WARNING:root:frame length (1103) is greater than FFT size (512), frame will be truncated. Increase NFFT to avoid.\n"
     ]
    },
    {
     "name": "stdout",
     "output_type": "stream",
     "text": [
      "Similarty with  ID 723: 68.51992185695863\n",
      "Similarty with  ID 710: 48.90036756274776\n",
      "Similarty with  ID 725: 66.77681150433453\n",
      "Similarty with  ID 712: 46.81295830512564\n"
     ]
    },
    {
     "name": "stderr",
     "output_type": "stream",
     "text": [
      "WARNING:root:frame length (1103) is greater than FFT size (512), frame will be truncated. Increase NFFT to avoid.\n",
      "WARNING:root:frame length (1103) is greater than FFT size (512), frame will be truncated. Increase NFFT to avoid.\n",
      "WARNING:root:frame length (1103) is greater than FFT size (512), frame will be truncated. Increase NFFT to avoid.\n"
     ]
    },
    {
     "name": "stdout",
     "output_type": "stream",
     "text": [
      "Similarty with  ID 729: 58.34366188388476\n",
      "Similarty with  ID 724: 53.01416912645716\n",
      "Similarty with  ID 731: 65.37368116063392\n",
      "Similarty with  ID 716: 49.11886104696194\n"
     ]
    },
    {
     "name": "stderr",
     "output_type": "stream",
     "text": [
      "WARNING:root:frame length (1103) is greater than FFT size (512), frame will be truncated. Increase NFFT to avoid.\n",
      "WARNING:root:frame length (1103) is greater than FFT size (512), frame will be truncated. Increase NFFT to avoid.\n",
      "WARNING:root:frame length (1103) is greater than FFT size (512), frame will be truncated. Increase NFFT to avoid.\n",
      "WARNING:root:frame length (1103) is greater than FFT size (512), frame will be truncated. Increase NFFT to avoid.\n"
     ]
    },
    {
     "name": "stdout",
     "output_type": "stream",
     "text": [
      "Similarty with  ID 702: 61.23963603040408\n",
      "Similarty with  ID 714: 49.5691380528565\n",
      "Similarty with  ID 727: 59.04395673263048\n"
     ]
    },
    {
     "name": "stderr",
     "output_type": "stream",
     "text": [
      "WARNING:root:frame length (1103) is greater than FFT size (512), frame will be truncated. Increase NFFT to avoid.\n",
      "WARNING:root:frame length (1103) is greater than FFT size (512), frame will be truncated. Increase NFFT to avoid.\n",
      "WARNING:root:frame length (1103) is greater than FFT size (512), frame will be truncated. Increase NFFT to avoid.\n",
      "WARNING:root:frame length (1103) is greater than FFT size (512), frame will be truncated. Increase NFFT to avoid.\n"
     ]
    },
    {
     "name": "stdout",
     "output_type": "stream",
     "text": [
      "Similarty with  ID 722: 50.363983571921885\n",
      "Similarty with  ID 719: 65.53070274293822\n",
      "Similarty with  ID 718: 48.190321427132005\n",
      "Similarty with  ID 694: 62.09435271506597\n",
      "Similarty with  ID 720: 46.087436317799984\n"
     ]
    },
    {
     "name": "stderr",
     "output_type": "stream",
     "text": [
      "WARNING:root:frame length (1103) is greater than FFT size (512), frame will be truncated. Increase NFFT to avoid.\n",
      "WARNING:root:frame length (1103) is greater than FFT size (512), frame will be truncated. Increase NFFT to avoid.\n",
      "WARNING:root:frame length (1103) is greater than FFT size (512), frame will be truncated. Increase NFFT to avoid.\n",
      "WARNING:root:frame length (1103) is greater than FFT size (512), frame will be truncated. Increase NFFT to avoid.\n",
      "WARNING:root:frame length (1103) is greater than FFT size (512), frame will be truncated. Increase NFFT to avoid.\n",
      "WARNING:root:frame length (1103) is greater than FFT size (512), frame will be truncated. Increase NFFT to avoid.\n"
     ]
    },
    {
     "name": "stdout",
     "output_type": "stream",
     "text": [
      "Similarty with  ID 686: 68.76643275971615\n",
      "Similarty with  ID 730: 49.023437022576154\n",
      "Similarty with  ID 670: 62.42106512928993\n",
      "Similarty with  ID 728: 46.901333686082324\n",
      "Similarty with  ID 664: 67.8925452192793\n"
     ]
    },
    {
     "name": "stderr",
     "output_type": "stream",
     "text": [
      "WARNING:root:frame length (1103) is greater than FFT size (512), frame will be truncated. Increase NFFT to avoid.\n",
      "WARNING:root:frame length (1103) is greater than FFT size (512), frame will be truncated. Increase NFFT to avoid.\n",
      "WARNING:root:frame length (1103) is greater than FFT size (512), frame will be truncated. Increase NFFT to avoid.\n"
     ]
    },
    {
     "name": "stdout",
     "output_type": "stream",
     "text": [
      "Similarty with  ID 732: 48.42807412758015\n",
      "Similarty with  ID 794: 68.40910897450667\n",
      "Similarty with  ID 791: 41.09653122885365\n",
      "Similarty with  ID 802: 66.5807548199714\n"
     ]
    },
    {
     "name": "stderr",
     "output_type": "stream",
     "text": [
      "WARNING:root:frame length (1103) is greater than FFT size (512), frame will be truncated. Increase NFFT to avoid.\n",
      "WARNING:root:frame length (1103) is greater than FFT size (512), frame will be truncated. Increase NFFT to avoid.\n",
      "WARNING:root:frame length (1103) is greater than FFT size (512), frame will be truncated. Increase NFFT to avoid.\n",
      "WARNING:root:frame length (1103) is greater than FFT size (512), frame will be truncated. Increase NFFT to avoid.\n",
      "WARNING:root:frame length (1103) is greater than FFT size (512), frame will be truncated. Increase NFFT to avoid.\n",
      "WARNING:root:frame length (1103) is greater than FFT size (512), frame will be truncated. Increase NFFT to avoid.\n",
      "WARNING:root:frame length (1103) is greater than FFT size (512), frame will be truncated. Increase NFFT to avoid.\n",
      "WARNING:root:frame length (1103) is greater than FFT size (512), frame will be truncated. Increase NFFT to avoid.\n"
     ]
    },
    {
     "name": "stdout",
     "output_type": "stream",
     "text": [
      "Similarty with  ID 785: 41.38026055780774\n",
      "Similarty with  ID 786: 66.92147636991294\n",
      "Similarty with  ID 783: 40.19940439174098\n",
      "Similarty with  ID 734: 71.30303172431023\n",
      "Similarty with  ID 781: 37.01021840146582\n",
      "Similarty with  ID 736: 72.25692222517523\n",
      "Similarty with  ID 789: 42.86997284726802\n"
     ]
    },
    {
     "name": "stderr",
     "output_type": "stream",
     "text": [
      "WARNING:root:frame length (1103) is greater than FFT size (512), frame will be truncated. Increase NFFT to avoid.\n",
      "WARNING:root:frame length (1103) is greater than FFT size (512), frame will be truncated. Increase NFFT to avoid.\n",
      "WARNING:root:frame length (1103) is greater than FFT size (512), frame will be truncated. Increase NFFT to avoid.\n",
      "WARNING:root:frame length (1103) is greater than FFT size (512), frame will be truncated. Increase NFFT to avoid.\n"
     ]
    },
    {
     "name": "stdout",
     "output_type": "stream",
     "text": [
      "Similarty with  ID 740: 68.80183176554849\n",
      "Similarty with  ID 787: 51.47505745584837\n",
      "Similarty with  ID 742: 75.45175542804888\n",
      "Similarty with  ID 777: 40.34188113349629\n",
      "Similarty with  ID 744: 66.045424539045\n"
     ]
    },
    {
     "name": "stderr",
     "output_type": "stream",
     "text": [
      "WARNING:root:frame length (1103) is greater than FFT size (512), frame will be truncated. Increase NFFT to avoid.\n",
      "WARNING:root:frame length (1103) is greater than FFT size (512), frame will be truncated. Increase NFFT to avoid.\n",
      "WARNING:root:frame length (1103) is greater than FFT size (512), frame will be truncated. Increase NFFT to avoid.\n",
      "WARNING:root:frame length (1103) is greater than FFT size (512), frame will be truncated. Increase NFFT to avoid.\n",
      "WARNING:root:frame length (1103) is greater than FFT size (512), frame will be truncated. Increase NFFT to avoid.\n"
     ]
    },
    {
     "name": "stdout",
     "output_type": "stream",
     "text": [
      "Similarty with  ID 816: 68.51610071171794\n",
      "Similarty with  ID 746: 63.99226708104248\n",
      "Similarty with  ID 755: 58.79985741180189\n",
      "Similarty with  ID 748: 67.00076570564153\n",
      "Similarty with  ID 739: 44.204370161543395\n"
     ]
    },
    {
     "name": "stderr",
     "output_type": "stream",
     "text": [
      "WARNING:root:frame length (1103) is greater than FFT size (512), frame will be truncated. Increase NFFT to avoid.\n",
      "WARNING:root:frame length (1103) is greater than FFT size (512), frame will be truncated. Increase NFFT to avoid.\n",
      "WARNING:root:frame length (1103) is greater than FFT size (512), frame will be truncated. Increase NFFT to avoid.\n",
      "WARNING:root:frame length (1103) is greater than FFT size (512), frame will be truncated. Increase NFFT to avoid.\n",
      "WARNING:root:frame length (1103) is greater than FFT size (512), frame will be truncated. Increase NFFT to avoid.\n",
      "WARNING:root:frame length (1103) is greater than FFT size (512), frame will be truncated. Increase NFFT to avoid.\n"
     ]
    },
    {
     "name": "stdout",
     "output_type": "stream",
     "text": [
      "Similarty with  ID 750: 65.90541623340368\n",
      "Similarty with  ID 753: 50.15242384901387\n",
      "Similarty with  ID 752: 80.74529312734582\n",
      "Similarty with  ID 737: 43.2649792166076\n",
      "Similarty with  ID 756: 74.25712028070258\n"
     ]
    },
    {
     "name": "stderr",
     "output_type": "stream",
     "text": [
      "WARNING:root:frame length (1103) is greater than FFT size (512), frame will be truncated. Increase NFFT to avoid.\n",
      "WARNING:root:frame length (1103) is greater than FFT size (512), frame will be truncated. Increase NFFT to avoid.\n",
      "WARNING:root:frame length (1103) is greater than FFT size (512), frame will be truncated. Increase NFFT to avoid.\n"
     ]
    },
    {
     "name": "stdout",
     "output_type": "stream",
     "text": [
      "Similarty with  ID 735: 44.32232686044632\n",
      "Similarty with  ID 758: 80.3827399594927\n",
      "Similarty with  ID 751: 52.1191183317966\n",
      "Similarty with  ID 760: 79.18712984051464\n"
     ]
    },
    {
     "name": "stderr",
     "output_type": "stream",
     "text": [
      "WARNING:root:frame length (1103) is greater than FFT size (512), frame will be truncated. Increase NFFT to avoid.\n",
      "WARNING:root:frame length (1103) is greater than FFT size (512), frame will be truncated. Increase NFFT to avoid.\n",
      "WARNING:root:frame length (1103) is greater than FFT size (512), frame will be truncated. Increase NFFT to avoid.\n",
      "WARNING:root:frame length (1103) is greater than FFT size (512), frame will be truncated. Increase NFFT to avoid.\n"
     ]
    },
    {
     "name": "stdout",
     "output_type": "stream",
     "text": [
      "Similarty with  ID 743: 48.61249924456795\n",
      "Similarty with  ID 764: 68.37024443758513\n",
      "Similarty with  ID 741: 47.57224815131412\n"
     ]
    },
    {
     "name": "stderr",
     "output_type": "stream",
     "text": [
      "WARNING:root:frame length (1103) is greater than FFT size (512), frame will be truncated. Increase NFFT to avoid.\n",
      "WARNING:root:frame length (1103) is greater than FFT size (512), frame will be truncated. Increase NFFT to avoid.\n",
      "WARNING:root:frame length (1103) is greater than FFT size (512), frame will be truncated. Increase NFFT to avoid.\n",
      "WARNING:root:frame length (1103) is greater than FFT size (512), frame will be truncated. Increase NFFT to avoid.\n",
      "WARNING:root:frame length (1103) is greater than FFT size (512), frame will be truncated. Increase NFFT to avoid.\n"
     ]
    },
    {
     "name": "stdout",
     "output_type": "stream",
     "text": [
      "Similarty with  ID 766: 68.19452701551468\n",
      "Similarty with  ID 749: 44.6176440158493\n",
      "Similarty with  ID 768: 70.38618005081892\n",
      "Similarty with  ID 745: 42.86108182591995\n",
      "Similarty with  ID 772: 67.07021849766998\n"
     ]
    },
    {
     "name": "stderr",
     "output_type": "stream",
     "text": [
      "WARNING:root:frame length (1103) is greater than FFT size (512), frame will be truncated. Increase NFFT to avoid.\n",
      "WARNING:root:frame length (1103) is greater than FFT size (512), frame will be truncated. Increase NFFT to avoid.\n",
      "WARNING:root:frame length (1103) is greater than FFT size (512), frame will be truncated. Increase NFFT to avoid.\n",
      "WARNING:root:frame length (1103) is greater than FFT size (512), frame will be truncated. Increase NFFT to avoid.\n"
     ]
    },
    {
     "name": "stdout",
     "output_type": "stream",
     "text": [
      "Similarty with  ID 747: 44.33121709330155\n",
      "Similarty with  ID 774: 65.93981273147553\n",
      "Similarty with  ID 801: 38.997068681371054\n",
      "Similarty with  ID 776: 68.73338880667104\n",
      "Similarty with  ID 771: 42.51757551213924\n"
     ]
    },
    {
     "name": "stderr",
     "output_type": "stream",
     "text": [
      "WARNING:root:frame length (1103) is greater than FFT size (512), frame will be truncated. Increase NFFT to avoid.\n",
      "WARNING:root:frame length (1103) is greater than FFT size (512), frame will be truncated. Increase NFFT to avoid.\n",
      "WARNING:root:frame length (1103) is greater than FFT size (512), frame will be truncated. Increase NFFT to avoid.\n",
      "WARNING:root:frame length (1103) is greater than FFT size (512), frame will be truncated. Increase NFFT to avoid.\n",
      "WARNING:root:frame length (1103) is greater than FFT size (512), frame will be truncated. Increase NFFT to avoid.\n",
      "WARNING:root:frame length (1103) is greater than FFT size (512), frame will be truncated. Increase NFFT to avoid.\n"
     ]
    },
    {
     "name": "stdout",
     "output_type": "stream",
     "text": [
      "Similarty with  ID 778: 70.48823277817489\n",
      "Similarty with  ID 757: 52.652510811632695\n",
      "Similarty with  ID 780: 71.87137592749431\n",
      "Similarty with  ID 765: 44.18240063277161\n",
      "Similarty with  ID 782: 68.05866158005561\n",
      "Similarty with  ID 759: 58.01691584516631\n"
     ]
    },
    {
     "name": "stderr",
     "output_type": "stream",
     "text": [
      "WARNING:root:frame length (1103) is greater than FFT size (512), frame will be truncated. Increase NFFT to avoid.\n",
      "WARNING:root:frame length (1103) is greater than FFT size (512), frame will be truncated. Increase NFFT to avoid.\n",
      "WARNING:root:frame length (1103) is greater than FFT size (512), frame will be truncated. Increase NFFT to avoid.\n",
      "WARNING:root:frame length (1103) is greater than FFT size (512), frame will be truncated. Increase NFFT to avoid.\n",
      "WARNING:root:frame length (1103) is greater than FFT size (512), frame will be truncated. Increase NFFT to avoid.\n"
     ]
    },
    {
     "name": "stdout",
     "output_type": "stream",
     "text": [
      "Similarty with  ID 784: 66.15550738222616\n",
      "Similarty with  ID 761: 36.197525491504024\n",
      "Similarty with  ID 788: 64.00288920174545\n",
      "Similarty with  ID 799: 44.94481831706667\n"
     ]
    },
    {
     "name": "stderr",
     "output_type": "stream",
     "text": [
      "WARNING:root:frame length (1103) is greater than FFT size (512), frame will be truncated. Increase NFFT to avoid.\n",
      "WARNING:root:frame length (1103) is greater than FFT size (512), frame will be truncated. Increase NFFT to avoid.\n",
      "WARNING:root:frame length (1103) is greater than FFT size (512), frame will be truncated. Increase NFFT to avoid.\n",
      "WARNING:root:frame length (1103) is greater than FFT size (512), frame will be truncated. Increase NFFT to avoid.\n"
     ]
    },
    {
     "name": "stdout",
     "output_type": "stream",
     "text": [
      "Similarty with  ID 790: 74.47677925077016\n",
      "Similarty with  ID 775: 37.52557175129875\n",
      "Similarty with  ID 792: 61.334902329927274\n",
      "Similarty with  ID 773: 49.051919191989214\n"
     ]
    },
    {
     "name": "stderr",
     "output_type": "stream",
     "text": [
      "WARNING:root:frame length (1103) is greater than FFT size (512), frame will be truncated. Increase NFFT to avoid.\n",
      "WARNING:root:frame length (1103) is greater than FFT size (512), frame will be truncated. Increase NFFT to avoid.\n",
      "WARNING:root:frame length (1103) is greater than FFT size (512), frame will be truncated. Increase NFFT to avoid.\n",
      "WARNING:root:frame length (1103) is greater than FFT size (512), frame will be truncated. Increase NFFT to avoid.\n"
     ]
    },
    {
     "name": "stdout",
     "output_type": "stream",
     "text": [
      "Similarty with  ID 796: 68.23749599599705\n",
      "Similarty with  ID 797: 41.85671196543725\n",
      "Similarty with  ID 798: 66.85053205891926\n",
      "Similarty with  ID 793: 42.581065759917074\n"
     ]
    },
    {
     "name": "stderr",
     "output_type": "stream",
     "text": [
      "WARNING:root:frame length (1103) is greater than FFT size (512), frame will be truncated. Increase NFFT to avoid.\n",
      "WARNING:root:frame length (1103) is greater than FFT size (512), frame will be truncated. Increase NFFT to avoid.\n",
      "WARNING:root:frame length (1103) is greater than FFT size (512), frame will be truncated. Increase NFFT to avoid.\n",
      "WARNING:root:frame length (1103) is greater than FFT size (512), frame will be truncated. Increase NFFT to avoid.\n"
     ]
    },
    {
     "name": "stdout",
     "output_type": "stream",
     "text": [
      "Similarty with  ID 800: 63.267054665163414\n",
      "Similarty with  ID 795: 51.45987175924524\n",
      "Similarty with  ID 804: 66.16096642844678\n",
      "Similarty with  ID 813: 40.78551324215355\n",
      "Similarty with  ID 806: 67.97821676829385\n"
     ]
    },
    {
     "name": "stderr",
     "output_type": "stream",
     "text": [
      "WARNING:root:frame length (1103) is greater than FFT size (512), frame will be truncated. Increase NFFT to avoid.\n",
      "WARNING:root:frame length (1103) is greater than FFT size (512), frame will be truncated. Increase NFFT to avoid.\n",
      "WARNING:root:frame length (1103) is greater than FFT size (512), frame will be truncated. Increase NFFT to avoid.\n",
      "WARNING:root:frame length (1103) is greater than FFT size (512), frame will be truncated. Increase NFFT to avoid.\n"
     ]
    },
    {
     "name": "stdout",
     "output_type": "stream",
     "text": [
      "Similarty with  ID 805: 39.850339320910436\n",
      "Similarty with  ID 808: 66.61266300516412\n",
      "Similarty with  ID 803: 42.362821774674025\n"
     ]
    },
    {
     "name": "stderr",
     "output_type": "stream",
     "text": [
      "WARNING:root:frame length (1103) is greater than FFT size (512), frame will be truncated. Increase NFFT to avoid.\n",
      "WARNING:root:frame length (1103) is greater than FFT size (512), frame will be truncated. Increase NFFT to avoid.\n",
      "WARNING:root:frame length (1103) is greater than FFT size (512), frame will be truncated. Increase NFFT to avoid.\n",
      "WARNING:root:frame length (1103) is greater than FFT size (512), frame will be truncated. Increase NFFT to avoid.\n"
     ]
    },
    {
     "name": "stdout",
     "output_type": "stream",
     "text": [
      "Similarty with  ID 810: 67.35766949254429\n",
      "Similarty with  ID 811: 40.626217308889466\n",
      "Similarty with  ID 812: 65.77715123389387\n",
      "Similarty with  ID 807: 45.56299243049811\n"
     ]
    },
    {
     "name": "stderr",
     "output_type": "stream",
     "text": [
      "WARNING:root:frame length (1103) is greater than FFT size (512), frame will be truncated. Increase NFFT to avoid.\n",
      "WARNING:root:frame length (1103) is greater than FFT size (512), frame will be truncated. Increase NFFT to avoid.\n",
      "WARNING:root:frame length (1103) is greater than FFT size (512), frame will be truncated. Increase NFFT to avoid.\n",
      "WARNING:root:frame length (1103) is greater than FFT size (512), frame will be truncated. Increase NFFT to avoid.\n",
      "WARNING:root:frame length (1103) is greater than FFT size (512), frame will be truncated. Increase NFFT to avoid.\n"
     ]
    },
    {
     "name": "stdout",
     "output_type": "stream",
     "text": [
      "Similarty with  ID 814: 67.8232470425381\n",
      "Similarty with  ID 809: 39.93458795253429\n",
      "Similarty with  ID 770: 74.665522504398\n",
      "Similarty with  ID 815: 42.857141511864384\n",
      "Similarty with  ID 762: 66.80631493235005\n"
     ]
    },
    {
     "name": "stderr",
     "output_type": "stream",
     "text": [
      "WARNING:root:frame length (1103) is greater than FFT size (512), frame will be truncated. Increase NFFT to avoid.\n",
      "WARNING:root:frame length (1103) is greater than FFT size (512), frame will be truncated. Increase NFFT to avoid.\n",
      "WARNING:root:frame length (1103) is greater than FFT size (512), frame will be truncated. Increase NFFT to avoid.\n",
      "WARNING:root:frame length (1103) is greater than FFT size (512), frame will be truncated. Increase NFFT to avoid.\n",
      "WARNING:root:frame length (1103) is greater than FFT size (512), frame will be truncated. Increase NFFT to avoid.\n",
      "WARNING:root:frame length (1103) is greater than FFT size (512), frame will be truncated. Increase NFFT to avoid.\n",
      "WARNING:root:frame length (1103) is greater than FFT size (512), frame will be truncated. Increase NFFT to avoid.\n"
     ]
    },
    {
     "name": "stdout",
     "output_type": "stream",
     "text": [
      "Similarty with  ID 763: 45.79694745226245\n",
      "Similarty with  ID 754: 81.29917876542358\n",
      "Similarty with  ID 769: 40.27583486347316\n",
      "Similarty with  ID 738: 66.2460258257089\n",
      "Similarty with  ID 767: 39.67620690462529\n",
      "Similarty with  ID 779: 41.94695389005069\n",
      "Similarty with  ID 893: 44.19133275293055\n"
     ]
    },
    {
     "name": "stderr",
     "output_type": "stream",
     "text": [
      "WARNING:root:frame length (1103) is greater than FFT size (512), frame will be truncated. Increase NFFT to avoid.\n",
      "WARNING:root:frame length (1103) is greater than FFT size (512), frame will be truncated. Increase NFFT to avoid.\n",
      "WARNING:root:frame length (1103) is greater than FFT size (512), frame will be truncated. Increase NFFT to avoid.\n",
      "WARNING:root:frame length (1103) is greater than FFT size (512), frame will be truncated. Increase NFFT to avoid.\n"
     ]
    },
    {
     "name": "stdout",
     "output_type": "stream",
     "text": [
      "Similarty with  ID 905: 44.621385257804285\n",
      "Similarty with  ID 900: 71.26734104650268\n",
      "Similarty with  ID 829: 35.6740218707103\n",
      "Similarty with  ID 886: 76.59673020438754\n",
      "Similarty with  ID 831: 44.71975478731702\n"
     ]
    },
    {
     "name": "stderr",
     "output_type": "stream",
     "text": [
      "WARNING:root:frame length (1103) is greater than FFT size (512), frame will be truncated. Increase NFFT to avoid.\n",
      "WARNING:root:frame length (1103) is greater than FFT size (512), frame will be truncated. Increase NFFT to avoid.\n",
      "WARNING:root:frame length (1103) is greater than FFT size (512), frame will be truncated. Increase NFFT to avoid.\n",
      "WARNING:root:frame length (1103) is greater than FFT size (512), frame will be truncated. Increase NFFT to avoid.\n",
      "WARNING:root:frame length (1103) is greater than FFT size (512), frame will be truncated. Increase NFFT to avoid.\n",
      "WARNING:root:frame length (1103) is greater than FFT size (512), frame will be truncated. Increase NFFT to avoid.\n"
     ]
    },
    {
     "name": "stdout",
     "output_type": "stream",
     "text": [
      "Similarty with  ID 817: 71.64102204277327\n",
      "Similarty with  ID 828: 41.085279162987604\n",
      "Similarty with  ID 819: 68.22558497268317\n",
      "Similarty with  ID 818: 43.26075395439541\n",
      "Similarty with  ID 823: 70.8832295745451\n",
      "Similarty with  ID 826: 41.10297431040617\n"
     ]
    },
    {
     "name": "stderr",
     "output_type": "stream",
     "text": [
      "WARNING:root:frame length (1103) is greater than FFT size (512), frame will be truncated. Increase NFFT to avoid.\n",
      "WARNING:root:frame length (1103) is greater than FFT size (512), frame will be truncated. Increase NFFT to avoid.\n",
      "WARNING:root:frame length (1103) is greater than FFT size (512), frame will be truncated. Increase NFFT to avoid.\n",
      "WARNING:root:frame length (1103) is greater than FFT size (512), frame will be truncated. Increase NFFT to avoid.\n",
      "WARNING:root:frame length (1103) is greater than FFT size (512), frame will be truncated. Increase NFFT to avoid.\n",
      "WARNING:root:frame length (1103) is greater than FFT size (512), frame will be truncated. Increase NFFT to avoid.\n",
      "WARNING:root:frame length (1103) is greater than FFT size (512), frame will be truncated. Increase NFFT to avoid.\n"
     ]
    },
    {
     "name": "stdout",
     "output_type": "stream",
     "text": [
      "Similarty with  ID 825: 69.21473972187991\n",
      "Similarty with  ID 824: 38.81909638130355\n",
      "Similarty with  ID 827: 66.78835302269225\n",
      "Similarty with  ID 820: 44.36131568906346\n",
      "Similarty with  ID 832: 67.35920705281076\n",
      "Similarty with  ID 822: 43.8750416738046\n"
     ]
    },
    {
     "name": "stderr",
     "output_type": "stream",
     "text": [
      "WARNING:root:frame length (1103) is greater than FFT size (512), frame will be truncated. Increase NFFT to avoid.\n",
      "WARNING:root:frame length (1103) is greater than FFT size (512), frame will be truncated. Increase NFFT to avoid.\n",
      "WARNING:root:frame length (1103) is greater than FFT size (512), frame will be truncated. Increase NFFT to avoid.\n"
     ]
    },
    {
     "name": "stdout",
     "output_type": "stream",
     "text": [
      "Similarty with  ID 834: 70.11173342548646\n",
      "Similarty with  ID 853: 46.590724216322776\n",
      "Similarty with  ID 836: 61.97059781131545\n",
      "Similarty with  ID 839: 43.474833439976585\n"
     ]
    },
    {
     "name": "stderr",
     "output_type": "stream",
     "text": [
      "WARNING:root:frame length (1103) is greater than FFT size (512), frame will be truncated. Increase NFFT to avoid.\n",
      "WARNING:root:frame length (1103) is greater than FFT size (512), frame will be truncated. Increase NFFT to avoid.\n",
      "WARNING:root:frame length (1103) is greater than FFT size (512), frame will be truncated. Increase NFFT to avoid.\n",
      "WARNING:root:frame length (1103) is greater than FFT size (512), frame will be truncated. Increase NFFT to avoid.\n"
     ]
    },
    {
     "name": "stdout",
     "output_type": "stream",
     "text": [
      "Similarty with  ID 840: 72.69101957158907\n",
      "Similarty with  ID 837: 43.31700424645152\n",
      "Similarty with  ID 842: 66.20237152758895\n",
      "Similarty with  ID 833: 41.59323753435785\n"
     ]
    },
    {
     "name": "stderr",
     "output_type": "stream",
     "text": [
      "WARNING:root:frame length (1103) is greater than FFT size (512), frame will be truncated. Increase NFFT to avoid.\n",
      "WARNING:root:frame length (1103) is greater than FFT size (512), frame will be truncated. Increase NFFT to avoid.\n",
      "WARNING:root:frame length (1103) is greater than FFT size (512), frame will be truncated. Increase NFFT to avoid.\n",
      "WARNING:root:frame length (1103) is greater than FFT size (512), frame will be truncated. Increase NFFT to avoid.\n",
      "WARNING:root:frame length (1103) is greater than FFT size (512), frame will be truncated. Increase NFFT to avoid.\n",
      "WARNING:root:frame length (1103) is greater than FFT size (512), frame will be truncated. Increase NFFT to avoid.\n"
     ]
    },
    {
     "name": "stdout",
     "output_type": "stream",
     "text": [
      "Similarty with  ID 844: 67.72409563483916\n",
      "Similarty with  ID 835: 39.831392045601994\n",
      "Similarty with  ID 846: 67.74510024138169\n",
      "Similarty with  ID 881: 41.01342707960231\n",
      "Similarty with  ID 848: 65.7178791326406\n",
      "Similarty with  ID 851: 42.089259315000575\n"
     ]
    },
    {
     "name": "stderr",
     "output_type": "stream",
     "text": [
      "WARNING:root:frame length (1103) is greater than FFT size (512), frame will be truncated. Increase NFFT to avoid.\n",
      "WARNING:root:frame length (1103) is greater than FFT size (512), frame will be truncated. Increase NFFT to avoid.\n",
      "WARNING:root:frame length (1103) is greater than FFT size (512), frame will be truncated. Increase NFFT to avoid.\n",
      "WARNING:root:frame length (1103) is greater than FFT size (512), frame will be truncated. Increase NFFT to avoid.\n",
      "WARNING:root:frame length (1103) is greater than FFT size (512), frame will be truncated. Increase NFFT to avoid.\n",
      "WARNING:root:frame length (1103) is greater than FFT size (512), frame will be truncated. Increase NFFT to avoid.\n",
      "WARNING:root:frame length (1103) is greater than FFT size (512), frame will be truncated. Increase NFFT to avoid.\n"
     ]
    },
    {
     "name": "stdout",
     "output_type": "stream",
     "text": [
      "Similarty with  ID 850: 61.874234156203734\n",
      "Similarty with  ID 843: 41.535336371889954\n",
      "Similarty with  ID 852: 70.78501760498949\n",
      "Similarty with  ID 841: 42.978530303244895\n",
      "Similarty with  ID 856: 70.8436888495056\n",
      "Similarty with  ID 849: 43.720282979389005\n",
      "Similarty with  ID 858: 71.46559370271889\n"
     ]
    },
    {
     "name": "stderr",
     "output_type": "stream",
     "text": [
      "WARNING:root:frame length (1103) is greater than FFT size (512), frame will be truncated. Increase NFFT to avoid.\n",
      "WARNING:root:frame length (1103) is greater than FFT size (512), frame will be truncated. Increase NFFT to avoid.\n",
      "WARNING:root:frame length (1103) is greater than FFT size (512), frame will be truncated. Increase NFFT to avoid.\n",
      "WARNING:root:frame length (1103) is greater than FFT size (512), frame will be truncated. Increase NFFT to avoid.\n",
      "WARNING:root:frame length (1103) is greater than FFT size (512), frame will be truncated. Increase NFFT to avoid.\n"
     ]
    },
    {
     "name": "stdout",
     "output_type": "stream",
     "text": [
      "Similarty with  ID 845: 47.347212444418496\n",
      "Similarty with  ID 860: 84.89714905498484\n",
      "Similarty with  ID 847: 39.17365037371873\n",
      "Similarty with  ID 864: 74.33236793588577\n",
      "Similarty with  ID 879: 43.944653489962406\n"
     ]
    },
    {
     "name": "stderr",
     "output_type": "stream",
     "text": [
      "WARNING:root:frame length (1103) is greater than FFT size (512), frame will be truncated. Increase NFFT to avoid.\n",
      "WARNING:root:frame length (1103) is greater than FFT size (512), frame will be truncated. Increase NFFT to avoid.\n",
      "WARNING:root:frame length (1103) is greater than FFT size (512), frame will be truncated. Increase NFFT to avoid.\n",
      "WARNING:root:frame length (1103) is greater than FFT size (512), frame will be truncated. Increase NFFT to avoid.\n"
     ]
    },
    {
     "name": "stdout",
     "output_type": "stream",
     "text": [
      "Similarty with  ID 866: 77.41346440815538\n",
      "Similarty with  ID 865: 48.323509603423894\n",
      "Similarty with  ID 868: 73.27916521091461\n",
      "Similarty with  ID 857: 41.97565003673934\n"
     ]
    },
    {
     "name": "stderr",
     "output_type": "stream",
     "text": [
      "WARNING:root:frame length (1103) is greater than FFT size (512), frame will be truncated. Increase NFFT to avoid.\n",
      "WARNING:root:frame length (1103) is greater than FFT size (512), frame will be truncated. Increase NFFT to avoid.\n",
      "WARNING:root:frame length (1103) is greater than FFT size (512), frame will be truncated. Increase NFFT to avoid.\n",
      "WARNING:root:frame length (1103) is greater than FFT size (512), frame will be truncated. Increase NFFT to avoid.\n",
      "WARNING:root:frame length (1103) is greater than FFT size (512), frame will be truncated. Increase NFFT to avoid.\n"
     ]
    },
    {
     "name": "stdout",
     "output_type": "stream",
     "text": [
      "Similarty with  ID 872: 67.08333044496156\n",
      "Similarty with  ID 855: 38.02932648315366\n",
      "Similarty with  ID 874: 68.07942923064297\n",
      "Similarty with  ID 863: 49.09390520875071\n"
     ]
    },
    {
     "name": "stderr",
     "output_type": "stream",
     "text": [
      "WARNING:root:frame length (1103) is greater than FFT size (512), frame will be truncated. Increase NFFT to avoid.\n",
      "WARNING:root:frame length (1103) is greater than FFT size (512), frame will be truncated. Increase NFFT to avoid.\n",
      "WARNING:root:frame length (1103) is greater than FFT size (512), frame will be truncated. Increase NFFT to avoid.\n",
      "WARNING:root:frame length (1103) is greater than FFT size (512), frame will be truncated. Increase NFFT to avoid.\n"
     ]
    },
    {
     "name": "stdout",
     "output_type": "stream",
     "text": [
      "Similarty with  ID 876: 64.02076954047021\n",
      "Similarty with  ID 859: 51.64068809828033\n",
      "Similarty with  ID 878: 74.90452026811195\n",
      "Similarty with  ID 861: 49.8596516989538\n"
     ]
    },
    {
     "name": "stderr",
     "output_type": "stream",
     "text": [
      "WARNING:root:frame length (1103) is greater than FFT size (512), frame will be truncated. Increase NFFT to avoid.\n",
      "WARNING:root:frame length (1103) is greater than FFT size (512), frame will be truncated. Increase NFFT to avoid.\n",
      "WARNING:root:frame length (1103) is greater than FFT size (512), frame will be truncated. Increase NFFT to avoid.\n",
      "WARNING:root:frame length (1103) is greater than FFT size (512), frame will be truncated. Increase NFFT to avoid.\n",
      "WARNING:root:frame length (1103) is greater than FFT size (512), frame will be truncated. Increase NFFT to avoid.\n"
     ]
    },
    {
     "name": "stdout",
     "output_type": "stream",
     "text": [
      "Similarty with  ID 880: 66.95686814298112\n",
      "Similarty with  ID 877: 40.876177709109875\n",
      "Similarty with  ID 882: 69.53463975603054\n",
      "Similarty with  ID 869: 40.8608084762865\n",
      "Similarty with  ID 884: 68.7144989931185\n",
      "Similarty with  ID 867: 46.099458093697834\n"
     ]
    },
    {
     "name": "stderr",
     "output_type": "stream",
     "text": [
      "WARNING:root:frame length (1103) is greater than FFT size (512), frame will be truncated. Increase NFFT to avoid.\n",
      "WARNING:root:frame length (1103) is greater than FFT size (512), frame will be truncated. Increase NFFT to avoid.\n",
      "WARNING:root:frame length (1103) is greater than FFT size (512), frame will be truncated. Increase NFFT to avoid.\n",
      "WARNING:root:frame length (1103) is greater than FFT size (512), frame will be truncated. Increase NFFT to avoid.\n",
      "WARNING:root:frame length (1103) is greater than FFT size (512), frame will be truncated. Increase NFFT to avoid.\n"
     ]
    },
    {
     "name": "stdout",
     "output_type": "stream",
     "text": [
      "Similarty with  ID 888: 72.81034672996847\n",
      "Similarty with  ID 875: 41.565463807971895\n",
      "Similarty with  ID 890: 70.43314664457624\n",
      "Similarty with  ID 871: 38.11429234308438\n"
     ]
    },
    {
     "name": "stderr",
     "output_type": "stream",
     "text": [
      "WARNING:root:frame length (1103) is greater than FFT size (512), frame will be truncated. Increase NFFT to avoid.\n",
      "WARNING:root:frame length (1103) is greater than FFT size (512), frame will be truncated. Increase NFFT to avoid.\n",
      "WARNING:root:frame length (1103) is greater than FFT size (512), frame will be truncated. Increase NFFT to avoid.\n",
      "WARNING:root:frame length (1103) is greater than FFT size (512), frame will be truncated. Increase NFFT to avoid.\n"
     ]
    },
    {
     "name": "stdout",
     "output_type": "stream",
     "text": [
      "Similarty with  ID 892: 67.28581896402989\n",
      "Similarty with  ID 873: 40.48377870015367\n",
      "Similarty with  ID 894: 62.85078262777988\n",
      "Similarty with  ID 891: 37.38144623731382\n",
      "Similarty with  ID 896: 67.89223014322567\n"
     ]
    },
    {
     "name": "stderr",
     "output_type": "stream",
     "text": [
      "WARNING:root:frame length (1103) is greater than FFT size (512), frame will be truncated. Increase NFFT to avoid.\n",
      "WARNING:root:frame length (1103) is greater than FFT size (512), frame will be truncated. Increase NFFT to avoid.\n",
      "WARNING:root:frame length (1103) is greater than FFT size (512), frame will be truncated. Increase NFFT to avoid.\n",
      "WARNING:root:frame length (1103) is greater than FFT size (512), frame will be truncated. Increase NFFT to avoid.\n",
      "WARNING:root:frame length (1103) is greater than FFT size (512), frame will be truncated. Increase NFFT to avoid.\n",
      "WARNING:root:frame length (1103) is greater than FFT size (512), frame will be truncated. Increase NFFT to avoid.\n",
      "WARNING:root:frame length (1103) is greater than FFT size (512), frame will be truncated. Increase NFFT to avoid.\n",
      "WARNING:root:frame length (1103) is greater than FFT size (512), frame will be truncated. Increase NFFT to avoid.\n"
     ]
    },
    {
     "name": "stdout",
     "output_type": "stream",
     "text": [
      "Similarty with  ID 883: 44.09049107100259\n",
      "Similarty with  ID 898: 69.59096389596667\n",
      "Similarty with  ID 889: 40.93569263057944\n",
      "Similarty with  ID 902: 68.99198340733359\n",
      "Similarty with  ID 885: 41.04986062299223\n",
      "Similarty with  ID 904: 65.89706648206113\n",
      "Similarty with  ID 887: 39.651740260015394\n"
     ]
    },
    {
     "name": "stderr",
     "output_type": "stream",
     "text": [
      "WARNING:root:frame length (1103) is greater than FFT size (512), frame will be truncated. Increase NFFT to avoid.\n",
      "WARNING:root:frame length (1103) is greater than FFT size (512), frame will be truncated. Increase NFFT to avoid.\n",
      "WARNING:root:frame length (1103) is greater than FFT size (512), frame will be truncated. Increase NFFT to avoid.\n",
      "WARNING:root:frame length (1103) is greater than FFT size (512), frame will be truncated. Increase NFFT to avoid.\n",
      "WARNING:root:frame length (1103) is greater than FFT size (512), frame will be truncated. Increase NFFT to avoid.\n"
     ]
    },
    {
     "name": "stdout",
     "output_type": "stream",
     "text": [
      "Similarty with  ID 906: 62.235400135890465\n",
      "Similarty with  ID 897: 44.99689357881341\n",
      "Similarty with  ID 908: 63.726107873820766\n",
      "Similarty with  ID 895: 46.31369720656588\n",
      "Similarty with  ID 910: 68.92677669091844\n",
      "Similarty with  ID 903: 42.295351832618394\n"
     ]
    },
    {
     "name": "stderr",
     "output_type": "stream",
     "text": [
      "WARNING:root:frame length (1103) is greater than FFT size (512), frame will be truncated. Increase NFFT to avoid.\n",
      "WARNING:root:frame length (1103) is greater than FFT size (512), frame will be truncated. Increase NFFT to avoid.\n",
      "WARNING:root:frame length (1103) is greater than FFT size (512), frame will be truncated. Increase NFFT to avoid.\n",
      "WARNING:root:frame length (1103) is greater than FFT size (512), frame will be truncated. Increase NFFT to avoid.\n"
     ]
    },
    {
     "name": "stdout",
     "output_type": "stream",
     "text": [
      "Similarty with  ID 912: 69.19862242514277\n",
      "Similarty with  ID 899: 45.96948416903379\n",
      "Similarty with  ID 914: 64.68884496627545\n",
      "Similarty with  ID 901: 46.477532337750866\n"
     ]
    },
    {
     "name": "stderr",
     "output_type": "stream",
     "text": [
      "WARNING:root:frame length (1103) is greater than FFT size (512), frame will be truncated. Increase NFFT to avoid.\n",
      "WARNING:root:frame length (1103) is greater than FFT size (512), frame will be truncated. Increase NFFT to avoid.\n",
      "WARNING:root:frame length (1103) is greater than FFT size (512), frame will be truncated. Increase NFFT to avoid.\n",
      "WARNING:root:frame length (1103) is greater than FFT size (512), frame will be truncated. Increase NFFT to avoid.\n",
      "WARNING:root:frame length (1103) is greater than FFT size (512), frame will be truncated. Increase NFFT to avoid.\n",
      "WARNING:root:frame length (1103) is greater than FFT size (512), frame will be truncated. Increase NFFT to avoid.\n",
      "WARNING:root:frame length (1103) is greater than FFT size (512), frame will be truncated. Increase NFFT to avoid.\n",
      "WARNING:root:frame length (1103) is greater than FFT size (512), frame will be truncated. Increase NFFT to avoid.\n"
     ]
    },
    {
     "name": "stdout",
     "output_type": "stream",
     "text": [
      "Similarty with  ID 870: 68.32122545505035\n",
      "Similarty with  ID 909: 48.8570607044821\n",
      "Similarty with  ID 854: 70.48021050697388\n",
      "Similarty with  ID 907: 45.53192044433865\n",
      "Similarty with  ID 862: 79.69221807056104\n",
      "Similarty with  ID 913: 44.26441467218039\n",
      "Similarty with  ID 838: 70.1644768727278\n"
     ]
    },
    {
     "name": "stderr",
     "output_type": "stream",
     "text": [
      "WARNING:root:frame length (1103) is greater than FFT size (512), frame will be truncated. Increase NFFT to avoid.\n",
      "WARNING:root:frame length (1103) is greater than FFT size (512), frame will be truncated. Increase NFFT to avoid.\n"
     ]
    },
    {
     "name": "stdout",
     "output_type": "stream",
     "text": [
      "Similarty with  ID 911: 40.46372911663069\n",
      "Similarty with  ID 821: 67.25915889908804\n",
      "Similarty with  ID 830: 64.82052673567301\n"
     ]
    },
    {
     "name": "stderr",
     "output_type": "stream",
     "text": [
      "WARNING:root:frame length (1103) is greater than FFT size (512), frame will be truncated. Increase NFFT to avoid.\n",
      "WARNING:root:frame length (1103) is greater than FFT size (512), frame will be truncated. Increase NFFT to avoid.\n",
      "WARNING:root:frame length (1103) is greater than FFT size (512), frame will be truncated. Increase NFFT to avoid.\n",
      "WARNING:root:frame length (1103) is greater than FFT size (512), frame will be truncated. Increase NFFT to avoid.\n"
     ]
    },
    {
     "name": "stdout",
     "output_type": "stream",
     "text": [
      "Similarty with  ID 919: 43.48492641016107\n",
      "Similarty with  ID 916: 70.45429211170126\n",
      "Similarty with  ID 930: 49.17195515754553\n"
     ]
    },
    {
     "name": "stderr",
     "output_type": "stream",
     "text": [
      "WARNING:root:frame length (1103) is greater than FFT size (512), frame will be truncated. Increase NFFT to avoid.\n",
      "WARNING:root:frame length (1103) is greater than FFT size (512), frame will be truncated. Increase NFFT to avoid.\n",
      "WARNING:root:frame length (1103) is greater than FFT size (512), frame will be truncated. Increase NFFT to avoid.\n",
      "WARNING:root:frame length (1103) is greater than FFT size (512), frame will be truncated. Increase NFFT to avoid.\n",
      "WARNING:root:frame length (1103) is greater than FFT size (512), frame will be truncated. Increase NFFT to avoid.\n",
      "WARNING:root:frame length (1103) is greater than FFT size (512), frame will be truncated. Increase NFFT to avoid.\n"
     ]
    },
    {
     "name": "stdout",
     "output_type": "stream",
     "text": [
      "Similarty with  ID 994: 68.42606968159222\n",
      "Similarty with  ID 949: 46.12324235122243\n",
      "Similarty with  ID 1019: 68.23840981694875\n",
      "Similarty with  ID 927: 48.55539418801334\n",
      "Similarty with  ID 1011: 73.38476107202986\n",
      "Similarty with  ID 925: 46.93484874620813\n"
     ]
    },
    {
     "name": "stderr",
     "output_type": "stream",
     "text": [
      "WARNING:root:frame length (1103) is greater than FFT size (512), frame will be truncated. Increase NFFT to avoid.\n",
      "WARNING:root:frame length (1103) is greater than FFT size (512), frame will be truncated. Increase NFFT to avoid.\n",
      "WARNING:root:frame length (1103) is greater than FFT size (512), frame will be truncated. Increase NFFT to avoid.\n",
      "WARNING:root:frame length (1103) is greater than FFT size (512), frame will be truncated. Increase NFFT to avoid.\n",
      "WARNING:root:frame length (1103) is greater than FFT size (512), frame will be truncated. Increase NFFT to avoid.\n",
      "WARNING:root:frame length (1103) is greater than FFT size (512), frame will be truncated. Increase NFFT to avoid.\n",
      "WARNING:root:frame length (1103) is greater than FFT size (512), frame will be truncated. Increase NFFT to avoid.\n"
     ]
    },
    {
     "name": "stdout",
     "output_type": "stream",
     "text": [
      "Similarty with  ID 986: 72.96797291749884\n",
      "Similarty with  ID 921: 45.982851162963954\n",
      "Similarty with  ID 1027: 70.26249457822215\n",
      "Similarty with  ID 937: 40.34899990275108\n",
      "Similarty with  ID 978: 71.63176752135085\n",
      "Similarty with  ID 935: 38.17711550896621\n",
      "Similarty with  ID 954: 64.72770516582861\n"
     ]
    },
    {
     "name": "stderr",
     "output_type": "stream",
     "text": [
      "WARNING:root:frame length (1103) is greater than FFT size (512), frame will be truncated. Increase NFFT to avoid.\n",
      "WARNING:root:frame length (1103) is greater than FFT size (512), frame will be truncated. Increase NFFT to avoid.\n",
      "WARNING:root:frame length (1103) is greater than FFT size (512), frame will be truncated. Increase NFFT to avoid.\n",
      "WARNING:root:frame length (1103) is greater than FFT size (512), frame will be truncated. Increase NFFT to avoid.\n"
     ]
    },
    {
     "name": "stdout",
     "output_type": "stream",
     "text": [
      "Similarty with  ID 947: 40.41768870206738\n",
      "Similarty with  ID 962: 64.85863785041072\n",
      "Similarty with  ID 945: 44.77298802637002\n",
      "Similarty with  ID 918: 72.33289414332694\n",
      "Similarty with  ID 939: 43.37076745268862\n"
     ]
    },
    {
     "name": "stderr",
     "output_type": "stream",
     "text": [
      "WARNING:root:frame length (1103) is greater than FFT size (512), frame will be truncated. Increase NFFT to avoid.\n",
      "WARNING:root:frame length (1103) is greater than FFT size (512), frame will be truncated. Increase NFFT to avoid.\n",
      "WARNING:root:frame length (1103) is greater than FFT size (512), frame will be truncated. Increase NFFT to avoid.\n",
      "WARNING:root:frame length (1103) is greater than FFT size (512), frame will be truncated. Increase NFFT to avoid.\n",
      "WARNING:root:frame length (1103) is greater than FFT size (512), frame will be truncated. Increase NFFT to avoid.\n",
      "WARNING:root:frame length (1103) is greater than FFT size (512), frame will be truncated. Increase NFFT to avoid.\n"
     ]
    },
    {
     "name": "stdout",
     "output_type": "stream",
     "text": [
      "Similarty with  ID 920: 75.02274342354681\n",
      "Similarty with  ID 943: 50.719007069817444\n",
      "Similarty with  ID 922: 73.90661812426396\n",
      "Similarty with  ID 941: 41.37273069272359\n",
      "Similarty with  ID 926: 71.9553449506606\n"
     ]
    },
    {
     "name": "stderr",
     "output_type": "stream",
     "text": [
      "WARNING:root:frame length (1103) is greater than FFT size (512), frame will be truncated. Increase NFFT to avoid.\n",
      "WARNING:root:frame length (1103) is greater than FFT size (512), frame will be truncated. Increase NFFT to avoid.\n"
     ]
    },
    {
     "name": "stdout",
     "output_type": "stream",
     "text": [
      "Similarty with  ID 951: 40.14522907320172\n",
      "Similarty with  ID 928: 71.79214935998763\n",
      "Similarty with  ID 917: 43.06193071846381\n"
     ]
    },
    {
     "name": "stderr",
     "output_type": "stream",
     "text": [
      "WARNING:root:frame length (1103) is greater than FFT size (512), frame will be truncated. Increase NFFT to avoid.\n",
      "WARNING:root:frame length (1103) is greater than FFT size (512), frame will be truncated. Increase NFFT to avoid.\n",
      "WARNING:root:frame length (1103) is greater than FFT size (512), frame will be truncated. Increase NFFT to avoid.\n",
      "WARNING:root:frame length (1103) is greater than FFT size (512), frame will be truncated. Increase NFFT to avoid.\n",
      "WARNING:root:frame length (1103) is greater than FFT size (512), frame will be truncated. Increase NFFT to avoid.\n",
      "WARNING:root:frame length (1103) is greater than FFT size (512), frame will be truncated. Increase NFFT to avoid.\n"
     ]
    },
    {
     "name": "stdout",
     "output_type": "stream",
     "text": [
      "Similarty with  ID 929: 75.4453732610703\n",
      "Similarty with  ID 932: 47.56537275054804\n",
      "Similarty with  ID 933: 67.52674274220848\n",
      "Similarty with  ID 955: 46.28350166709137\n",
      "Similarty with  ID 934: 53.02238564155512\n",
      "Similarty with  ID 981: 43.57931231041872\n"
     ]
    },
    {
     "name": "stderr",
     "output_type": "stream",
     "text": [
      "WARNING:root:frame length (1103) is greater than FFT size (512), frame will be truncated. Increase NFFT to avoid.\n",
      "WARNING:root:frame length (1103) is greater than FFT size (512), frame will be truncated. Increase NFFT to avoid.\n",
      "WARNING:root:frame length (1103) is greater than FFT size (512), frame will be truncated. Increase NFFT to avoid.\n",
      "WARNING:root:frame length (1103) is greater than FFT size (512), frame will be truncated. Increase NFFT to avoid.\n"
     ]
    },
    {
     "name": "stdout",
     "output_type": "stream",
     "text": [
      "Similarty with  ID 936: 67.98856954804474\n",
      "Similarty with  ID 953: 49.62477025329097\n",
      "Similarty with  ID 938: 69.93232704860307\n",
      "Similarty with  ID 985: 43.779158246166006\n"
     ]
    },
    {
     "name": "stderr",
     "output_type": "stream",
     "text": [
      "WARNING:root:frame length (1103) is greater than FFT size (512), frame will be truncated. Increase NFFT to avoid.\n",
      "WARNING:root:frame length (1103) is greater than FFT size (512), frame will be truncated. Increase NFFT to avoid.\n",
      "WARNING:root:frame length (1103) is greater than FFT size (512), frame will be truncated. Increase NFFT to avoid.\n",
      "WARNING:root:frame length (1103) is greater than FFT size (512), frame will be truncated. Increase NFFT to avoid.\n",
      "WARNING:root:frame length (1103) is greater than FFT size (512), frame will be truncated. Increase NFFT to avoid.\n",
      "WARNING:root:frame length (1103) is greater than FFT size (512), frame will be truncated. Increase NFFT to avoid.\n",
      "WARNING:root:frame length (1103) is greater than FFT size (512), frame will be truncated. Increase NFFT to avoid.\n"
     ]
    },
    {
     "name": "stdout",
     "output_type": "stream",
     "text": [
      "Similarty with  ID 940: 68.59495456382956\n",
      "Similarty with  ID 983: 42.076589637256404\n",
      "Similarty with  ID 942: 69.73809580760866\n",
      "Similarty with  ID 979: 42.46330605563388\n",
      "Similarty with  ID 944: 65.5749699088698\n",
      "Similarty with  ID 965: 42.79953858934224\n"
     ]
    },
    {
     "name": "stderr",
     "output_type": "stream",
     "text": [
      "WARNING:root:frame length (1103) is greater than FFT size (512), frame will be truncated. Increase NFFT to avoid.\n",
      "WARNING:root:frame length (1103) is greater than FFT size (512), frame will be truncated. Increase NFFT to avoid.\n",
      "WARNING:root:frame length (1103) is greater than FFT size (512), frame will be truncated. Increase NFFT to avoid.\n",
      "WARNING:root:frame length (1103) is greater than FFT size (512), frame will be truncated. Increase NFFT to avoid.\n",
      "WARNING:root:frame length (1103) is greater than FFT size (512), frame will be truncated. Increase NFFT to avoid.\n"
     ]
    },
    {
     "name": "stdout",
     "output_type": "stream",
     "text": [
      "Similarty with  ID 948: 64.14727142814078\n",
      "Similarty with  ID 957: 40.09394466918919\n",
      "Similarty with  ID 950: 66.24366342294623\n",
      "Similarty with  ID 963: 44.017830243609346\n",
      "Similarty with  ID 952: 68.6751435720242\n",
      "Similarty with  ID 959: 43.54608429401787\n"
     ]
    },
    {
     "name": "stderr",
     "output_type": "stream",
     "text": [
      "WARNING:root:frame length (1103) is greater than FFT size (512), frame will be truncated. Increase NFFT to avoid.\n",
      "WARNING:root:frame length (1103) is greater than FFT size (512), frame will be truncated. Increase NFFT to avoid.\n",
      "WARNING:root:frame length (1103) is greater than FFT size (512), frame will be truncated. Increase NFFT to avoid.\n",
      "WARNING:root:frame length (1103) is greater than FFT size (512), frame will be truncated. Increase NFFT to avoid.\n",
      "WARNING:root:frame length (1103) is greater than FFT size (512), frame will be truncated. Increase NFFT to avoid.\n",
      "WARNING:root:frame length (1103) is greater than FFT size (512), frame will be truncated. Increase NFFT to avoid.\n"
     ]
    },
    {
     "name": "stdout",
     "output_type": "stream",
     "text": [
      "Similarty with  ID 956: 72.38235502332935\n",
      "Similarty with  ID 961: 43.9750303403777\n",
      "Similarty with  ID 958: 68.08014498566062\n",
      "Similarty with  ID 977: 38.88820415102673\n",
      "Similarty with  ID 960: 68.89244441736545\n"
     ]
    },
    {
     "name": "stderr",
     "output_type": "stream",
     "text": [
      "WARNING:root:frame length (1103) is greater than FFT size (512), frame will be truncated. Increase NFFT to avoid.\n",
      "WARNING:root:frame length (1103) is greater than FFT size (512), frame will be truncated. Increase NFFT to avoid.\n",
      "WARNING:root:frame length (1103) is greater than FFT size (512), frame will be truncated. Increase NFFT to avoid.\n",
      "WARNING:root:frame length (1103) is greater than FFT size (512), frame will be truncated. Increase NFFT to avoid.\n",
      "WARNING:root:frame length (1103) is greater than FFT size (512), frame will be truncated. Increase NFFT to avoid.\n"
     ]
    },
    {
     "name": "stdout",
     "output_type": "stream",
     "text": [
      "Similarty with  ID 969: 45.229890235364664\n",
      "Similarty with  ID 964: 71.19965670398922\n",
      "Similarty with  ID 967: 44.3354637759\n",
      "Similarty with  ID 966: 68.9394213582881\n",
      "Similarty with  ID 975: 42.519017340550576\n"
     ]
    },
    {
     "name": "stderr",
     "output_type": "stream",
     "text": [
      "WARNING:root:frame length (1103) is greater than FFT size (512), frame will be truncated. Increase NFFT to avoid.\n",
      "WARNING:root:frame length (1103) is greater than FFT size (512), frame will be truncated. Increase NFFT to avoid.\n",
      "WARNING:root:frame length (1103) is greater than FFT size (512), frame will be truncated. Increase NFFT to avoid.\n",
      "WARNING:root:frame length (1103) is greater than FFT size (512), frame will be truncated. Increase NFFT to avoid.\n"
     ]
    },
    {
     "name": "stdout",
     "output_type": "stream",
     "text": [
      "Similarty with  ID 968: 68.8307296310225\n",
      "Similarty with  ID 971: 41.13835953501907\n",
      "Similarty with  ID 970: 67.53644396213488\n",
      "Similarty with  ID 973: 40.49107714605398\n",
      "Similarty with  ID 972: 66.53705540806024\n"
     ]
    },
    {
     "name": "stderr",
     "output_type": "stream",
     "text": [
      "WARNING:root:frame length (1103) is greater than FFT size (512), frame will be truncated. Increase NFFT to avoid.\n",
      "WARNING:root:frame length (1103) is greater than FFT size (512), frame will be truncated. Increase NFFT to avoid.\n",
      "WARNING:root:frame length (1103) is greater than FFT size (512), frame will be truncated. Increase NFFT to avoid.\n"
     ]
    },
    {
     "name": "stdout",
     "output_type": "stream",
     "text": [
      "Similarty with  ID 1007: 48.72256471678771\n",
      "Similarty with  ID 974: 65.46973197733901\n",
      "Similarty with  ID 993: 40.41731004539926\n"
     ]
    },
    {
     "name": "stderr",
     "output_type": "stream",
     "text": [
      "WARNING:root:frame length (1103) is greater than FFT size (512), frame will be truncated. Increase NFFT to avoid.\n",
      "WARNING:root:frame length (1103) is greater than FFT size (512), frame will be truncated. Increase NFFT to avoid.\n",
      "WARNING:root:frame length (1103) is greater than FFT size (512), frame will be truncated. Increase NFFT to avoid.\n",
      "WARNING:root:frame length (1103) is greater than FFT size (512), frame will be truncated. Increase NFFT to avoid.\n"
     ]
    },
    {
     "name": "stdout",
     "output_type": "stream",
     "text": [
      "Similarty with  ID 976: 69.40824939654682\n",
      "Similarty with  ID 991: 42.170245427262834\n",
      "Similarty with  ID 980: 76.92708213532552\n",
      "Similarty with  ID 987: 47.685937438313715\n"
     ]
    },
    {
     "name": "stderr",
     "output_type": "stream",
     "text": [
      "WARNING:root:frame length (1103) is greater than FFT size (512), frame will be truncated. Increase NFFT to avoid.\n",
      "WARNING:root:frame length (1103) is greater than FFT size (512), frame will be truncated. Increase NFFT to avoid.\n",
      "WARNING:root:frame length (1103) is greater than FFT size (512), frame will be truncated. Increase NFFT to avoid.\n",
      "WARNING:root:frame length (1103) is greater than FFT size (512), frame will be truncated. Increase NFFT to avoid.\n",
      "WARNING:root:frame length (1103) is greater than FFT size (512), frame will be truncated. Increase NFFT to avoid.\n",
      "WARNING:root:frame length (1103) is greater than FFT size (512), frame will be truncated. Increase NFFT to avoid.\n"
     ]
    },
    {
     "name": "stdout",
     "output_type": "stream",
     "text": [
      "Similarty with  ID 982: 74.7878896228753\n",
      "Similarty with  ID 989: 44.24827751409299\n",
      "Similarty with  ID 984: 66.04493659806606\n",
      "Similarty with  ID 1005: 45.64867468756573\n",
      "Similarty with  ID 988: 68.06583984827358\n"
     ]
    },
    {
     "name": "stderr",
     "output_type": "stream",
     "text": [
      "WARNING:root:frame length (1103) is greater than FFT size (512), frame will be truncated. Increase NFFT to avoid.\n",
      "WARNING:root:frame length (1103) is greater than FFT size (512), frame will be truncated. Increase NFFT to avoid.\n",
      "WARNING:root:frame length (1103) is greater than FFT size (512), frame will be truncated. Increase NFFT to avoid.\n",
      "WARNING:root:frame length (1103) is greater than FFT size (512), frame will be truncated. Increase NFFT to avoid.\n"
     ]
    },
    {
     "name": "stdout",
     "output_type": "stream",
     "text": [
      "Similarty with  ID 997: 42.54955742228321\n",
      "Similarty with  ID 990: 67.4991026600495\n",
      "Similarty with  ID 995: 44.92048840284921\n",
      "Similarty with  ID 992: 72.68494294262281\n",
      "Similarty with  ID 1003: 48.312084387363825\n"
     ]
    },
    {
     "name": "stderr",
     "output_type": "stream",
     "text": [
      "WARNING:root:frame length (1103) is greater than FFT size (512), frame will be truncated. Increase NFFT to avoid.\n",
      "WARNING:root:frame length (1103) is greater than FFT size (512), frame will be truncated. Increase NFFT to avoid.\n",
      "WARNING:root:frame length (1103) is greater than FFT size (512), frame will be truncated. Increase NFFT to avoid.\n",
      "WARNING:root:frame length (1103) is greater than FFT size (512), frame will be truncated. Increase NFFT to avoid.\n",
      "WARNING:root:frame length (1103) is greater than FFT size (512), frame will be truncated. Increase NFFT to avoid.\n"
     ]
    },
    {
     "name": "stdout",
     "output_type": "stream",
     "text": [
      "Similarty with  ID 996: 67.46225393605155\n",
      "Similarty with  ID 999: 37.15383235685624\n",
      "Similarty with  ID 998: 67.36215674598027\n",
      "Similarty with  ID 1001: 41.332332655227255\n",
      "Similarty with  ID 1000: 65.40315615943146\n"
     ]
    },
    {
     "name": "stderr",
     "output_type": "stream",
     "text": [
      "WARNING:root:frame length (1103) is greater than FFT size (512), frame will be truncated. Increase NFFT to avoid.\n",
      "WARNING:root:frame length (1103) is greater than FFT size (512), frame will be truncated. Increase NFFT to avoid.\n",
      "WARNING:root:frame length (1103) is greater than FFT size (512), frame will be truncated. Increase NFFT to avoid.\n",
      "WARNING:root:frame length (1103) is greater than FFT size (512), frame will be truncated. Increase NFFT to avoid.\n",
      "WARNING:root:frame length (1103) is greater than FFT size (512), frame will be truncated. Increase NFFT to avoid.\n"
     ]
    },
    {
     "name": "stdout",
     "output_type": "stream",
     "text": [
      "Similarty with  ID 1018: 42.19262408440155\n",
      "Similarty with  ID 1002: 69.49585159609269\n",
      "Similarty with  ID 1010: 40.47651095399651\n",
      "Similarty with  ID 1004: 68.91649782918745\n"
     ]
    },
    {
     "name": "stderr",
     "output_type": "stream",
     "text": [
      "WARNING:root:frame length (1103) is greater than FFT size (512), frame will be truncated. Increase NFFT to avoid.\n",
      "WARNING:root:frame length (1103) is greater than FFT size (512), frame will be truncated. Increase NFFT to avoid.\n",
      "WARNING:root:frame length (1103) is greater than FFT size (512), frame will be truncated. Increase NFFT to avoid.\n",
      "WARNING:root:frame length (1103) is greater than FFT size (512), frame will be truncated. Increase NFFT to avoid.\n"
     ]
    },
    {
     "name": "stdout",
     "output_type": "stream",
     "text": [
      "Similarty with  ID 1008: 43.840408003803105\n",
      "Similarty with  ID 1006: 67.76206081746449\n",
      "Similarty with  ID 1016: 46.87114966870819\n",
      "Similarty with  ID 1009: 69.84604174702122\n"
     ]
    },
    {
     "name": "stderr",
     "output_type": "stream",
     "text": [
      "WARNING:root:frame length (1103) is greater than FFT size (512), frame will be truncated. Increase NFFT to avoid.\n",
      "WARNING:root:frame length (1103) is greater than FFT size (512), frame will be truncated. Increase NFFT to avoid.\n",
      "WARNING:root:frame length (1103) is greater than FFT size (512), frame will be truncated. Increase NFFT to avoid.\n",
      "WARNING:root:frame length (1103) is greater than FFT size (512), frame will be truncated. Increase NFFT to avoid.\n"
     ]
    },
    {
     "name": "stdout",
     "output_type": "stream",
     "text": [
      "Similarty with  ID 1012: 48.08404816091628\n",
      "Similarty with  ID 1013: 63.523233266961206\n",
      "Similarty with  ID 1014: 39.807657115605444\n",
      "Similarty with  ID 1015: 66.39371075609527\n",
      "Similarty with  ID 1030: 44.207045943719585\n"
     ]
    },
    {
     "name": "stderr",
     "output_type": "stream",
     "text": [
      "WARNING:root:frame length (1103) is greater than FFT size (512), frame will be truncated. Increase NFFT to avoid.\n",
      "WARNING:root:frame length (1103) is greater than FFT size (512), frame will be truncated. Increase NFFT to avoid.\n",
      "WARNING:root:frame length (1103) is greater than FFT size (512), frame will be truncated. Increase NFFT to avoid.\n",
      "WARNING:root:frame length (1103) is greater than FFT size (512), frame will be truncated. Increase NFFT to avoid.\n"
     ]
    },
    {
     "name": "stdout",
     "output_type": "stream",
     "text": [
      "Similarty with  ID 1017: 70.17266991094529\n",
      "Similarty with  ID 1022: 42.253966911857674\n",
      "Similarty with  ID 1021: 68.68061794434225\n",
      "Similarty with  ID 1020: 43.23159171758613\n"
     ]
    },
    {
     "name": "stderr",
     "output_type": "stream",
     "text": [
      "WARNING:root:frame length (1103) is greater than FFT size (512), frame will be truncated. Increase NFFT to avoid.\n",
      "WARNING:root:frame length (1103) is greater than FFT size (512), frame will be truncated. Increase NFFT to avoid.\n",
      "WARNING:root:frame length (1103) is greater than FFT size (512), frame will be truncated. Increase NFFT to avoid.\n",
      "WARNING:root:frame length (1103) is greater than FFT size (512), frame will be truncated. Increase NFFT to avoid.\n",
      "WARNING:root:frame length (1103) is greater than FFT size (512), frame will be truncated. Increase NFFT to avoid.\n",
      "WARNING:root:frame length (1103) is greater than FFT size (512), frame will be truncated. Increase NFFT to avoid.\n"
     ]
    },
    {
     "name": "stdout",
     "output_type": "stream",
     "text": [
      "Similarty with  ID 1023: 70.87937400562075\n",
      "Similarty with  ID 1028: 45.85699572063343\n",
      "Similarty with  ID 1025: 65.44655334988481\n",
      "Similarty with  ID 1024: 45.59712463563759\n",
      "Similarty with  ID 1029: 76.02991148365744\n"
     ]
    },
    {
     "name": "stderr",
     "output_type": "stream",
     "text": [
      "WARNING:root:frame length (1103) is greater than FFT size (512), frame will be truncated. Increase NFFT to avoid.\n",
      "WARNING:root:frame length (1103) is greater than FFT size (512), frame will be truncated. Increase NFFT to avoid.\n"
     ]
    },
    {
     "name": "stdout",
     "output_type": "stream",
     "text": [
      "Similarty with  ID 1026: 42.24273434577158\n",
      "Similarty with  ID 1031: 71.41037019622618\n",
      "Similarty with  ID 915: 44.73952922126023\n"
     ]
    },
    {
     "name": "stderr",
     "output_type": "stream",
     "text": [
      "WARNING:root:frame length (1103) is greater than FFT size (512), frame will be truncated. Increase NFFT to avoid.\n",
      "WARNING:root:frame length (1103) is greater than FFT size (512), frame will be truncated. Increase NFFT to avoid.\n",
      "WARNING:root:frame length (1103) is greater than FFT size (512), frame will be truncated. Increase NFFT to avoid.\n",
      "WARNING:root:frame length (1103) is greater than FFT size (512), frame will be truncated. Increase NFFT to avoid.\n"
     ]
    },
    {
     "name": "stdout",
     "output_type": "stream",
     "text": [
      "Similarty with  ID 946: 64.3596220952961\n",
      "Similarty with  ID 923: 49.827852377003744\n",
      "Similarty with  ID 924: 72.93447575360953\n",
      "Similarty with  ID 931: 58.27128139690595\n"
     ]
    },
    {
     "name": "stderr",
     "output_type": "stream",
     "text": [
      "WARNING:root:frame length (1103) is greater than FFT size (512), frame will be truncated. Increase NFFT to avoid.\n",
      "WARNING:root:frame length (1103) is greater than FFT size (512), frame will be truncated. Increase NFFT to avoid.\n"
     ]
    },
    {
     "name": "stdout",
     "output_type": "stream",
     "text": [
      "Similarty with  ID 1103: 41.31177224411151\n",
      "Similarty with  ID 1074: 65.02748927095969\n"
     ]
    },
    {
     "name": "stderr",
     "output_type": "stream",
     "text": [
      "WARNING:root:frame length (1103) is greater than FFT size (512), frame will be truncated. Increase NFFT to avoid.\n",
      "WARNING:root:frame length (1103) is greater than FFT size (512), frame will be truncated. Increase NFFT to avoid.\n",
      "WARNING:root:frame length (1103) is greater than FFT size (512), frame will be truncated. Increase NFFT to avoid.\n",
      "WARNING:root:frame length (1103) is greater than FFT size (512), frame will be truncated. Increase NFFT to avoid.\n",
      "WARNING:root:frame length (1103) is greater than FFT size (512), frame will be truncated. Increase NFFT to avoid.\n"
     ]
    },
    {
     "name": "stdout",
     "output_type": "stream",
     "text": [
      "Similarty with  ID 1105: 46.327144570517824\n",
      "Similarty with  ID 1122: 66.10600491026229\n",
      "Similarty with  ID 1125: 41.5432956453614\n",
      "Similarty with  ID 1114: 64.65716053300979\n"
     ]
    },
    {
     "name": "stderr",
     "output_type": "stream",
     "text": [
      "WARNING:root:frame length (1103) is greater than FFT size (512), frame will be truncated. Increase NFFT to avoid.\n",
      "WARNING:root:frame length (1103) is greater than FFT size (512), frame will be truncated. Increase NFFT to avoid.\n",
      "WARNING:root:frame length (1103) is greater than FFT size (512), frame will be truncated. Increase NFFT to avoid.\n"
     ]
    },
    {
     "name": "stdout",
     "output_type": "stream",
     "text": [
      "Similarty with  ID 1101: 44.11256599452489\n",
      "Similarty with  ID 1106: 62.47999660061502\n",
      "Similarty with  ID 1111: 44.83756629687295\n",
      "Similarty with  ID 1090: 68.18954017884428\n"
     ]
    },
    {
     "name": "stderr",
     "output_type": "stream",
     "text": [
      "WARNING:root:frame length (1103) is greater than FFT size (512), frame will be truncated. Increase NFFT to avoid.\n",
      "WARNING:root:frame length (1103) is greater than FFT size (512), frame will be truncated. Increase NFFT to avoid.\n",
      "WARNING:root:frame length (1103) is greater than FFT size (512), frame will be truncated. Increase NFFT to avoid.\n",
      "WARNING:root:frame length (1103) is greater than FFT size (512), frame will be truncated. Increase NFFT to avoid.\n",
      "WARNING:root:frame length (1103) is greater than FFT size (512), frame will be truncated. Increase NFFT to avoid.\n"
     ]
    },
    {
     "name": "stdout",
     "output_type": "stream",
     "text": [
      "Similarty with  ID 1117: 43.75146121949257\n",
      "Similarty with  ID 1082: 68.55765121622984\n",
      "Similarty with  ID 1127: 39.65773798804067\n",
      "Similarty with  ID 1058: 68.3503221200244\n"
     ]
    },
    {
     "name": "stderr",
     "output_type": "stream",
     "text": [
      "WARNING:root:frame length (1103) is greater than FFT size (512), frame will be truncated. Increase NFFT to avoid.\n",
      "WARNING:root:frame length (1103) is greater than FFT size (512), frame will be truncated. Increase NFFT to avoid.\n"
     ]
    },
    {
     "name": "stdout",
     "output_type": "stream",
     "text": [
      "Similarty with  ID 1121: 42.90443630510584\n",
      "Similarty with  ID 1172: 67.89639811076137\n",
      "Similarty with  ID 1119: 39.02300918629489\n"
     ]
    },
    {
     "name": "stderr",
     "output_type": "stream",
     "text": [
      "WARNING:root:frame length (1103) is greater than FFT size (512), frame will be truncated. Increase NFFT to avoid.\n",
      "WARNING:root:frame length (1103) is greater than FFT size (512), frame will be truncated. Increase NFFT to avoid.\n",
      "WARNING:root:frame length (1103) is greater than FFT size (512), frame will be truncated. Increase NFFT to avoid.\n",
      "WARNING:root:frame length (1103) is greater than FFT size (512), frame will be truncated. Increase NFFT to avoid.\n"
     ]
    },
    {
     "name": "stdout",
     "output_type": "stream",
     "text": [
      "Similarty with  ID 1033: 67.35957473313334\n",
      "Similarty with  ID 1109: 43.47621407207471\n",
      "Similarty with  ID 1034: 72.39484082951171\n"
     ]
    },
    {
     "name": "stderr",
     "output_type": "stream",
     "text": [
      "WARNING:root:frame length (1103) is greater than FFT size (512), frame will be truncated. Increase NFFT to avoid.\n",
      "WARNING:root:frame length (1103) is greater than FFT size (512), frame will be truncated. Increase NFFT to avoid.\n",
      "WARNING:root:frame length (1103) is greater than FFT size (512), frame will be truncated. Increase NFFT to avoid.\n"
     ]
    },
    {
     "name": "stdout",
     "output_type": "stream",
     "text": [
      "Similarty with  ID 1131: 43.20389727263745\n",
      "Similarty with  ID 1036: 68.17311426395726\n",
      "Similarty with  ID 1145: 41.5910712301337\n"
     ]
    },
    {
     "name": "stderr",
     "output_type": "stream",
     "text": [
      "WARNING:root:frame length (1103) is greater than FFT size (512), frame will be truncated. Increase NFFT to avoid.\n",
      "WARNING:root:frame length (1103) is greater than FFT size (512), frame will be truncated. Increase NFFT to avoid.\n",
      "WARNING:root:frame length (1103) is greater than FFT size (512), frame will be truncated. Increase NFFT to avoid.\n",
      "WARNING:root:frame length (1103) is greater than FFT size (512), frame will be truncated. Increase NFFT to avoid.\n",
      "WARNING:root:frame length (1103) is greater than FFT size (512), frame will be truncated. Increase NFFT to avoid.\n",
      "WARNING:root:frame length (1103) is greater than FFT size (512), frame will be truncated. Increase NFFT to avoid.\n",
      "WARNING:root:frame length (1103) is greater than FFT size (512), frame will be truncated. Increase NFFT to avoid.\n"
     ]
    },
    {
     "name": "stdout",
     "output_type": "stream",
     "text": [
      "Similarty with  ID 1038: 63.01479777656523\n",
      "Similarty with  ID 1115: 44.34387089717589\n",
      "Similarty with  ID 1040: 63.75812372788184\n",
      "Similarty with  ID 1141: 46.49231744158881\n",
      "Similarty with  ID 1044: 67.92349983063121\n",
      "Similarty with  ID 1144: 40.13663818006288\n",
      "Similarty with  ID 1046: 66.22366411562929\n"
     ]
    },
    {
     "name": "stderr",
     "output_type": "stream",
     "text": [
      "WARNING:root:frame length (1103) is greater than FFT size (512), frame will be truncated. Increase NFFT to avoid.\n",
      "WARNING:root:frame length (1103) is greater than FFT size (512), frame will be truncated. Increase NFFT to avoid.\n",
      "WARNING:root:frame length (1103) is greater than FFT size (512), frame will be truncated. Increase NFFT to avoid.\n",
      "WARNING:root:frame length (1103) is greater than FFT size (512), frame will be truncated. Increase NFFT to avoid.\n"
     ]
    },
    {
     "name": "stdout",
     "output_type": "stream",
     "text": [
      "Similarty with  ID 1137: 47.04180066819033\n",
      "Similarty with  ID 1048: 65.53705231684405\n",
      "Similarty with  ID 1139: 46.14518105700378\n",
      "Similarty with  ID 1052: 66.75269743275715\n"
     ]
    },
    {
     "name": "stderr",
     "output_type": "stream",
     "text": [
      "WARNING:root:frame length (1103) is greater than FFT size (512), frame will be truncated. Increase NFFT to avoid.\n",
      "WARNING:root:frame length (1103) is greater than FFT size (512), frame will be truncated. Increase NFFT to avoid.\n",
      "WARNING:root:frame length (1103) is greater than FFT size (512), frame will be truncated. Increase NFFT to avoid.\n"
     ]
    },
    {
     "name": "stdout",
     "output_type": "stream",
     "text": [
      "Similarty with  ID 1148: 44.06811799805302\n",
      "Similarty with  ID 1054: 62.12959962424286\n",
      "Similarty with  ID 1147: 41.68864529914749\n",
      "Similarty with  ID 1056: 64.77649335520405\n"
     ]
    },
    {
     "name": "stderr",
     "output_type": "stream",
     "text": [
      "WARNING:root:frame length (1103) is greater than FFT size (512), frame will be truncated. Increase NFFT to avoid.\n",
      "WARNING:root:frame length (1103) is greater than FFT size (512), frame will be truncated. Increase NFFT to avoid.\n",
      "WARNING:root:frame length (1103) is greater than FFT size (512), frame will be truncated. Increase NFFT to avoid.\n",
      "WARNING:root:frame length (1103) is greater than FFT size (512), frame will be truncated. Increase NFFT to avoid.\n",
      "WARNING:root:frame length (1103) is greater than FFT size (512), frame will be truncated. Increase NFFT to avoid.\n"
     ]
    },
    {
     "name": "stdout",
     "output_type": "stream",
     "text": [
      "Similarty with  ID 1157: 48.62084122024415\n",
      "Similarty with  ID 1060: 66.78485730023463\n",
      "Similarty with  ID 1155: 45.08187215592335\n",
      "Similarty with  ID 1062: 68.32652796684268\n",
      "Similarty with  ID 1149: 42.157093657412666\n"
     ]
    },
    {
     "name": "stderr",
     "output_type": "stream",
     "text": [
      "WARNING:root:frame length (1103) is greater than FFT size (512), frame will be truncated. Increase NFFT to avoid.\n",
      "WARNING:root:frame length (1103) is greater than FFT size (512), frame will be truncated. Increase NFFT to avoid.\n",
      "WARNING:root:frame length (1103) is greater than FFT size (512), frame will be truncated. Increase NFFT to avoid.\n",
      "WARNING:root:frame length (1103) is greater than FFT size (512), frame will be truncated. Increase NFFT to avoid.\n",
      "WARNING:root:frame length (1103) is greater than FFT size (512), frame will be truncated. Increase NFFT to avoid.\n"
     ]
    },
    {
     "name": "stdout",
     "output_type": "stream",
     "text": [
      "Similarty with  ID 1064: 70.68170700188351\n",
      "Similarty with  ID 1151: 37.20238967548451\n",
      "Similarty with  ID 1066: 67.4904948106522\n",
      "Similarty with  ID 1153: 44.03293774364558\n"
     ]
    },
    {
     "name": "stderr",
     "output_type": "stream",
     "text": [
      "WARNING:root:frame length (1103) is greater than FFT size (512), frame will be truncated. Increase NFFT to avoid.\n",
      "WARNING:root:frame length (1103) is greater than FFT size (512), frame will be truncated. Increase NFFT to avoid.\n",
      "WARNING:root:frame length (1103) is greater than FFT size (512), frame will be truncated. Increase NFFT to avoid.\n"
     ]
    },
    {
     "name": "stdout",
     "output_type": "stream",
     "text": [
      "Similarty with  ID 1068: 68.23254285976127\n",
      "Similarty with  ID 1159: 49.70908073007786\n",
      "Similarty with  ID 1070: 70.96464858410589\n",
      "Similarty with  ID 1165: 41.46489684698801\n"
     ]
    },
    {
     "name": "stderr",
     "output_type": "stream",
     "text": [
      "WARNING:root:frame length (1103) is greater than FFT size (512), frame will be truncated. Increase NFFT to avoid.\n",
      "WARNING:root:frame length (1103) is greater than FFT size (512), frame will be truncated. Increase NFFT to avoid.\n",
      "WARNING:root:frame length (1103) is greater than FFT size (512), frame will be truncated. Increase NFFT to avoid.\n",
      "WARNING:root:frame length (1103) is greater than FFT size (512), frame will be truncated. Increase NFFT to avoid.\n",
      "WARNING:root:frame length (1103) is greater than FFT size (512), frame will be truncated. Increase NFFT to avoid.\n"
     ]
    },
    {
     "name": "stdout",
     "output_type": "stream",
     "text": [
      "Similarty with  ID 1072: 72.98069468835311\n",
      "Similarty with  ID 1161: 38.196647009820644\n",
      "Similarty with  ID 1076: 69.62743196472476\n",
      "Similarty with  ID 1163: 45.33409676670415\n"
     ]
    },
    {
     "name": "stderr",
     "output_type": "stream",
     "text": [
      "WARNING:root:frame length (1103) is greater than FFT size (512), frame will be truncated. Increase NFFT to avoid.\n",
      "WARNING:root:frame length (1103) is greater than FFT size (512), frame will be truncated. Increase NFFT to avoid.\n"
     ]
    },
    {
     "name": "stdout",
     "output_type": "stream",
     "text": [
      "Similarty with  ID 1078: 75.87561110688989\n",
      "Similarty with  ID 1167: 45.61555189662837\n"
     ]
    },
    {
     "name": "stderr",
     "output_type": "stream",
     "text": [
      "WARNING:root:frame length (1103) is greater than FFT size (512), frame will be truncated. Increase NFFT to avoid.\n",
      "WARNING:root:frame length (1103) is greater than FFT size (512), frame will be truncated. Increase NFFT to avoid.\n",
      "WARNING:root:frame length (1103) is greater than FFT size (512), frame will be truncated. Increase NFFT to avoid.\n",
      "WARNING:root:frame length (1103) is greater than FFT size (512), frame will be truncated. Increase NFFT to avoid.\n",
      "WARNING:root:frame length (1103) is greater than FFT size (512), frame will be truncated. Increase NFFT to avoid.\n",
      "WARNING:root:frame length (1103) is greater than FFT size (512), frame will be truncated. Increase NFFT to avoid.\n"
     ]
    },
    {
     "name": "stdout",
     "output_type": "stream",
     "text": [
      "Similarty with  ID 1080: 64.48454031478651\n",
      "Similarty with  ID 1171: 43.95645585985514\n",
      "Similarty with  ID 1083: 61.57293680505286\n",
      "Similarty with  ID 1169: 42.32227999154091\n",
      "Similarty with  ID 1086: 70.45268239603807\n",
      "Similarty with  ID 1123: 43.98839386682706\n"
     ]
    },
    {
     "name": "stderr",
     "output_type": "stream",
     "text": [
      "WARNING:root:frame length (1103) is greater than FFT size (512), frame will be truncated. Increase NFFT to avoid.\n",
      "WARNING:root:frame length (1103) is greater than FFT size (512), frame will be truncated. Increase NFFT to avoid.\n",
      "WARNING:root:frame length (1103) is greater than FFT size (512), frame will be truncated. Increase NFFT to avoid.\n",
      "WARNING:root:frame length (1103) is greater than FFT size (512), frame will be truncated. Increase NFFT to avoid.\n",
      "WARNING:root:frame length (1103) is greater than FFT size (512), frame will be truncated. Increase NFFT to avoid.\n"
     ]
    },
    {
     "name": "stdout",
     "output_type": "stream",
     "text": [
      "Similarty with  ID 1088: 66.62115600277254\n",
      "Similarty with  ID 1099: 39.89363852142366\n",
      "Similarty with  ID 1092: 65.98871961213769\n",
      "Similarty with  ID 1091: 42.35111782708872\n",
      "Similarty with  ID 1094: 72.65272073536866\n",
      "Similarty with  ID 1133: 41.68909760323222\n"
     ]
    },
    {
     "name": "stderr",
     "output_type": "stream",
     "text": [
      "WARNING:root:frame length (1103) is greater than FFT size (512), frame will be truncated. Increase NFFT to avoid.\n",
      "WARNING:root:frame length (1103) is greater than FFT size (512), frame will be truncated. Increase NFFT to avoid.\n",
      "WARNING:root:frame length (1103) is greater than FFT size (512), frame will be truncated. Increase NFFT to avoid.\n",
      "WARNING:root:frame length (1103) is greater than FFT size (512), frame will be truncated. Increase NFFT to avoid.\n",
      "WARNING:root:frame length (1103) is greater than FFT size (512), frame will be truncated. Increase NFFT to avoid.\n",
      "WARNING:root:frame length (1103) is greater than FFT size (512), frame will be truncated. Increase NFFT to avoid.\n",
      "WARNING:root:frame length (1103) is greater than FFT size (512), frame will be truncated. Increase NFFT to avoid.\n"
     ]
    },
    {
     "name": "stdout",
     "output_type": "stream",
     "text": [
      "Similarty with  ID 1096: 61.37699391905638\n",
      "Similarty with  ID 1113: 45.766887064125484\n",
      "Similarty with  ID 1098: 65.44780053632591\n",
      "Similarty with  ID 1135: 40.63407852241728\n",
      "Similarty with  ID 1100: 68.75745686096815\n",
      "Similarty with  ID 1035: 43.299003106848815\n"
     ]
    },
    {
     "name": "stderr",
     "output_type": "stream",
     "text": [
      "WARNING:root:frame length (1103) is greater than FFT size (512), frame will be truncated. Increase NFFT to avoid.\n",
      "WARNING:root:frame length (1103) is greater than FFT size (512), frame will be truncated. Increase NFFT to avoid.\n",
      "WARNING:root:frame length (1103) is greater than FFT size (512), frame will be truncated. Increase NFFT to avoid.\n"
     ]
    },
    {
     "name": "stdout",
     "output_type": "stream",
     "text": [
      "Similarty with  ID 1102: 64.94874582602763\n",
      "Similarty with  ID 1032: 46.731166767940564\n",
      "Similarty with  ID 1104: 63.721350179363306\n",
      "Similarty with  ID 1084: 39.66916813604224\n"
     ]
    },
    {
     "name": "stderr",
     "output_type": "stream",
     "text": [
      "WARNING:root:frame length (1103) is greater than FFT size (512), frame will be truncated. Increase NFFT to avoid.\n",
      "WARNING:root:frame length (1103) is greater than FFT size (512), frame will be truncated. Increase NFFT to avoid.\n",
      "WARNING:root:frame length (1103) is greater than FFT size (512), frame will be truncated. Increase NFFT to avoid.\n",
      "WARNING:root:frame length (1103) is greater than FFT size (512), frame will be truncated. Increase NFFT to avoid.\n"
     ]
    },
    {
     "name": "stdout",
     "output_type": "stream",
     "text": [
      "Similarty with  ID 1108: 69.15099385876657\n",
      "Similarty with  ID 1043: 41.08979363578971\n",
      "Similarty with  ID 1110: 66.32816834161856\n",
      "Similarty with  ID 1057: 42.18444882798073\n"
     ]
    },
    {
     "name": "stderr",
     "output_type": "stream",
     "text": [
      "WARNING:root:frame length (1103) is greater than FFT size (512), frame will be truncated. Increase NFFT to avoid.\n",
      "WARNING:root:frame length (1103) is greater than FFT size (512), frame will be truncated. Increase NFFT to avoid.\n",
      "WARNING:root:frame length (1103) is greater than FFT size (512), frame will be truncated. Increase NFFT to avoid.\n",
      "WARNING:root:frame length (1103) is greater than FFT size (512), frame will be truncated. Increase NFFT to avoid.\n"
     ]
    },
    {
     "name": "stdout",
     "output_type": "stream",
     "text": [
      "Similarty with  ID 1112: 66.0868767199516\n",
      "Similarty with  ID 1041: 44.58872623602978\n",
      "Similarty with  ID 1116: 67.38342742496594\n"
     ]
    },
    {
     "name": "stderr",
     "output_type": "stream",
     "text": [
      "WARNING:root:frame length (1103) is greater than FFT size (512), frame will be truncated. Increase NFFT to avoid.\n",
      "WARNING:root:frame length (1103) is greater than FFT size (512), frame will be truncated. Increase NFFT to avoid.\n",
      "WARNING:root:frame length (1103) is greater than FFT size (512), frame will be truncated. Increase NFFT to avoid.\n",
      "WARNING:root:frame length (1103) is greater than FFT size (512), frame will be truncated. Increase NFFT to avoid.\n",
      "WARNING:root:frame length (1103) is greater than FFT size (512), frame will be truncated. Increase NFFT to avoid.\n",
      "WARNING:root:frame length (1103) is greater than FFT size (512), frame will be truncated. Increase NFFT to avoid.\n"
     ]
    },
    {
     "name": "stdout",
     "output_type": "stream",
     "text": [
      "Similarty with  ID 1037: 37.74739018444567\n",
      "Similarty with  ID 1118: 63.40454027859251\n",
      "Similarty with  ID 1039: 43.6902537383324\n",
      "Similarty with  ID 1120: 70.40906001480667\n",
      "Similarty with  ID 1085: 46.477588520199035\n",
      "Similarty with  ID 1124: 67.9804454951963\n"
     ]
    },
    {
     "name": "stderr",
     "output_type": "stream",
     "text": [
      "WARNING:root:frame length (1103) is greater than FFT size (512), frame will be truncated. Increase NFFT to avoid.\n",
      "WARNING:root:frame length (1103) is greater than FFT size (512), frame will be truncated. Increase NFFT to avoid.\n"
     ]
    },
    {
     "name": "stdout",
     "output_type": "stream",
     "text": [
      "Similarty with  ID 1055: 48.519030869572454\n",
      "Similarty with  ID 1126: 78.18905421155169\n",
      "Similarty with  ID 1047: 43.72637850982337\n"
     ]
    },
    {
     "name": "stderr",
     "output_type": "stream",
     "text": [
      "WARNING:root:frame length (1103) is greater than FFT size (512), frame will be truncated. Increase NFFT to avoid.\n",
      "WARNING:root:frame length (1103) is greater than FFT size (512), frame will be truncated. Increase NFFT to avoid.\n",
      "WARNING:root:frame length (1103) is greater than FFT size (512), frame will be truncated. Increase NFFT to avoid.\n",
      "WARNING:root:frame length (1103) is greater than FFT size (512), frame will be truncated. Increase NFFT to avoid.\n",
      "WARNING:root:frame length (1103) is greater than FFT size (512), frame will be truncated. Increase NFFT to avoid.\n",
      "WARNING:root:frame length (1103) is greater than FFT size (512), frame will be truncated. Increase NFFT to avoid.\n"
     ]
    },
    {
     "name": "stdout",
     "output_type": "stream",
     "text": [
      "Similarty with  ID 1128: 68.40975114679657\n",
      "Similarty with  ID 1045: 40.49789057905158\n",
      "Similarty with  ID 1130: 67.86148576758413\n",
      "Similarty with  ID 1053: 41.54157753796697\n",
      "Similarty with  ID 1132: 71.29699090093139\n",
      "Similarty with  ID 1049: 41.29019133836552\n"
     ]
    },
    {
     "name": "stderr",
     "output_type": "stream",
     "text": [
      "WARNING:root:frame length (1103) is greater than FFT size (512), frame will be truncated. Increase NFFT to avoid.\n",
      "WARNING:root:frame length (1103) is greater than FFT size (512), frame will be truncated. Increase NFFT to avoid.\n",
      "WARNING:root:frame length (1103) is greater than FFT size (512), frame will be truncated. Increase NFFT to avoid.\n",
      "WARNING:root:frame length (1103) is greater than FFT size (512), frame will be truncated. Increase NFFT to avoid.\n",
      "WARNING:root:frame length (1103) is greater than FFT size (512), frame will be truncated. Increase NFFT to avoid.\n"
     ]
    },
    {
     "name": "stdout",
     "output_type": "stream",
     "text": [
      "Similarty with  ID 1134: 68.87703227412197\n",
      "Similarty with  ID 1051: 47.08008274685534\n",
      "Similarty with  ID 1136: 65.66687303616185\n",
      "Similarty with  ID 1081: 42.86952549128731\n",
      "Similarty with  ID 1140: 70.37288145400802\n"
     ]
    },
    {
     "name": "stderr",
     "output_type": "stream",
     "text": [
      "WARNING:root:frame length (1103) is greater than FFT size (512), frame will be truncated. Increase NFFT to avoid.\n",
      "WARNING:root:frame length (1103) is greater than FFT size (512), frame will be truncated. Increase NFFT to avoid.\n",
      "WARNING:root:frame length (1103) is greater than FFT size (512), frame will be truncated. Increase NFFT to avoid.\n",
      "WARNING:root:frame length (1103) is greater than FFT size (512), frame will be truncated. Increase NFFT to avoid.\n"
     ]
    },
    {
     "name": "stdout",
     "output_type": "stream",
     "text": [
      "Similarty with  ID 1059: 44.45870760559663\n",
      "Similarty with  ID 1142: 66.5291219320859\n",
      "Similarty with  ID 1067: 44.41746683487774\n",
      "Similarty with  ID 1143: 64.30628427777307\n"
     ]
    },
    {
     "name": "stderr",
     "output_type": "stream",
     "text": [
      "WARNING:root:frame length (1103) is greater than FFT size (512), frame will be truncated. Increase NFFT to avoid.\n",
      "WARNING:root:frame length (1103) is greater than FFT size (512), frame will be truncated. Increase NFFT to avoid.\n",
      "WARNING:root:frame length (1103) is greater than FFT size (512), frame will be truncated. Increase NFFT to avoid.\n",
      "WARNING:root:frame length (1103) is greater than FFT size (512), frame will be truncated. Increase NFFT to avoid.\n"
     ]
    },
    {
     "name": "stdout",
     "output_type": "stream",
     "text": [
      "Similarty with  ID 1065: 41.441868221362654\n",
      "Similarty with  ID 1150: 69.70267239663329\n",
      "Similarty with  ID 1061: 41.99489097612928\n",
      "Similarty with  ID 1152: 69.79217525315812\n"
     ]
    },
    {
     "name": "stderr",
     "output_type": "stream",
     "text": [
      "WARNING:root:frame length (1103) is greater than FFT size (512), frame will be truncated. Increase NFFT to avoid.\n",
      "WARNING:root:frame length (1103) is greater than FFT size (512), frame will be truncated. Increase NFFT to avoid.\n",
      "WARNING:root:frame length (1103) is greater than FFT size (512), frame will be truncated. Increase NFFT to avoid.\n"
     ]
    },
    {
     "name": "stdout",
     "output_type": "stream",
     "text": [
      "Similarty with  ID 1063: 47.75491015942067\n",
      "Similarty with  ID 1154: 64.53864246549912\n",
      "Similarty with  ID 1079: 47.77479356146636\n"
     ]
    },
    {
     "name": "stderr",
     "output_type": "stream",
     "text": [
      "WARNING:root:frame length (1103) is greater than FFT size (512), frame will be truncated. Increase NFFT to avoid.\n",
      "WARNING:root:frame length (1103) is greater than FFT size (512), frame will be truncated. Increase NFFT to avoid.\n",
      "WARNING:root:frame length (1103) is greater than FFT size (512), frame will be truncated. Increase NFFT to avoid.\n",
      "WARNING:root:frame length (1103) is greater than FFT size (512), frame will be truncated. Increase NFFT to avoid.\n",
      "WARNING:root:frame length (1103) is greater than FFT size (512), frame will be truncated. Increase NFFT to avoid.\n",
      "WARNING:root:frame length (1103) is greater than FFT size (512), frame will be truncated. Increase NFFT to avoid.\n"
     ]
    },
    {
     "name": "stdout",
     "output_type": "stream",
     "text": [
      "Similarty with  ID 1158: 69.84387004124565\n",
      "Similarty with  ID 1071: 42.42302932905227\n",
      "Similarty with  ID 1160: 73.76809647471207\n",
      "Similarty with  ID 1069: 43.84354220084443\n",
      "Similarty with  ID 1162: 68.33846902919805\n"
     ]
    },
    {
     "name": "stderr",
     "output_type": "stream",
     "text": [
      "WARNING:root:frame length (1103) is greater than FFT size (512), frame will be truncated. Increase NFFT to avoid.\n",
      "WARNING:root:frame length (1103) is greater than FFT size (512), frame will be truncated. Increase NFFT to avoid.\n",
      "WARNING:root:frame length (1103) is greater than FFT size (512), frame will be truncated. Increase NFFT to avoid.\n",
      "WARNING:root:frame length (1103) is greater than FFT size (512), frame will be truncated. Increase NFFT to avoid.\n"
     ]
    },
    {
     "name": "stdout",
     "output_type": "stream",
     "text": [
      "Similarty with  ID 1077: 45.3419843896022\n",
      "Similarty with  ID 1164: 68.64904679628042\n",
      "Similarty with  ID 1073: 53.19706983585188\n",
      "Similarty with  ID 1166: 73.18454318017577\n"
     ]
    },
    {
     "name": "stderr",
     "output_type": "stream",
     "text": [
      "WARNING:root:frame length (1103) is greater than FFT size (512), frame will be truncated. Increase NFFT to avoid.\n",
      "WARNING:root:frame length (1103) is greater than FFT size (512), frame will be truncated. Increase NFFT to avoid.\n",
      "WARNING:root:frame length (1103) is greater than FFT size (512), frame will be truncated. Increase NFFT to avoid.\n",
      "WARNING:root:frame length (1103) is greater than FFT size (512), frame will be truncated. Increase NFFT to avoid.\n",
      "WARNING:root:frame length (1103) is greater than FFT size (512), frame will be truncated. Increase NFFT to avoid.\n",
      "WARNING:root:frame length (1103) is greater than FFT size (512), frame will be truncated. Increase NFFT to avoid.\n",
      "WARNING:root:frame length (1103) is greater than FFT size (512), frame will be truncated. Increase NFFT to avoid.\n",
      "WARNING:root:frame length (1103) is greater than FFT size (512), frame will be truncated. Increase NFFT to avoid.\n"
     ]
    },
    {
     "name": "stdout",
     "output_type": "stream",
     "text": [
      "Similarty with  ID 1075: 42.37764552115114\n",
      "Similarty with  ID 1168: 61.74003849155499\n",
      "Similarty with  ID 1089: 39.790555634891774\n",
      "Similarty with  ID 1170: 66.15387272999965\n",
      "Similarty with  ID 1087: 44.59883777014756\n",
      "Similarty with  ID 1138: 64.90768532686243\n",
      "Similarty with  ID 1129: 44.52996371220896\n",
      "Similarty with  ID 1156: 70.03169863154841\n"
     ]
    },
    {
     "name": "stderr",
     "output_type": "stream",
     "text": [
      "WARNING:root:frame length (1103) is greater than FFT size (512), frame will be truncated. Increase NFFT to avoid.\n",
      "WARNING:root:frame length (1103) is greater than FFT size (512), frame will be truncated. Increase NFFT to avoid.\n",
      "WARNING:root:frame length (1103) is greater than FFT size (512), frame will be truncated. Increase NFFT to avoid.\n"
     ]
    },
    {
     "name": "stdout",
     "output_type": "stream",
     "text": [
      "Similarty with  ID 1093: 42.506942921765734\n",
      "Similarty with  ID 1050: 68.01885486448066\n",
      "Similarty with  ID 1107: 42.302912695077126\n",
      "Similarty with  ID 1146: 69.69555988817282\n"
     ]
    },
    {
     "name": "stderr",
     "output_type": "stream",
     "text": [
      "WARNING:root:frame length (1103) is greater than FFT size (512), frame will be truncated. Increase NFFT to avoid.\n",
      "WARNING:root:frame length (1103) is greater than FFT size (512), frame will be truncated. Increase NFFT to avoid.\n",
      "WARNING:root:frame length (1103) is greater than FFT size (512), frame will be truncated. Increase NFFT to avoid.\n",
      "WARNING:root:frame length (1103) is greater than FFT size (512), frame will be truncated. Increase NFFT to avoid.\n",
      "WARNING:root:frame length (1103) is greater than FFT size (512), frame will be truncated. Increase NFFT to avoid.\n",
      "WARNING:root:frame length (1103) is greater than FFT size (512), frame will be truncated. Increase NFFT to avoid.\n"
     ]
    },
    {
     "name": "stdout",
     "output_type": "stream",
     "text": [
      "Similarty with  ID 1097: 44.06865920385795\n",
      "Similarty with  ID 1042: 65.97472080675259\n",
      "Similarty with  ID 1095: 47.003919502870524\n",
      "Similarty with  ID 1287: 74.19357065220966\n",
      "Similarty with  ID 1198: 42.13104278337285\n"
     ]
    },
    {
     "name": "stderr",
     "output_type": "stream",
     "text": [
      "WARNING:root:frame length (1103) is greater than FFT size (512), frame will be truncated. Increase NFFT to avoid.\n",
      "WARNING:root:frame length (1103) is greater than FFT size (512), frame will be truncated. Increase NFFT to avoid.\n",
      "WARNING:root:frame length (1103) is greater than FFT size (512), frame will be truncated. Increase NFFT to avoid.\n"
     ]
    },
    {
     "name": "stdout",
     "output_type": "stream",
     "text": [
      "Similarty with  ID 1173: 76.19953510702825\n",
      "Similarty with  ID 1310: 46.95486309352153\n",
      "Similarty with  ID 1295: 70.35161110732277\n",
      "Similarty with  ID 1318: 41.299065563207854\n"
     ]
    },
    {
     "name": "stderr",
     "output_type": "stream",
     "text": [
      "WARNING:root:frame length (1103) is greater than FFT size (512), frame will be truncated. Increase NFFT to avoid.\n",
      "WARNING:root:frame length (1103) is greater than FFT size (512), frame will be truncated. Increase NFFT to avoid.\n",
      "WARNING:root:frame length (1103) is greater than FFT size (512), frame will be truncated. Increase NFFT to avoid.\n",
      "WARNING:root:frame length (1103) is greater than FFT size (512), frame will be truncated. Increase NFFT to avoid.\n",
      "WARNING:root:frame length (1103) is greater than FFT size (512), frame will be truncated. Increase NFFT to avoid.\n",
      "WARNING:root:frame length (1103) is greater than FFT size (512), frame will be truncated. Increase NFFT to avoid.\n",
      "WARNING:root:frame length (1103) is greater than FFT size (512), frame will be truncated. Increase NFFT to avoid.\n"
     ]
    },
    {
     "name": "stdout",
     "output_type": "stream",
     "text": [
      "Similarty with  ID 1279: 70.10473234331256\n",
      "Similarty with  ID 1316: 39.573887404108845\n",
      "Similarty with  ID 1263: 72.5659972973877\n",
      "Similarty with  ID 1314: 46.21706431715014\n",
      "Similarty with  ID 1351: 66.27012735110728\n",
      "Similarty with  ID 1312: 44.796450291528096\n"
     ]
    },
    {
     "name": "stderr",
     "output_type": "stream",
     "text": [
      "WARNING:root:frame length (1103) is greater than FFT size (512), frame will be truncated. Increase NFFT to avoid.\n",
      "WARNING:root:frame length (1103) is greater than FFT size (512), frame will be truncated. Increase NFFT to avoid.\n",
      "WARNING:root:frame length (1103) is greater than FFT size (512), frame will be truncated. Increase NFFT to avoid.\n"
     ]
    },
    {
     "name": "stdout",
     "output_type": "stream",
     "text": [
      "Similarty with  ID 1271: 71.16117805117958\n",
      "Similarty with  ID 1192: 44.44801593216642\n",
      "Similarty with  ID 1255: 67.67154961639801\n",
      "Similarty with  ID 1190: 48.28990724256232\n"
     ]
    },
    {
     "name": "stderr",
     "output_type": "stream",
     "text": [
      "WARNING:root:frame length (1103) is greater than FFT size (512), frame will be truncated. Increase NFFT to avoid.\n",
      "WARNING:root:frame length (1103) is greater than FFT size (512), frame will be truncated. Increase NFFT to avoid.\n",
      "WARNING:root:frame length (1103) is greater than FFT size (512), frame will be truncated. Increase NFFT to avoid.\n",
      "WARNING:root:frame length (1103) is greater than FFT size (512), frame will be truncated. Increase NFFT to avoid.\n",
      "WARNING:root:frame length (1103) is greater than FFT size (512), frame will be truncated. Increase NFFT to avoid.\n",
      "WARNING:root:frame length (1103) is greater than FFT size (512), frame will be truncated. Increase NFFT to avoid.\n"
     ]
    },
    {
     "name": "stdout",
     "output_type": "stream",
     "text": [
      "Similarty with  ID 1239: 62.59495380460414\n",
      "Similarty with  ID 1194: 39.65844156446733\n",
      "Similarty with  ID 1343: 64.86610034394229\n",
      "Similarty with  ID 1174: 40.369670597860704\n",
      "Similarty with  ID 1247: 68.20595791953905\n"
     ]
    },
    {
     "name": "stderr",
     "output_type": "stream",
     "text": [
      "WARNING:root:frame length (1103) is greater than FFT size (512), frame will be truncated. Increase NFFT to avoid.\n",
      "WARNING:root:frame length (1103) is greater than FFT size (512), frame will be truncated. Increase NFFT to avoid.\n"
     ]
    },
    {
     "name": "stdout",
     "output_type": "stream",
     "text": [
      "Similarty with  ID 1182: 40.44652128528651\n",
      "Similarty with  ID 1231: 71.0533459354379\n",
      "Similarty with  ID 1180: 37.58745662414374\n"
     ]
    },
    {
     "name": "stderr",
     "output_type": "stream",
     "text": [
      "WARNING:root:frame length (1103) is greater than FFT size (512), frame will be truncated. Increase NFFT to avoid.\n",
      "WARNING:root:frame length (1103) is greater than FFT size (512), frame will be truncated. Increase NFFT to avoid.\n",
      "WARNING:root:frame length (1103) is greater than FFT size (512), frame will be truncated. Increase NFFT to avoid.\n",
      "WARNING:root:frame length (1103) is greater than FFT size (512), frame will be truncated. Increase NFFT to avoid.\n"
     ]
    },
    {
     "name": "stdout",
     "output_type": "stream",
     "text": [
      "Similarty with  ID 1335: 74.17435379132995\n",
      "Similarty with  ID 1176: 41.64455913014291\n",
      "Similarty with  ID 1215: 65.50702891244202\n",
      "Similarty with  ID 1178: 42.99910215726164\n"
     ]
    },
    {
     "name": "stderr",
     "output_type": "stream",
     "text": [
      "WARNING:root:frame length (1103) is greater than FFT size (512), frame will be truncated. Increase NFFT to avoid.\n",
      "WARNING:root:frame length (1103) is greater than FFT size (512), frame will be truncated. Increase NFFT to avoid.\n",
      "WARNING:root:frame length (1103) is greater than FFT size (512), frame will be truncated. Increase NFFT to avoid.\n",
      "WARNING:root:frame length (1103) is greater than FFT size (512), frame will be truncated. Increase NFFT to avoid.\n",
      "WARNING:root:frame length (1103) is greater than FFT size (512), frame will be truncated. Increase NFFT to avoid.\n",
      "WARNING:root:frame length (1103) is greater than FFT size (512), frame will be truncated. Increase NFFT to avoid.\n"
     ]
    },
    {
     "name": "stdout",
     "output_type": "stream",
     "text": [
      "Similarty with  ID 1223: 70.95502404981839\n",
      "Similarty with  ID 1186: 40.91567684034711\n",
      "Similarty with  ID 1327: 66.6999228355203\n",
      "Similarty with  ID 1184: 40.077843644768365\n",
      "Similarty with  ID 1207: 69.51696675244389\n",
      "Similarty with  ID 1188: 44.1798602902342\n"
     ]
    },
    {
     "name": "stderr",
     "output_type": "stream",
     "text": [
      "WARNING:root:frame length (1103) is greater than FFT size (512), frame will be truncated. Increase NFFT to avoid.\n",
      "WARNING:root:frame length (1103) is greater than FFT size (512), frame will be truncated. Increase NFFT to avoid.\n",
      "WARNING:root:frame length (1103) is greater than FFT size (512), frame will be truncated. Increase NFFT to avoid.\n",
      "WARNING:root:frame length (1103) is greater than FFT size (512), frame will be truncated. Increase NFFT to avoid.\n",
      "WARNING:root:frame length (1103) is greater than FFT size (512), frame will be truncated. Increase NFFT to avoid.\n",
      "WARNING:root:frame length (1103) is greater than FFT size (512), frame will be truncated. Increase NFFT to avoid.\n"
     ]
    },
    {
     "name": "stdout",
     "output_type": "stream",
     "text": [
      "Similarty with  ID 1191: 69.29053489977447\n",
      "Similarty with  ID 1216: 47.1621525938101\n",
      "Similarty with  ID 1177: 70.38574836602939\n",
      "Similarty with  ID 1284: 46.812020188274204\n",
      "Similarty with  ID 1179: 66.29460527483866\n"
     ]
    },
    {
     "name": "stderr",
     "output_type": "stream",
     "text": [
      "WARNING:root:frame length (1103) is greater than FFT size (512), frame will be truncated. Increase NFFT to avoid.\n",
      "WARNING:root:frame length (1103) is greater than FFT size (512), frame will be truncated. Increase NFFT to avoid.\n",
      "WARNING:root:frame length (1103) is greater than FFT size (512), frame will be truncated. Increase NFFT to avoid.\n",
      "WARNING:root:frame length (1103) is greater than FFT size (512), frame will be truncated. Increase NFFT to avoid.\n"
     ]
    },
    {
     "name": "stdout",
     "output_type": "stream",
     "text": [
      "Similarty with  ID 1246: 48.44431864699083\n",
      "Similarty with  ID 1181: 64.47954466864685\n",
      "Similarty with  ID 1214: 42.31508467912551\n",
      "Similarty with  ID 1185: 73.68823318646032\n",
      "Similarty with  ID 1200: 41.568265389699754\n"
     ]
    },
    {
     "name": "stderr",
     "output_type": "stream",
     "text": [
      "WARNING:root:frame length (1103) is greater than FFT size (512), frame will be truncated. Increase NFFT to avoid.\n",
      "WARNING:root:frame length (1103) is greater than FFT size (512), frame will be truncated. Increase NFFT to avoid.\n",
      "WARNING:root:frame length (1103) is greater than FFT size (512), frame will be truncated. Increase NFFT to avoid.\n",
      "WARNING:root:frame length (1103) is greater than FFT size (512), frame will be truncated. Increase NFFT to avoid.\n",
      "WARNING:root:frame length (1103) is greater than FFT size (512), frame will be truncated. Increase NFFT to avoid.\n",
      "WARNING:root:frame length (1103) is greater than FFT size (512), frame will be truncated. Increase NFFT to avoid.\n"
     ]
    },
    {
     "name": "stdout",
     "output_type": "stream",
     "text": [
      "Similarty with  ID 1187: 66.50568032444612\n",
      "Similarty with  ID 1212: 42.83226564059881\n",
      "Similarty with  ID 1189: 69.7716465294147\n",
      "Similarty with  ID 1204: 51.22186965170862\n",
      "Similarty with  ID 1193: 68.27872071129235\n",
      "Similarty with  ID 1202: 45.38887872746936\n"
     ]
    },
    {
     "name": "stderr",
     "output_type": "stream",
     "text": [
      "WARNING:root:frame length (1103) is greater than FFT size (512), frame will be truncated. Increase NFFT to avoid.\n",
      "WARNING:root:frame length (1103) is greater than FFT size (512), frame will be truncated. Increase NFFT to avoid.\n",
      "WARNING:root:frame length (1103) is greater than FFT size (512), frame will be truncated. Increase NFFT to avoid.\n",
      "WARNING:root:frame length (1103) is greater than FFT size (512), frame will be truncated. Increase NFFT to avoid.\n"
     ]
    },
    {
     "name": "stdout",
     "output_type": "stream",
     "text": [
      "Similarty with  ID 1195: 68.33068420517837\n",
      "Similarty with  ID 1210: 43.220305125192674\n",
      "Similarty with  ID 1197: 67.46058073955801\n"
     ]
    },
    {
     "name": "stderr",
     "output_type": "stream",
     "text": [
      "WARNING:root:frame length (1103) is greater than FFT size (512), frame will be truncated. Increase NFFT to avoid.\n",
      "WARNING:root:frame length (1103) is greater than FFT size (512), frame will be truncated. Increase NFFT to avoid.\n",
      "WARNING:root:frame length (1103) is greater than FFT size (512), frame will be truncated. Increase NFFT to avoid.\n",
      "WARNING:root:frame length (1103) is greater than FFT size (512), frame will be truncated. Increase NFFT to avoid.\n",
      "WARNING:root:frame length (1103) is greater than FFT size (512), frame will be truncated. Increase NFFT to avoid.\n"
     ]
    },
    {
     "name": "stdout",
     "output_type": "stream",
     "text": [
      "Similarty with  ID 1206: 37.46788253332189\n",
      "Similarty with  ID 1201: 69.51595773814186\n",
      "Similarty with  ID 1208: 43.35010766717418\n",
      "Similarty with  ID 1203: 70.05637113708767\n",
      "Similarty with  ID 1218: 46.64526051759482\n"
     ]
    },
    {
     "name": "stderr",
     "output_type": "stream",
     "text": [
      "WARNING:root:frame length (1103) is greater than FFT size (512), frame will be truncated. Increase NFFT to avoid.\n",
      "WARNING:root:frame length (1103) is greater than FFT size (512), frame will be truncated. Increase NFFT to avoid.\n",
      "WARNING:root:frame length (1103) is greater than FFT size (512), frame will be truncated. Increase NFFT to avoid.\n",
      "WARNING:root:frame length (1103) is greater than FFT size (512), frame will be truncated. Increase NFFT to avoid.\n",
      "WARNING:root:frame length (1103) is greater than FFT size (512), frame will be truncated. Increase NFFT to avoid.\n"
     ]
    },
    {
     "name": "stdout",
     "output_type": "stream",
     "text": [
      "Similarty with  ID 1205: 70.75584687377363\n",
      "Similarty with  ID 1220: 45.72614417550817\n",
      "Similarty with  ID 1209: 67.62930217144775\n",
      "Similarty with  ID 1222: 54.10305030632475\n",
      "Similarty with  ID 1211: 68.02319194226251\n"
     ]
    },
    {
     "name": "stderr",
     "output_type": "stream",
     "text": [
      "WARNING:root:frame length (1103) is greater than FFT size (512), frame will be truncated. Increase NFFT to avoid.\n",
      "WARNING:root:frame length (1103) is greater than FFT size (512), frame will be truncated. Increase NFFT to avoid.\n",
      "WARNING:root:frame length (1103) is greater than FFT size (512), frame will be truncated. Increase NFFT to avoid.\n"
     ]
    },
    {
     "name": "stdout",
     "output_type": "stream",
     "text": [
      "Similarty with  ID 1244: 45.84692908718246\n",
      "Similarty with  ID 1213: 68.40494094240124\n",
      "Similarty with  ID 1230: 43.156521916861685\n",
      "Similarty with  ID 1217: 63.70704938194294\n"
     ]
    },
    {
     "name": "stderr",
     "output_type": "stream",
     "text": [
      "WARNING:root:frame length (1103) is greater than FFT size (512), frame will be truncated. Increase NFFT to avoid.\n",
      "WARNING:root:frame length (1103) is greater than FFT size (512), frame will be truncated. Increase NFFT to avoid.\n",
      "WARNING:root:frame length (1103) is greater than FFT size (512), frame will be truncated. Increase NFFT to avoid.\n",
      "WARNING:root:frame length (1103) is greater than FFT size (512), frame will be truncated. Increase NFFT to avoid.\n",
      "WARNING:root:frame length (1103) is greater than FFT size (512), frame will be truncated. Increase NFFT to avoid.\n"
     ]
    },
    {
     "name": "stdout",
     "output_type": "stream",
     "text": [
      "Similarty with  ID 1226: 40.25428997890271\n",
      "Similarty with  ID 1219: 59.193234197301905\n",
      "Similarty with  ID 1224: 44.68811802337224\n",
      "Similarty with  ID 1221: 68.70538975839322\n"
     ]
    },
    {
     "name": "stderr",
     "output_type": "stream",
     "text": [
      "WARNING:root:frame length (1103) is greater than FFT size (512), frame will be truncated. Increase NFFT to avoid.\n",
      "WARNING:root:frame length (1103) is greater than FFT size (512), frame will be truncated. Increase NFFT to avoid.\n",
      "WARNING:root:frame length (1103) is greater than FFT size (512), frame will be truncated. Increase NFFT to avoid.\n",
      "WARNING:root:frame length (1103) is greater than FFT size (512), frame will be truncated. Increase NFFT to avoid.\n",
      "WARNING:root:frame length (1103) is greater than FFT size (512), frame will be truncated. Increase NFFT to avoid.\n",
      "WARNING:root:frame length (1103) is greater than FFT size (512), frame will be truncated. Increase NFFT to avoid.\n"
     ]
    },
    {
     "name": "stdout",
     "output_type": "stream",
     "text": [
      "Similarty with  ID 1242: 48.67595143215226\n",
      "Similarty with  ID 1183: 68.85975561650066\n",
      "Similarty with  ID 1228: 40.73026630353369\n",
      "Similarty with  ID 1319: 64.88907817779446\n",
      "Similarty with  ID 1232: 43.066920189596026\n",
      "Similarty with  ID 1225: 65.97806159666355\n",
      "Similarty with  ID 1240: 45.16584720547454\n"
     ]
    },
    {
     "name": "stderr",
     "output_type": "stream",
     "text": [
      "WARNING:root:frame length (1103) is greater than FFT size (512), frame will be truncated. Increase NFFT to avoid.\n",
      "WARNING:root:frame length (1103) is greater than FFT size (512), frame will be truncated. Increase NFFT to avoid.\n",
      "WARNING:root:frame length (1103) is greater than FFT size (512), frame will be truncated. Increase NFFT to avoid.\n",
      "WARNING:root:frame length (1103) is greater than FFT size (512), frame will be truncated. Increase NFFT to avoid.\n",
      "WARNING:root:frame length (1103) is greater than FFT size (512), frame will be truncated. Increase NFFT to avoid.\n",
      "WARNING:root:frame length (1103) is greater than FFT size (512), frame will be truncated. Increase NFFT to avoid.\n",
      "WARNING:root:frame length (1103) is greater than FFT size (512), frame will be truncated. Increase NFFT to avoid.\n",
      "WARNING:root:frame length (1103) is greater than FFT size (512), frame will be truncated. Increase NFFT to avoid.\n"
     ]
    },
    {
     "name": "stdout",
     "output_type": "stream",
     "text": [
      "Similarty with  ID 1227: 64.07366940880274\n",
      "Similarty with  ID 1238: 53.28785875696397\n",
      "Similarty with  ID 1229: 68.80588285974174\n",
      "Similarty with  ID 1234: 39.30228277401003\n",
      "Similarty with  ID 1233: 58.68480422974028\n",
      "Similarty with  ID 1236: 40.40793755341496\n",
      "Similarty with  ID 1235: 62.4441152981199\n"
     ]
    },
    {
     "name": "stderr",
     "output_type": "stream",
     "text": [
      "WARNING:root:frame length (1103) is greater than FFT size (512), frame will be truncated. Increase NFFT to avoid.\n",
      "WARNING:root:frame length (1103) is greater than FFT size (512), frame will be truncated. Increase NFFT to avoid.\n",
      "WARNING:root:frame length (1103) is greater than FFT size (512), frame will be truncated. Increase NFFT to avoid.\n",
      "WARNING:root:frame length (1103) is greater than FFT size (512), frame will be truncated. Increase NFFT to avoid.\n"
     ]
    },
    {
     "name": "stdout",
     "output_type": "stream",
     "text": [
      "Similarty with  ID 1282: 42.97086744137098\n",
      "Similarty with  ID 1237: 67.94695316776287\n",
      "Similarty with  ID 1250: 43.63533907892472\n",
      "Similarty with  ID 1241: 71.83024859953149\n",
      "Similarty with  ID 1280: 46.1076717168657\n"
     ]
    },
    {
     "name": "stderr",
     "output_type": "stream",
     "text": [
      "WARNING:root:frame length (1103) is greater than FFT size (512), frame will be truncated. Increase NFFT to avoid.\n",
      "WARNING:root:frame length (1103) is greater than FFT size (512), frame will be truncated. Increase NFFT to avoid.\n",
      "WARNING:root:frame length (1103) is greater than FFT size (512), frame will be truncated. Increase NFFT to avoid.\n",
      "WARNING:root:frame length (1103) is greater than FFT size (512), frame will be truncated. Increase NFFT to avoid.\n",
      "WARNING:root:frame length (1103) is greater than FFT size (512), frame will be truncated. Increase NFFT to avoid.\n"
     ]
    },
    {
     "name": "stdout",
     "output_type": "stream",
     "text": [
      "Similarty with  ID 1243: 71.20817747946703\n",
      "Similarty with  ID 1248: 39.42835990644944\n",
      "Similarty with  ID 1245: 74.16630340011086\n",
      "Similarty with  ID 1264: 41.17695570510218\n"
     ]
    },
    {
     "name": "stderr",
     "output_type": "stream",
     "text": [
      "WARNING:root:frame length (1103) is greater than FFT size (512), frame will be truncated. Increase NFFT to avoid.\n",
      "WARNING:root:frame length (1103) is greater than FFT size (512), frame will be truncated. Increase NFFT to avoid.\n",
      "WARNING:root:frame length (1103) is greater than FFT size (512), frame will be truncated. Increase NFFT to avoid.\n",
      "WARNING:root:frame length (1103) is greater than FFT size (512), frame will be truncated. Increase NFFT to avoid.\n"
     ]
    },
    {
     "name": "stdout",
     "output_type": "stream",
     "text": [
      "Similarty with  ID 1249: 67.99703555645914\n",
      "Similarty with  ID 1328: 41.02541691013332\n",
      "Similarty with  ID 1251: 69.44373513445372\n",
      "Similarty with  ID 1262: 40.44249389074178\n",
      "Similarty with  ID 1253: 71.81825263658975\n"
     ]
    },
    {
     "name": "stderr",
     "output_type": "stream",
     "text": [
      "WARNING:root:frame length (1103) is greater than FFT size (512), frame will be truncated. Increase NFFT to avoid.\n",
      "WARNING:root:frame length (1103) is greater than FFT size (512), frame will be truncated. Increase NFFT to avoid.\n",
      "WARNING:root:frame length (1103) is greater than FFT size (512), frame will be truncated. Increase NFFT to avoid.\n",
      "WARNING:root:frame length (1103) is greater than FFT size (512), frame will be truncated. Increase NFFT to avoid.\n"
     ]
    },
    {
     "name": "stdout",
     "output_type": "stream",
     "text": [
      "Similarty with  ID 1254: 45.76647677269896\n",
      "Similarty with  ID 1175: 66.84428710978605\n",
      "Similarty with  ID 1252: 41.25242403027506\n",
      "Similarty with  ID 1257: 65.41770778073077\n"
     ]
    },
    {
     "name": "stderr",
     "output_type": "stream",
     "text": [
      "WARNING:root:frame length (1103) is greater than FFT size (512), frame will be truncated. Increase NFFT to avoid.\n",
      "WARNING:root:frame length (1103) is greater than FFT size (512), frame will be truncated. Increase NFFT to avoid.\n",
      "WARNING:root:frame length (1103) is greater than FFT size (512), frame will be truncated. Increase NFFT to avoid.\n",
      "WARNING:root:frame length (1103) is greater than FFT size (512), frame will be truncated. Increase NFFT to avoid.\n"
     ]
    },
    {
     "name": "stdout",
     "output_type": "stream",
     "text": [
      "Similarty with  ID 1260: 43.52348236313131\n",
      "Similarty with  ID 1259: 64.10137106309881\n",
      "Similarty with  ID 1256: 47.04787247207833\n",
      "Similarty with  ID 1261: 67.88315349015858\n"
     ]
    },
    {
     "name": "stderr",
     "output_type": "stream",
     "text": [
      "WARNING:root:frame length (1103) is greater than FFT size (512), frame will be truncated. Increase NFFT to avoid.\n",
      "WARNING:root:frame length (1103) is greater than FFT size (512), frame will be truncated. Increase NFFT to avoid.\n",
      "WARNING:root:frame length (1103) is greater than FFT size (512), frame will be truncated. Increase NFFT to avoid.\n",
      "WARNING:root:frame length (1103) is greater than FFT size (512), frame will be truncated. Increase NFFT to avoid.\n",
      "WARNING:root:frame length (1103) is greater than FFT size (512), frame will be truncated. Increase NFFT to avoid.\n",
      "WARNING:root:frame length (1103) is greater than FFT size (512), frame will be truncated. Increase NFFT to avoid.\n"
     ]
    },
    {
     "name": "stdout",
     "output_type": "stream",
     "text": [
      "Similarty with  ID 1258: 40.88056940585567\n",
      "Similarty with  ID 1265: 77.24471108916029\n",
      "Similarty with  ID 1326: 40.02376160248601\n",
      "Similarty with  ID 1267: 66.77580290094582\n",
      "Similarty with  ID 1278: 39.14313486673755\n",
      "Similarty with  ID 1269: 67.9463857910541\n"
     ]
    },
    {
     "name": "stderr",
     "output_type": "stream",
     "text": [
      "WARNING:root:frame length (1103) is greater than FFT size (512), frame will be truncated. Increase NFFT to avoid.\n",
      "WARNING:root:frame length (1103) is greater than FFT size (512), frame will be truncated. Increase NFFT to avoid.\n",
      "WARNING:root:frame length (1103) is greater than FFT size (512), frame will be truncated. Increase NFFT to avoid.\n",
      "WARNING:root:frame length (1103) is greater than FFT size (512), frame will be truncated. Increase NFFT to avoid.\n",
      "WARNING:root:frame length (1103) is greater than FFT size (512), frame will be truncated. Increase NFFT to avoid.\n",
      "WARNING:root:frame length (1103) is greater than FFT size (512), frame will be truncated. Increase NFFT to avoid.\n"
     ]
    },
    {
     "name": "stdout",
     "output_type": "stream",
     "text": [
      "Similarty with  ID 1274: 42.9269254232037\n",
      "Similarty with  ID 1273: 66.69978103397467\n",
      "Similarty with  ID 1266: 40.74594893343337\n",
      "Similarty with  ID 1275: 71.60347236633778\n",
      "Similarty with  ID 1272: 46.26461045549638\n",
      "Similarty with  ID 1277: 72.49857612188741\n"
     ]
    },
    {
     "name": "stderr",
     "output_type": "stream",
     "text": [
      "WARNING:root:frame length (1103) is greater than FFT size (512), frame will be truncated. Increase NFFT to avoid.\n",
      "WARNING:root:frame length (1103) is greater than FFT size (512), frame will be truncated. Increase NFFT to avoid.\n",
      "WARNING:root:frame length (1103) is greater than FFT size (512), frame will be truncated. Increase NFFT to avoid.\n",
      "WARNING:root:frame length (1103) is greater than FFT size (512), frame will be truncated. Increase NFFT to avoid.\n",
      "WARNING:root:frame length (1103) is greater than FFT size (512), frame will be truncated. Increase NFFT to avoid.\n",
      "WARNING:root:frame length (1103) is greater than FFT size (512), frame will be truncated. Increase NFFT to avoid.\n"
     ]
    },
    {
     "name": "stdout",
     "output_type": "stream",
     "text": [
      "Similarty with  ID 1268: 45.687921762104345\n",
      "Similarty with  ID 1281: 63.52045183181328\n",
      "Similarty with  ID 1270: 39.270555457787125\n",
      "Similarty with  ID 1283: 65.52620684259641\n",
      "Similarty with  ID 1324: 42.171205201110446\n",
      "Similarty with  ID 1285: 57.057673875243786\n"
     ]
    },
    {
     "name": "stderr",
     "output_type": "stream",
     "text": [
      "WARNING:root:frame length (1103) is greater than FFT size (512), frame will be truncated. Increase NFFT to avoid.\n",
      "WARNING:root:frame length (1103) is greater than FFT size (512), frame will be truncated. Increase NFFT to avoid.\n",
      "WARNING:root:frame length (1103) is greater than FFT size (512), frame will be truncated. Increase NFFT to avoid.\n",
      "WARNING:root:frame length (1103) is greater than FFT size (512), frame will be truncated. Increase NFFT to avoid.\n"
     ]
    },
    {
     "name": "stdout",
     "output_type": "stream",
     "text": [
      "Similarty with  ID 1286: 40.93546838530719\n",
      "Similarty with  ID 1289: 69.97178916959545\n",
      "Similarty with  ID 1276: 41.13293177210916\n",
      "Similarty with  ID 1291: 69.6207696500606\n"
     ]
    },
    {
     "name": "stderr",
     "output_type": "stream",
     "text": [
      "WARNING:root:frame length (1103) is greater than FFT size (512), frame will be truncated. Increase NFFT to avoid.\n",
      "WARNING:root:frame length (1103) is greater than FFT size (512), frame will be truncated. Increase NFFT to avoid.\n",
      "WARNING:root:frame length (1103) is greater than FFT size (512), frame will be truncated. Increase NFFT to avoid.\n",
      "WARNING:root:frame length (1103) is greater than FFT size (512), frame will be truncated. Increase NFFT to avoid.\n",
      "WARNING:root:frame length (1103) is greater than FFT size (512), frame will be truncated. Increase NFFT to avoid.\n"
     ]
    },
    {
     "name": "stdout",
     "output_type": "stream",
     "text": [
      "Similarty with  ID 1322: 48.62368632774129\n",
      "Similarty with  ID 1293: 75.70750014762599\n",
      "Similarty with  ID 1300: 45.54657502032357\n",
      "Similarty with  ID 1297: 66.6423486329342\n",
      "Similarty with  ID 1308: 38.95312139037268\n"
     ]
    },
    {
     "name": "stderr",
     "output_type": "stream",
     "text": [
      "WARNING:root:frame length (1103) is greater than FFT size (512), frame will be truncated. Increase NFFT to avoid.\n",
      "WARNING:root:frame length (1103) is greater than FFT size (512), frame will be truncated. Increase NFFT to avoid.\n",
      "WARNING:root:frame length (1103) is greater than FFT size (512), frame will be truncated. Increase NFFT to avoid.\n",
      "WARNING:root:frame length (1103) is greater than FFT size (512), frame will be truncated. Increase NFFT to avoid.\n",
      "WARNING:root:frame length (1103) is greater than FFT size (512), frame will be truncated. Increase NFFT to avoid.\n",
      "WARNING:root:frame length (1103) is greater than FFT size (512), frame will be truncated. Increase NFFT to avoid.\n",
      "WARNING:root:frame length (1103) is greater than FFT size (512), frame will be truncated. Increase NFFT to avoid.\n",
      "WARNING:root:frame length (1103) is greater than FFT size (512), frame will be truncated. Increase NFFT to avoid.\n"
     ]
    },
    {
     "name": "stdout",
     "output_type": "stream",
     "text": [
      "Similarty with  ID 1299: 60.33119205407126\n",
      "Similarty with  ID 1330: 41.550919046330144\n",
      "Similarty with  ID 1301: 65.81532567506791\n",
      "Similarty with  ID 1338: 42.067304580211086\n",
      "Similarty with  ID 1305: 67.00290315333488\n",
      "Similarty with  ID 1336: 53.68334593534397\n",
      "Similarty with  ID 1307: 73.296843378695\n"
     ]
    },
    {
     "name": "stderr",
     "output_type": "stream",
     "text": [
      "WARNING:root:frame length (1103) is greater than FFT size (512), frame will be truncated. Increase NFFT to avoid.\n",
      "WARNING:root:frame length (1103) is greater than FFT size (512), frame will be truncated. Increase NFFT to avoid.\n",
      "WARNING:root:frame length (1103) is greater than FFT size (512), frame will be truncated. Increase NFFT to avoid.\n",
      "WARNING:root:frame length (1103) is greater than FFT size (512), frame will be truncated. Increase NFFT to avoid.\n",
      "WARNING:root:frame length (1103) is greater than FFT size (512), frame will be truncated. Increase NFFT to avoid.\n",
      "WARNING:root:frame length (1103) is greater than FFT size (512), frame will be truncated. Increase NFFT to avoid.\n"
     ]
    },
    {
     "name": "stdout",
     "output_type": "stream",
     "text": [
      "Similarty with  ID 1332: 41.12566580563332\n",
      "Similarty with  ID 1309: 70.27320793217186\n",
      "Similarty with  ID 1334: 42.89429105287005\n",
      "Similarty with  ID 1313: 67.21184981294294\n",
      "Similarty with  ID 1350: 43.400906312416176\n",
      "Similarty with  ID 1315: 70.81155329414973\n",
      "Similarty with  ID 1342: 40.63703101750634\n"
     ]
    },
    {
     "name": "stderr",
     "output_type": "stream",
     "text": [
      "WARNING:root:frame length (1103) is greater than FFT size (512), frame will be truncated. Increase NFFT to avoid.\n",
      "WARNING:root:frame length (1103) is greater than FFT size (512), frame will be truncated. Increase NFFT to avoid.\n",
      "WARNING:root:frame length (1103) is greater than FFT size (512), frame will be truncated. Increase NFFT to avoid.\n",
      "WARNING:root:frame length (1103) is greater than FFT size (512), frame will be truncated. Increase NFFT to avoid.\n",
      "WARNING:root:frame length (1103) is greater than FFT size (512), frame will be truncated. Increase NFFT to avoid.\n",
      "WARNING:root:frame length (1103) is greater than FFT size (512), frame will be truncated. Increase NFFT to avoid.\n",
      "WARNING:root:frame length (1103) is greater than FFT size (512), frame will be truncated. Increase NFFT to avoid.\n",
      "WARNING:root:frame length (1103) is greater than FFT size (512), frame will be truncated. Increase NFFT to avoid.\n"
     ]
    },
    {
     "name": "stdout",
     "output_type": "stream",
     "text": [
      "Similarty with  ID 1317: 64.44648066735176\n",
      "Similarty with  ID 1340: 48.500575742948676\n",
      "Similarty with  ID 1321: 67.72936805448047\n",
      "Similarty with  ID 1348: 48.70298633684922\n",
      "Similarty with  ID 1323: 66.70859719901392\n",
      "Similarty with  ID 1344: 41.222034338481606\n",
      "Similarty with  ID 1325: 69.70816574259736\n",
      "Similarty with  ID 1346: 42.80180451829106\n"
     ]
    },
    {
     "name": "stderr",
     "output_type": "stream",
     "text": [
      "WARNING:root:frame length (1103) is greater than FFT size (512), frame will be truncated. Increase NFFT to avoid.\n",
      "WARNING:root:frame length (1103) is greater than FFT size (512), frame will be truncated. Increase NFFT to avoid.\n",
      "WARNING:root:frame length (1103) is greater than FFT size (512), frame will be truncated. Increase NFFT to avoid.\n",
      "WARNING:root:frame length (1103) is greater than FFT size (512), frame will be truncated. Increase NFFT to avoid.\n",
      "WARNING:root:frame length (1103) is greater than FFT size (512), frame will be truncated. Increase NFFT to avoid.\n",
      "WARNING:root:frame length (1103) is greater than FFT size (512), frame will be truncated. Increase NFFT to avoid.\n",
      "WARNING:root:frame length (1103) is greater than FFT size (512), frame will be truncated. Increase NFFT to avoid.\n",
      "WARNING:root:frame length (1103) is greater than FFT size (512), frame will be truncated. Increase NFFT to avoid.\n"
     ]
    },
    {
     "name": "stdout",
     "output_type": "stream",
     "text": [
      "Similarty with  ID 1329: 65.36010305567329\n",
      "Similarty with  ID 1320: 42.19584846374613\n",
      "Similarty with  ID 1331: 66.47981998507544\n",
      "Similarty with  ID 1292: 41.161848861205314\n",
      "Similarty with  ID 1333: 64.43840452507276\n",
      "Similarty with  ID 1288: 39.76364851502032\n",
      "Similarty with  ID 1337: 63.60355503769538\n"
     ]
    },
    {
     "name": "stderr",
     "output_type": "stream",
     "text": [
      "WARNING:root:frame length (1103) is greater than FFT size (512), frame will be truncated. Increase NFFT to avoid.\n",
      "WARNING:root:frame length (1103) is greater than FFT size (512), frame will be truncated. Increase NFFT to avoid.\n",
      "WARNING:root:frame length (1103) is greater than FFT size (512), frame will be truncated. Increase NFFT to avoid.\n",
      "WARNING:root:frame length (1103) is greater than FFT size (512), frame will be truncated. Increase NFFT to avoid.\n",
      "WARNING:root:frame length (1103) is greater than FFT size (512), frame will be truncated. Increase NFFT to avoid.\n",
      "WARNING:root:frame length (1103) is greater than FFT size (512), frame will be truncated. Increase NFFT to avoid.\n"
     ]
    },
    {
     "name": "stdout",
     "output_type": "stream",
     "text": [
      "Similarty with  ID 1290: 43.07904374330396\n",
      "Similarty with  ID 1339: 69.24701316308173\n",
      "Similarty with  ID 1296: 46.005162394905454\n",
      "Similarty with  ID 1341: 65.33072070452174\n",
      "Similarty with  ID 1298: 47.13215709247977\n",
      "Similarty with  ID 1345: 66.92165542679167\n"
     ]
    },
    {
     "name": "stderr",
     "output_type": "stream",
     "text": [
      "WARNING:root:frame length (1103) is greater than FFT size (512), frame will be truncated. Increase NFFT to avoid.\n",
      "WARNING:root:frame length (1103) is greater than FFT size (512), frame will be truncated. Increase NFFT to avoid.\n",
      "WARNING:root:frame length (1103) is greater than FFT size (512), frame will be truncated. Increase NFFT to avoid.\n",
      "WARNING:root:frame length (1103) is greater than FFT size (512), frame will be truncated. Increase NFFT to avoid.\n",
      "WARNING:root:frame length (1103) is greater than FFT size (512), frame will be truncated. Increase NFFT to avoid.\n"
     ]
    },
    {
     "name": "stdout",
     "output_type": "stream",
     "text": [
      "Similarty with  ID 1294: 42.6425154050524\n",
      "Similarty with  ID 1347: 65.73107024169958\n",
      "Similarty with  ID 1306: 41.21277418101011\n",
      "Similarty with  ID 1349: 67.26955294849037\n",
      "Similarty with  ID 1304: 48.13634273670844\n"
     ]
    },
    {
     "name": "stderr",
     "output_type": "stream",
     "text": [
      "WARNING:root:frame length (1103) is greater than FFT size (512), frame will be truncated. Increase NFFT to avoid.\n",
      "WARNING:root:frame length (1103) is greater than FFT size (512), frame will be truncated. Increase NFFT to avoid.\n",
      "WARNING:root:frame length (1103) is greater than FFT size (512), frame will be truncated. Increase NFFT to avoid.\n",
      "WARNING:root:frame length (1103) is greater than FFT size (512), frame will be truncated. Increase NFFT to avoid.\n",
      "WARNING:root:frame length (1103) is greater than FFT size (512), frame will be truncated. Increase NFFT to avoid.\n",
      "WARNING:root:frame length (1103) is greater than FFT size (512), frame will be truncated. Increase NFFT to avoid.\n",
      "WARNING:root:frame length (1103) is greater than FFT size (512), frame will be truncated. Increase NFFT to avoid.\n"
     ]
    },
    {
     "name": "stdout",
     "output_type": "stream",
     "text": [
      "Similarty with  ID 1311: 75.08566503451692\n",
      "Similarty with  ID 1196: 41.304574212813954\n",
      "Similarty with  ID 1199: 75.52634004373515\n",
      "Similarty with  ID 1302: 42.068871478251324\n",
      "Similarty with  ID 1303: 68.86495207394749\n",
      "Similarty with  ID 1550: 42.44936390748883\n",
      "Similarty with  ID 1519: 69.86332909051104\n"
     ]
    },
    {
     "name": "stderr",
     "output_type": "stream",
     "text": [
      "WARNING:root:frame length (1103) is greater than FFT size (512), frame will be truncated. Increase NFFT to avoid.\n",
      "WARNING:root:frame length (1103) is greater than FFT size (512), frame will be truncated. Increase NFFT to avoid.\n",
      "WARNING:root:frame length (1103) is greater than FFT size (512), frame will be truncated. Increase NFFT to avoid.\n",
      "WARNING:root:frame length (1103) is greater than FFT size (512), frame will be truncated. Increase NFFT to avoid.\n",
      "WARNING:root:frame length (1103) is greater than FFT size (512), frame will be truncated. Increase NFFT to avoid.\n"
     ]
    },
    {
     "name": "stdout",
     "output_type": "stream",
     "text": [
      "Similarty with  ID 1542: 47.87911662319326\n",
      "Similarty with  ID 1479: 74.1907624936045\n",
      "Similarty with  ID 1540: 40.64279165906692\n",
      "Similarty with  ID 1459: 69.55544306115361\n",
      "Similarty with  ID 1544: 42.958114662709185\n"
     ]
    },
    {
     "name": "stderr",
     "output_type": "stream",
     "text": [
      "WARNING:root:frame length (1103) is greater than FFT size (512), frame will be truncated. Increase NFFT to avoid.\n",
      "WARNING:root:frame length (1103) is greater than FFT size (512), frame will be truncated. Increase NFFT to avoid.\n",
      "WARNING:root:frame length (1103) is greater than FFT size (512), frame will be truncated. Increase NFFT to avoid.\n",
      "WARNING:root:frame length (1103) is greater than FFT size (512), frame will be truncated. Increase NFFT to avoid.\n",
      "WARNING:root:frame length (1103) is greater than FFT size (512), frame will be truncated. Increase NFFT to avoid.\n",
      "WARNING:root:frame length (1103) is greater than FFT size (512), frame will be truncated. Increase NFFT to avoid.\n",
      "WARNING:root:frame length (1103) is greater than FFT size (512), frame will be truncated. Increase NFFT to avoid.\n"
     ]
    },
    {
     "name": "stdout",
     "output_type": "stream",
     "text": [
      "Similarty with  ID 1523: 64.52805403613355\n",
      "Similarty with  ID 1556: 43.63379169571106\n",
      "Similarty with  ID 1396: 68.52189989060162\n",
      "Similarty with  ID 1546: 46.229545970048264\n",
      "Similarty with  ID 1511: 69.52738489880497\n",
      "Similarty with  ID 1554: 37.9957315301786\n",
      "Similarty with  ID 1505: 65.58238067135856\n",
      "Similarty with  ID 1548: 51.39177389412054\n"
     ]
    },
    {
     "name": "stderr",
     "output_type": "stream",
     "text": [
      "WARNING:root:frame length (1103) is greater than FFT size (512), frame will be truncated. Increase NFFT to avoid.\n",
      "WARNING:root:frame length (1103) is greater than FFT size (512), frame will be truncated. Increase NFFT to avoid.\n",
      "WARNING:root:frame length (1103) is greater than FFT size (512), frame will be truncated. Increase NFFT to avoid.\n",
      "WARNING:root:frame length (1103) is greater than FFT size (512), frame will be truncated. Increase NFFT to avoid.\n",
      "WARNING:root:frame length (1103) is greater than FFT size (512), frame will be truncated. Increase NFFT to avoid.\n",
      "WARNING:root:frame length (1103) is greater than FFT size (512), frame will be truncated. Increase NFFT to avoid.\n",
      "WARNING:root:frame length (1103) is greater than FFT size (512), frame will be truncated. Increase NFFT to avoid.\n",
      "WARNING:root:frame length (1103) is greater than FFT size (512), frame will be truncated. Increase NFFT to avoid.\n",
      "WARNING:root:frame length (1103) is greater than FFT size (512), frame will be truncated. Increase NFFT to avoid.\n"
     ]
    },
    {
     "name": "stdout",
     "output_type": "stream",
     "text": [
      "Similarty with  ID 1360: 67.92804877188854\n",
      "Similarty with  ID 1560: 46.88701960782795\n",
      "Similarty with  ID 1447: 63.25427734274063\n",
      "Similarty with  ID 1558: 52.05960812682742\n",
      "Similarty with  ID 1531: 69.32469606795598\n",
      "Similarty with  ID 1530: 42.32161523430127\n",
      "Similarty with  ID 1527: 61.89244135478609\n",
      "Similarty with  ID 1522: 46.89150616522043\n"
     ]
    },
    {
     "name": "stderr",
     "output_type": "stream",
     "text": [
      "WARNING:root:frame length (1103) is greater than FFT size (512), frame will be truncated. Increase NFFT to avoid.\n",
      "WARNING:root:frame length (1103) is greater than FFT size (512), frame will be truncated. Increase NFFT to avoid.\n",
      "WARNING:root:frame length (1103) is greater than FFT size (512), frame will be truncated. Increase NFFT to avoid.\n",
      "WARNING:root:frame length (1103) is greater than FFT size (512), frame will be truncated. Increase NFFT to avoid.\n",
      "WARNING:root:frame length (1103) is greater than FFT size (512), frame will be truncated. Increase NFFT to avoid.\n",
      "WARNING:root:frame length (1103) is greater than FFT size (512), frame will be truncated. Increase NFFT to avoid.\n"
     ]
    },
    {
     "name": "stdout",
     "output_type": "stream",
     "text": [
      "Similarty with  ID 1439: 65.62393593444385\n",
      "Similarty with  ID 1536: 46.63866693450236\n",
      "Similarty with  ID 1529: 56.28992695811527\n",
      "Similarty with  ID 1528: 48.1287591947478\n",
      "Similarty with  ID 1457: 67.91987839745494\n",
      "Similarty with  ID 1524: 43.68112191083165\n"
     ]
    },
    {
     "name": "stderr",
     "output_type": "stream",
     "text": [
      "WARNING:root:frame length (1103) is greater than FFT size (512), frame will be truncated. Increase NFFT to avoid.\n",
      "WARNING:root:frame length (1103) is greater than FFT size (512), frame will be truncated. Increase NFFT to avoid.\n",
      "WARNING:root:frame length (1103) is greater than FFT size (512), frame will be truncated. Increase NFFT to avoid.\n",
      "WARNING:root:frame length (1103) is greater than FFT size (512), frame will be truncated. Increase NFFT to avoid.\n",
      "WARNING:root:frame length (1103) is greater than FFT size (512), frame will be truncated. Increase NFFT to avoid.\n",
      "WARNING:root:frame length (1103) is greater than FFT size (512), frame will be truncated. Increase NFFT to avoid.\n",
      "WARNING:root:frame length (1103) is greater than FFT size (512), frame will be truncated. Increase NFFT to avoid.\n"
     ]
    },
    {
     "name": "stdout",
     "output_type": "stream",
     "text": [
      "Similarty with  ID 1384: 66.2542440049111\n",
      "Similarty with  ID 1538: 42.842750158823634\n",
      "Similarty with  ID 1473: 68.23006200004785\n",
      "Similarty with  ID 1385: 43.91803882866886\n",
      "Similarty with  ID 1368: 60.386136433852315\n",
      "Similarty with  ID 1484: 41.89529314911073\n",
      "Similarty with  ID 1370: 63.78998380799459\n"
     ]
    },
    {
     "name": "stderr",
     "output_type": "stream",
     "text": [
      "WARNING:root:frame length (1103) is greater than FFT size (512), frame will be truncated. Increase NFFT to avoid.\n",
      "WARNING:root:frame length (1103) is greater than FFT size (512), frame will be truncated. Increase NFFT to avoid.\n",
      "WARNING:root:frame length (1103) is greater than FFT size (512), frame will be truncated. Increase NFFT to avoid.\n"
     ]
    },
    {
     "name": "stdout",
     "output_type": "stream",
     "text": [
      "Similarty with  ID 1486: 50.93992718591749\n",
      "Similarty with  ID 1372: 67.5745435093252\n",
      "Similarty with  ID 1383: 41.99646095793245\n"
     ]
    },
    {
     "name": "stderr",
     "output_type": "stream",
     "text": [
      "WARNING:root:frame length (1103) is greater than FFT size (512), frame will be truncated. Increase NFFT to avoid.\n",
      "WARNING:root:frame length (1103) is greater than FFT size (512), frame will be truncated. Increase NFFT to avoid.\n",
      "WARNING:root:frame length (1103) is greater than FFT size (512), frame will be truncated. Increase NFFT to avoid.\n",
      "WARNING:root:frame length (1103) is greater than FFT size (512), frame will be truncated. Increase NFFT to avoid.\n"
     ]
    },
    {
     "name": "stdout",
     "output_type": "stream",
     "text": [
      "Similarty with  ID 1374: 63.698360871287335\n",
      "Similarty with  ID 1353: 43.955491215753675\n",
      "Similarty with  ID 1376: 71.59581132627692\n",
      "Similarty with  ID 1381: 45.07215603034237\n"
     ]
    },
    {
     "name": "stderr",
     "output_type": "stream",
     "text": [
      "WARNING:root:frame length (1103) is greater than FFT size (512), frame will be truncated. Increase NFFT to avoid.\n",
      "WARNING:root:frame length (1103) is greater than FFT size (512), frame will be truncated. Increase NFFT to avoid.\n",
      "WARNING:root:frame length (1103) is greater than FFT size (512), frame will be truncated. Increase NFFT to avoid.\n",
      "WARNING:root:frame length (1103) is greater than FFT size (512), frame will be truncated. Increase NFFT to avoid.\n",
      "WARNING:root:frame length (1103) is greater than FFT size (512), frame will be truncated. Increase NFFT to avoid.\n",
      "WARNING:root:frame length (1103) is greater than FFT size (512), frame will be truncated. Increase NFFT to avoid.\n",
      "WARNING:root:frame length (1103) is greater than FFT size (512), frame will be truncated. Increase NFFT to avoid.\n",
      "WARNING:root:frame length (1103) is greater than FFT size (512), frame will be truncated. Increase NFFT to avoid.\n"
     ]
    },
    {
     "name": "stdout",
     "output_type": "stream",
     "text": [
      "Similarty with  ID 1503: 66.06342023826927\n",
      "Similarty with  ID 1379: 45.798489905871605\n",
      "Similarty with  ID 1483: 58.718419996293285\n",
      "Similarty with  ID 1365: 38.56963818805334\n",
      "Similarty with  ID 1402: 67.92409495073034\n",
      "Similarty with  ID 1357: 39.194949906381424\n",
      "Similarty with  ID 1477: 68.81546382904662\n",
      "Similarty with  ID 1355: 43.11865385054526\n"
     ]
    },
    {
     "name": "stderr",
     "output_type": "stream",
     "text": [
      "WARNING:root:frame length (1103) is greater than FFT size (512), frame will be truncated. Increase NFFT to avoid.\n",
      "WARNING:root:frame length (1103) is greater than FFT size (512), frame will be truncated. Increase NFFT to avoid.\n",
      "WARNING:root:frame length (1103) is greater than FFT size (512), frame will be truncated. Increase NFFT to avoid.\n",
      "WARNING:root:frame length (1103) is greater than FFT size (512), frame will be truncated. Increase NFFT to avoid.\n",
      "WARNING:root:frame length (1103) is greater than FFT size (512), frame will be truncated. Increase NFFT to avoid.\n",
      "WARNING:root:frame length (1103) is greater than FFT size (512), frame will be truncated. Increase NFFT to avoid.\n",
      "WARNING:root:frame length (1103) is greater than FFT size (512), frame will be truncated. Increase NFFT to avoid.\n"
     ]
    },
    {
     "name": "stdout",
     "output_type": "stream",
     "text": [
      "Similarty with  ID 1407: 66.16495418410142\n",
      "Similarty with  ID 1363: 48.59023891540173\n",
      "Similarty with  ID 1409: 69.18724024978806\n",
      "Similarty with  ID 1359: 48.807990424896005\n",
      "Similarty with  ID 1535: 65.18006322814105\n",
      "Similarty with  ID 1361: 42.9801799615328\n",
      "Similarty with  ID 1533: 66.51997451048149\n",
      "Similarty with  ID 1377: 39.01249329981946\n"
     ]
    },
    {
     "name": "stderr",
     "output_type": "stream",
     "text": [
      "WARNING:root:frame length (1103) is greater than FFT size (512), frame will be truncated. Increase NFFT to avoid.\n",
      "WARNING:root:frame length (1103) is greater than FFT size (512), frame will be truncated. Increase NFFT to avoid.\n",
      "WARNING:root:frame length (1103) is greater than FFT size (512), frame will be truncated. Increase NFFT to avoid.\n",
      "WARNING:root:frame length (1103) is greater than FFT size (512), frame will be truncated. Increase NFFT to avoid.\n",
      "WARNING:root:frame length (1103) is greater than FFT size (512), frame will be truncated. Increase NFFT to avoid.\n",
      "WARNING:root:frame length (1103) is greater than FFT size (512), frame will be truncated. Increase NFFT to avoid.\n",
      "WARNING:root:frame length (1103) is greater than FFT size (512), frame will be truncated. Increase NFFT to avoid.\n"
     ]
    },
    {
     "name": "stdout",
     "output_type": "stream",
     "text": [
      "Similarty with  ID 1394: 64.57484421718331\n",
      "Similarty with  ID 1369: 41.17180860249143\n",
      "Similarty with  ID 1388: 75.03857095305993\n",
      "Similarty with  ID 1367: 47.0470955097366\n",
      "Similarty with  ID 1382: 65.27449909455505\n",
      "Similarty with  ID 1375: 44.65599616417786\n"
     ]
    },
    {
     "name": "stderr",
     "output_type": "stream",
     "text": [
      "WARNING:root:frame length (1103) is greater than FFT size (512), frame will be truncated. Increase NFFT to avoid.\n",
      "WARNING:root:frame length (1103) is greater than FFT size (512), frame will be truncated. Increase NFFT to avoid.\n",
      "WARNING:root:frame length (1103) is greater than FFT size (512), frame will be truncated. Increase NFFT to avoid.\n",
      "WARNING:root:frame length (1103) is greater than FFT size (512), frame will be truncated. Increase NFFT to avoid.\n",
      "WARNING:root:frame length (1103) is greater than FFT size (512), frame will be truncated. Increase NFFT to avoid.\n",
      "WARNING:root:frame length (1103) is greater than FFT size (512), frame will be truncated. Increase NFFT to avoid.\n",
      "WARNING:root:frame length (1103) is greater than FFT size (512), frame will be truncated. Increase NFFT to avoid.\n",
      "WARNING:root:frame length (1103) is greater than FFT size (512), frame will be truncated. Increase NFFT to avoid.\n",
      "WARNING:root:frame length (1103) is greater than FFT size (512), frame will be truncated. Increase NFFT to avoid.\n"
     ]
    },
    {
     "name": "stdout",
     "output_type": "stream",
     "text": [
      "Similarty with  ID 1467: 61.61319471316707\n",
      "Similarty with  ID 1371: 42.925678801476025\n",
      "Similarty with  ID 1390: 64.21614310763852\n",
      "Similarty with  ID 1373: 40.651026708884984\n",
      "Similarty with  ID 1415: 69.57293328875228\n",
      "Similarty with  ID 1480: 43.3650379393522\n",
      "Similarty with  ID 1404: 72.54300506128335\n",
      "Similarty with  ID 1387: 42.12594228902515\n",
      "Similarty with  ID 1487: 67.7807661053207\n"
     ]
    },
    {
     "name": "stderr",
     "output_type": "stream",
     "text": [
      "WARNING:root:frame length (1103) is greater than FFT size (512), frame will be truncated. Increase NFFT to avoid.\n",
      "WARNING:root:frame length (1103) is greater than FFT size (512), frame will be truncated. Increase NFFT to avoid.\n",
      "WARNING:root:frame length (1103) is greater than FFT size (512), frame will be truncated. Increase NFFT to avoid.\n",
      "WARNING:root:frame length (1103) is greater than FFT size (512), frame will be truncated. Increase NFFT to avoid.\n",
      "WARNING:root:frame length (1103) is greater than FFT size (512), frame will be truncated. Increase NFFT to avoid.\n",
      "WARNING:root:frame length (1103) is greater than FFT size (512), frame will be truncated. Increase NFFT to avoid.\n",
      "WARNING:root:frame length (1103) is greater than FFT size (512), frame will be truncated. Increase NFFT to avoid.\n"
     ]
    },
    {
     "name": "stdout",
     "output_type": "stream",
     "text": [
      "Similarty with  ID 1401: 47.01149721165816\n",
      "Similarty with  ID 1392: 67.55862084998536\n",
      "Similarty with  ID 1428: 50.74771657645074\n",
      "Similarty with  ID 1469: 75.18471820420726\n",
      "Similarty with  ID 1399: 42.40966561811935\n",
      "Similarty with  ID 1521: 66.15615362205106\n",
      "Similarty with  ID 1391: 45.53122135690899\n"
     ]
    },
    {
     "name": "stderr",
     "output_type": "stream",
     "text": [
      "WARNING:root:frame length (1103) is greater than FFT size (512), frame will be truncated. Increase NFFT to avoid.\n",
      "WARNING:root:frame length (1103) is greater than FFT size (512), frame will be truncated. Increase NFFT to avoid.\n",
      "WARNING:root:frame length (1103) is greater than FFT size (512), frame will be truncated. Increase NFFT to avoid.\n",
      "WARNING:root:frame length (1103) is greater than FFT size (512), frame will be truncated. Increase NFFT to avoid.\n",
      "WARNING:root:frame length (1103) is greater than FFT size (512), frame will be truncated. Increase NFFT to avoid.\n",
      "WARNING:root:frame length (1103) is greater than FFT size (512), frame will be truncated. Increase NFFT to avoid.\n",
      "WARNING:root:frame length (1103) is greater than FFT size (512), frame will be truncated. Increase NFFT to avoid.\n"
     ]
    },
    {
     "name": "stdout",
     "output_type": "stream",
     "text": [
      "Similarty with  ID 1433: 72.68078002909927\n",
      "Similarty with  ID 1389: 38.15363787964088\n",
      "Similarty with  ID 1431: 67.85018860393453\n",
      "Similarty with  ID 1397: 39.91364178399175\n",
      "Similarty with  ID 1417: 67.49030168901064\n",
      "Similarty with  ID 1393: 46.22421108724982\n",
      "Similarty with  ID 1517: 66.44621005128668\n"
     ]
    },
    {
     "name": "stderr",
     "output_type": "stream",
     "text": [
      "WARNING:root:frame length (1103) is greater than FFT size (512), frame will be truncated. Increase NFFT to avoid.\n",
      "WARNING:root:frame length (1103) is greater than FFT size (512), frame will be truncated. Increase NFFT to avoid.\n",
      "WARNING:root:frame length (1103) is greater than FFT size (512), frame will be truncated. Increase NFFT to avoid.\n",
      "WARNING:root:frame length (1103) is greater than FFT size (512), frame will be truncated. Increase NFFT to avoid.\n",
      "WARNING:root:frame length (1103) is greater than FFT size (512), frame will be truncated. Increase NFFT to avoid.\n",
      "WARNING:root:frame length (1103) is greater than FFT size (512), frame will be truncated. Increase NFFT to avoid.\n"
     ]
    },
    {
     "name": "stdout",
     "output_type": "stream",
     "text": [
      "Similarty with  ID 1395: 39.18906296872635\n",
      "Similarty with  ID 1509: 63.492804435310966\n",
      "Similarty with  ID 1426: 39.07642376411909\n",
      "Similarty with  ID 1445: 72.2454735525972\n",
      "Similarty with  ID 1412: 46.0054016087376\n",
      "Similarty with  ID 1489: 67.79652585918728\n"
     ]
    },
    {
     "name": "stderr",
     "output_type": "stream",
     "text": [
      "WARNING:root:frame length (1103) is greater than FFT size (512), frame will be truncated. Increase NFFT to avoid.\n",
      "WARNING:root:frame length (1103) is greater than FFT size (512), frame will be truncated. Increase NFFT to avoid.\n",
      "WARNING:root:frame length (1103) is greater than FFT size (512), frame will be truncated. Increase NFFT to avoid.\n",
      "WARNING:root:frame length (1103) is greater than FFT size (512), frame will be truncated. Increase NFFT to avoid.\n"
     ]
    },
    {
     "name": "stdout",
     "output_type": "stream",
     "text": [
      "Similarty with  ID 1405: 39.11317473603172\n",
      "Similarty with  ID 1465: 76.04230425699924\n",
      "Similarty with  ID 1403: 49.04359293290838\n",
      "Similarty with  ID 1471: 71.98271986446412\n",
      "Similarty with  ID 1410: 42.02302640024712\n"
     ]
    },
    {
     "name": "stderr",
     "output_type": "stream",
     "text": [
      "WARNING:root:frame length (1103) is greater than FFT size (512), frame will be truncated. Increase NFFT to avoid.\n",
      "WARNING:root:frame length (1103) is greater than FFT size (512), frame will be truncated. Increase NFFT to avoid.\n",
      "WARNING:root:frame length (1103) is greater than FFT size (512), frame will be truncated. Increase NFFT to avoid.\n",
      "WARNING:root:frame length (1103) is greater than FFT size (512), frame will be truncated. Increase NFFT to avoid.\n",
      "WARNING:root:frame length (1103) is greater than FFT size (512), frame will be truncated. Increase NFFT to avoid.\n",
      "WARNING:root:frame length (1103) is greater than FFT size (512), frame will be truncated. Increase NFFT to avoid.\n"
     ]
    },
    {
     "name": "stdout",
     "output_type": "stream",
     "text": [
      "Similarty with  ID 1352: 72.99052733506225\n",
      "Similarty with  ID 1406: 43.39547772957808\n",
      "Similarty with  ID 1461: 70.46217192973232\n",
      "Similarty with  ID 1408: 41.22685663109418\n",
      "Similarty with  ID 1455: 64.94482640635013\n"
     ]
    },
    {
     "name": "stderr",
     "output_type": "stream",
     "text": [
      "WARNING:root:frame length (1103) is greater than FFT size (512), frame will be truncated. Increase NFFT to avoid.\n",
      "WARNING:root:frame length (1103) is greater than FFT size (512), frame will be truncated. Increase NFFT to avoid.\n",
      "WARNING:root:frame length (1103) is greater than FFT size (512), frame will be truncated. Increase NFFT to avoid.\n",
      "WARNING:root:frame length (1103) is greater than FFT size (512), frame will be truncated. Increase NFFT to avoid.\n",
      "WARNING:root:frame length (1103) is greater than FFT size (512), frame will be truncated. Increase NFFT to avoid.\n"
     ]
    },
    {
     "name": "stdout",
     "output_type": "stream",
     "text": [
      "Similarty with  ID 1482: 50.38332845479014\n",
      "Similarty with  ID 1411: 68.4479991560529\n",
      "Similarty with  ID 1424: 40.26663907775864\n",
      "Similarty with  ID 1380: 64.89918610398716\n",
      "Similarty with  ID 1416: 43.50285466595788\n"
     ]
    },
    {
     "name": "stderr",
     "output_type": "stream",
     "text": [
      "WARNING:root:frame length (1103) is greater than FFT size (512), frame will be truncated. Increase NFFT to avoid.\n",
      "WARNING:root:frame length (1103) is greater than FFT size (512), frame will be truncated. Increase NFFT to avoid.\n",
      "WARNING:root:frame length (1103) is greater than FFT size (512), frame will be truncated. Increase NFFT to avoid.\n",
      "WARNING:root:frame length (1103) is greater than FFT size (512), frame will be truncated. Increase NFFT to avoid.\n",
      "WARNING:root:frame length (1103) is greater than FFT size (512), frame will be truncated. Increase NFFT to avoid.\n",
      "WARNING:root:frame length (1103) is greater than FFT size (512), frame will be truncated. Increase NFFT to avoid.\n",
      "WARNING:root:frame length (1103) is greater than FFT size (512), frame will be truncated. Increase NFFT to avoid.\n",
      "WARNING:root:frame length (1103) is greater than FFT size (512), frame will be truncated. Increase NFFT to avoid.\n"
     ]
    },
    {
     "name": "stdout",
     "output_type": "stream",
     "text": [
      "Similarty with  ID 1378: 72.18131454530848\n",
      "Similarty with  ID 1414: 44.16536982616525\n",
      "Similarty with  ID 1400: 71.32722858661074\n",
      "Similarty with  ID 1422: 46.84370452852504\n",
      "Similarty with  ID 1386: 71.34862574300398\n",
      "Similarty with  ID 1418: 42.442003168792084\n",
      "Similarty with  ID 1398: 66.20372251578513\n",
      "Similarty with  ID 1420: 45.09379031092109\n"
     ]
    },
    {
     "name": "stderr",
     "output_type": "stream",
     "text": [
      "WARNING:root:frame length (1103) is greater than FFT size (512), frame will be truncated. Increase NFFT to avoid.\n",
      "WARNING:root:frame length (1103) is greater than FFT size (512), frame will be truncated. Increase NFFT to avoid.\n",
      "WARNING:root:frame length (1103) is greater than FFT size (512), frame will be truncated. Increase NFFT to avoid.\n",
      "WARNING:root:frame length (1103) is greater than FFT size (512), frame will be truncated. Increase NFFT to avoid.\n"
     ]
    },
    {
     "name": "stdout",
     "output_type": "stream",
     "text": [
      "Similarty with  ID 1453: 63.93914750434153\n",
      "Similarty with  ID 1452: 38.00231682847366\n",
      "Similarty with  ID 1425: 68.16353728871707\n",
      "Similarty with  ID 1430: 41.118946286700776\n",
      "Similarty with  ID 1419: 64.40479648479077\n"
     ]
    },
    {
     "name": "stderr",
     "output_type": "stream",
     "text": [
      "WARNING:root:frame length (1103) is greater than FFT size (512), frame will be truncated. Increase NFFT to avoid.\n",
      "WARNING:root:frame length (1103) is greater than FFT size (512), frame will be truncated. Increase NFFT to avoid.\n",
      "WARNING:root:frame length (1103) is greater than FFT size (512), frame will be truncated. Increase NFFT to avoid.\n",
      "WARNING:root:frame length (1103) is greater than FFT size (512), frame will be truncated. Increase NFFT to avoid.\n",
      "WARNING:root:frame length (1103) is greater than FFT size (512), frame will be truncated. Increase NFFT to avoid.\n",
      "WARNING:root:frame length (1103) is greater than FFT size (512), frame will be truncated. Increase NFFT to avoid.\n"
     ]
    },
    {
     "name": "stdout",
     "output_type": "stream",
     "text": [
      "Similarty with  ID 1438: 41.39192530787884\n",
      "Similarty with  ID 1443: 68.40491858480628\n",
      "Similarty with  ID 1436: 44.694197818547856\n",
      "Similarty with  ID 1429: 62.31663118549042\n",
      "Similarty with  ID 1432: 39.29626044396561\n"
     ]
    },
    {
     "name": "stderr",
     "output_type": "stream",
     "text": [
      "WARNING:root:frame length (1103) is greater than FFT size (512), frame will be truncated. Increase NFFT to avoid.\n",
      "WARNING:root:frame length (1103) is greater than FFT size (512), frame will be truncated. Increase NFFT to avoid.\n",
      "WARNING:root:frame length (1103) is greater than FFT size (512), frame will be truncated. Increase NFFT to avoid.\n",
      "WARNING:root:frame length (1103) is greater than FFT size (512), frame will be truncated. Increase NFFT to avoid.\n",
      "WARNING:root:frame length (1103) is greater than FFT size (512), frame will be truncated. Increase NFFT to avoid.\n",
      "WARNING:root:frame length (1103) is greater than FFT size (512), frame will be truncated. Increase NFFT to avoid.\n",
      "WARNING:root:frame length (1103) is greater than FFT size (512), frame will be truncated. Increase NFFT to avoid.\n",
      "WARNING:root:frame length (1103) is greater than FFT size (512), frame will be truncated. Increase NFFT to avoid.\n",
      "WARNING:root:frame length (1103) is greater than FFT size (512), frame will be truncated. Increase NFFT to avoid.\n",
      "WARNING:root:frame length (1103) is greater than FFT size (512), frame will be truncated. Increase NFFT to avoid.\n"
     ]
    },
    {
     "name": "stdout",
     "output_type": "stream",
     "text": [
      "Similarty with  ID 1441: 67.50260996633462\n",
      "Similarty with  ID 1434: 40.87814367407478\n",
      "Similarty with  ID 1501: 66.95160179336297\n",
      "Similarty with  ID 1478: 46.472084636367576\n",
      "Similarty with  ID 1497: 60.63742047697082\n",
      "Similarty with  ID 1450: 42.42014056164774\n",
      "Similarty with  ID 1485: 66.96540907842474\n",
      "Similarty with  ID 1442: 46.78946808057372\n",
      "Similarty with  ID 1437: 63.133919377885164\n",
      "Similarty with  ID 1440: 44.78952100852241\n"
     ]
    },
    {
     "name": "stderr",
     "output_type": "stream",
     "text": [
      "WARNING:root:frame length (1103) is greater than FFT size (512), frame will be truncated. Increase NFFT to avoid.\n",
      "WARNING:root:frame length (1103) is greater than FFT size (512), frame will be truncated. Increase NFFT to avoid.\n",
      "WARNING:root:frame length (1103) is greater than FFT size (512), frame will be truncated. Increase NFFT to avoid.\n",
      "WARNING:root:frame length (1103) is greater than FFT size (512), frame will be truncated. Increase NFFT to avoid.\n",
      "WARNING:root:frame length (1103) is greater than FFT size (512), frame will be truncated. Increase NFFT to avoid.\n",
      "WARNING:root:frame length (1103) is greater than FFT size (512), frame will be truncated. Increase NFFT to avoid.\n",
      "WARNING:root:frame length (1103) is greater than FFT size (512), frame will be truncated. Increase NFFT to avoid.\n",
      "WARNING:root:frame length (1103) is greater than FFT size (512), frame will be truncated. Increase NFFT to avoid.\n"
     ]
    },
    {
     "name": "stdout",
     "output_type": "stream",
     "text": [
      "Similarty with  ID 1499: 65.26609218097366\n",
      "Similarty with  ID 1448: 37.94823018380247\n",
      "Similarty with  ID 1495: 69.21939806191133\n",
      "Similarty with  ID 1444: 37.274651767715774\n",
      "Similarty with  ID 1423: 69.72239569510047\n",
      "Similarty with  ID 1446: 42.65723479806047\n",
      "Similarty with  ID 1413: 70.59452891162557\n",
      "Similarty with  ID 1476: 43.33446230176684\n"
     ]
    },
    {
     "name": "stderr",
     "output_type": "stream",
     "text": [
      "WARNING:root:frame length (1103) is greater than FFT size (512), frame will be truncated. Increase NFFT to avoid.\n",
      "WARNING:root:frame length (1103) is greater than FFT size (512), frame will be truncated. Increase NFFT to avoid.\n",
      "WARNING:root:frame length (1103) is greater than FFT size (512), frame will be truncated. Increase NFFT to avoid.\n",
      "WARNING:root:frame length (1103) is greater than FFT size (512), frame will be truncated. Increase NFFT to avoid.\n"
     ]
    },
    {
     "name": "stdout",
     "output_type": "stream",
     "text": [
      "Similarty with  ID 1427: 74.34338306514307\n",
      "Similarty with  ID 1454: 41.845528717528566\n",
      "Similarty with  ID 1491: 70.35139146957331\n",
      "Similarty with  ID 1462: 39.02007007211508\n",
      "Similarty with  ID 1435: 66.3749595728556\n"
     ]
    },
    {
     "name": "stderr",
     "output_type": "stream",
     "text": [
      "WARNING:root:frame length (1103) is greater than FFT size (512), frame will be truncated. Increase NFFT to avoid.\n",
      "WARNING:root:frame length (1103) is greater than FFT size (512), frame will be truncated. Increase NFFT to avoid.\n",
      "WARNING:root:frame length (1103) is greater than FFT size (512), frame will be truncated. Increase NFFT to avoid.\n",
      "WARNING:root:frame length (1103) is greater than FFT size (512), frame will be truncated. Increase NFFT to avoid.\n",
      "WARNING:root:frame length (1103) is greater than FFT size (512), frame will be truncated. Increase NFFT to avoid.\n",
      "WARNING:root:frame length (1103) is greater than FFT size (512), frame will be truncated. Increase NFFT to avoid.\n",
      "WARNING:root:frame length (1103) is greater than FFT size (512), frame will be truncated. Increase NFFT to avoid.\n",
      "WARNING:root:frame length (1103) is greater than FFT size (512), frame will be truncated. Increase NFFT to avoid.\n"
     ]
    },
    {
     "name": "stdout",
     "output_type": "stream",
     "text": [
      "Similarty with  ID 1460: 45.42417540780727\n",
      "Similarty with  ID 1481: 63.925692884324675\n",
      "Similarty with  ID 1456: 39.58162836372222\n",
      "Similarty with  ID 1449: 67.77141217702787\n",
      "Similarty with  ID 1458: 42.7193509804178\n",
      "Similarty with  ID 1475: 69.53972786187734\n",
      "Similarty with  ID 1474: 45.73091166725112\n"
     ]
    },
    {
     "name": "stderr",
     "output_type": "stream",
     "text": [
      "WARNING:root:frame length (1103) is greater than FFT size (512), frame will be truncated. Increase NFFT to avoid.\n",
      "WARNING:root:frame length (1103) is greater than FFT size (512), frame will be truncated. Increase NFFT to avoid.\n",
      "WARNING:root:frame length (1103) is greater than FFT size (512), frame will be truncated. Increase NFFT to avoid.\n",
      "WARNING:root:frame length (1103) is greater than FFT size (512), frame will be truncated. Increase NFFT to avoid.\n",
      "WARNING:root:frame length (1103) is greater than FFT size (512), frame will be truncated. Increase NFFT to avoid.\n",
      "WARNING:root:frame length (1103) is greater than FFT size (512), frame will be truncated. Increase NFFT to avoid.\n"
     ]
    },
    {
     "name": "stdout",
     "output_type": "stream",
     "text": [
      "Similarty with  ID 1547: 62.41317036362141\n",
      "Similarty with  ID 1466: 46.36609260479933\n",
      "Similarty with  ID 1515: 64.81447888609605\n",
      "Similarty with  ID 1464: 43.95683944522611\n",
      "Similarty with  ID 1513: 60.73003820728118\n",
      "Similarty with  ID 1472: 41.2604640219837\n",
      "Similarty with  ID 1421: 65.4483210348468\n"
     ]
    },
    {
     "name": "stderr",
     "output_type": "stream",
     "text": [
      "WARNING:root:frame length (1103) is greater than FFT size (512), frame will be truncated. Increase NFFT to avoid.\n",
      "WARNING:root:frame length (1103) is greater than FFT size (512), frame will be truncated. Increase NFFT to avoid.\n",
      "WARNING:root:frame length (1103) is greater than FFT size (512), frame will be truncated. Increase NFFT to avoid.\n",
      "WARNING:root:frame length (1103) is greater than FFT size (512), frame will be truncated. Increase NFFT to avoid.\n",
      "WARNING:root:frame length (1103) is greater than FFT size (512), frame will be truncated. Increase NFFT to avoid.\n",
      "WARNING:root:frame length (1103) is greater than FFT size (512), frame will be truncated. Increase NFFT to avoid.\n",
      "WARNING:root:frame length (1103) is greater than FFT size (512), frame will be truncated. Increase NFFT to avoid.\n",
      "WARNING:root:frame length (1103) is greater than FFT size (512), frame will be truncated. Increase NFFT to avoid.\n",
      "WARNING:root:frame length (1103) is greater than FFT size (512), frame will be truncated. Increase NFFT to avoid.\n",
      "WARNING:root:frame length (1103) is greater than FFT size (512), frame will be truncated. Increase NFFT to avoid.\n"
     ]
    },
    {
     "name": "stdout",
     "output_type": "stream",
     "text": [
      "Similarty with  ID 1468: 43.3973465534081\n",
      "Similarty with  ID 1507: 74.46911279866906\n",
      "Similarty with  ID 1470: 40.46918343833152\n",
      "Similarty with  ID 1545: 68.58137115119236\n",
      "Similarty with  ID 1534: 45.90237397246922\n",
      "Similarty with  ID 1537: 65.76556422741562\n",
      "Similarty with  ID 1490: 39.30322803594697\n",
      "Similarty with  ID 1525: 73.53735654912246\n",
      "Similarty with  ID 1498: 41.61790014586625\n"
     ]
    },
    {
     "name": "stderr",
     "output_type": "stream",
     "text": [
      "WARNING:root:frame length (1103) is greater than FFT size (512), frame will be truncated. Increase NFFT to avoid.\n",
      "WARNING:root:frame length (1103) is greater than FFT size (512), frame will be truncated. Increase NFFT to avoid.\n",
      "WARNING:root:frame length (1103) is greater than FFT size (512), frame will be truncated. Increase NFFT to avoid.\n",
      "WARNING:root:frame length (1103) is greater than FFT size (512), frame will be truncated. Increase NFFT to avoid.\n",
      "WARNING:root:frame length (1103) is greater than FFT size (512), frame will be truncated. Increase NFFT to avoid.\n",
      "WARNING:root:frame length (1103) is greater than FFT size (512), frame will be truncated. Increase NFFT to avoid.\n",
      "WARNING:root:frame length (1103) is greater than FFT size (512), frame will be truncated. Increase NFFT to avoid.\n"
     ]
    },
    {
     "name": "stdout",
     "output_type": "stream",
     "text": [
      "Similarty with  ID 1543: 71.31444013043594\n",
      "Similarty with  ID 1488: 39.86154866835627\n",
      "Similarty with  ID 1539: 66.22696730567066\n",
      "Similarty with  ID 1500: 43.820296752288975\n",
      "Similarty with  ID 1541: 64.72951660002097\n",
      "Similarty with  ID 1494: 42.48794684926251\n",
      "Similarty with  ID 1559: 65.95975564131123\n"
     ]
    },
    {
     "name": "stderr",
     "output_type": "stream",
     "text": [
      "WARNING:root:frame length (1103) is greater than FFT size (512), frame will be truncated. Increase NFFT to avoid.\n",
      "WARNING:root:frame length (1103) is greater than FFT size (512), frame will be truncated. Increase NFFT to avoid.\n",
      "WARNING:root:frame length (1103) is greater than FFT size (512), frame will be truncated. Increase NFFT to avoid.\n",
      "WARNING:root:frame length (1103) is greater than FFT size (512), frame will be truncated. Increase NFFT to avoid.\n",
      "WARNING:root:frame length (1103) is greater than FFT size (512), frame will be truncated. Increase NFFT to avoid.\n",
      "WARNING:root:frame length (1103) is greater than FFT size (512), frame will be truncated. Increase NFFT to avoid.\n",
      "WARNING:root:frame length (1103) is greater than FFT size (512), frame will be truncated. Increase NFFT to avoid.\n"
     ]
    },
    {
     "name": "stdout",
     "output_type": "stream",
     "text": [
      "Similarty with  ID 1492: 40.54373861638716\n",
      "Similarty with  ID 1551: 71.93832002595086\n",
      "Similarty with  ID 1518: 47.25272808168041\n",
      "Similarty with  ID 1549: 65.82680695222858\n",
      "Similarty with  ID 1496: 40.753649387886774\n",
      "Similarty with  ID 1557: 68.18590571772242\n",
      "Similarty with  ID 1516: 45.89811684821486\n"
     ]
    },
    {
     "name": "stderr",
     "output_type": "stream",
     "text": [
      "WARNING:root:frame length (1103) is greater than FFT size (512), frame will be truncated. Increase NFFT to avoid.\n",
      "WARNING:root:frame length (1103) is greater than FFT size (512), frame will be truncated. Increase NFFT to avoid.\n",
      "WARNING:root:frame length (1103) is greater than FFT size (512), frame will be truncated. Increase NFFT to avoid.\n",
      "WARNING:root:frame length (1103) is greater than FFT size (512), frame will be truncated. Increase NFFT to avoid.\n",
      "WARNING:root:frame length (1103) is greater than FFT size (512), frame will be truncated. Increase NFFT to avoid.\n",
      "WARNING:root:frame length (1103) is greater than FFT size (512), frame will be truncated. Increase NFFT to avoid.\n",
      "WARNING:root:frame length (1103) is greater than FFT size (512), frame will be truncated. Increase NFFT to avoid.\n"
     ]
    },
    {
     "name": "stdout",
     "output_type": "stream",
     "text": [
      "Similarty with  ID 1553: 63.60940845253103\n",
      "Similarty with  ID 1520: 42.91681637559674\n",
      "Similarty with  ID 1555: 66.63470753064354\n",
      "Similarty with  ID 1502: 46.3448328062108\n",
      "Similarty with  ID 1561: 58.77355324008907\n",
      "Similarty with  ID 1504: 43.32513990216044\n",
      "Similarty with  ID 1354: 69.8573058554418\n"
     ]
    },
    {
     "name": "stderr",
     "output_type": "stream",
     "text": [
      "WARNING:root:frame length (1103) is greater than FFT size (512), frame will be truncated. Increase NFFT to avoid.\n",
      "WARNING:root:frame length (1103) is greater than FFT size (512), frame will be truncated. Increase NFFT to avoid.\n",
      "WARNING:root:frame length (1103) is greater than FFT size (512), frame will be truncated. Increase NFFT to avoid.\n"
     ]
    },
    {
     "name": "stdout",
     "output_type": "stream",
     "text": [
      "Similarty with  ID 1508: 40.47462323451207\n",
      "Similarty with  ID 1356: 62.899516866263525\n",
      "Similarty with  ID 1532: 41.18401406875858\n"
     ]
    },
    {
     "name": "stderr",
     "output_type": "stream",
     "text": [
      "WARNING:root:frame length (1103) is greater than FFT size (512), frame will be truncated. Increase NFFT to avoid.\n",
      "WARNING:root:frame length (1103) is greater than FFT size (512), frame will be truncated. Increase NFFT to avoid.\n",
      "WARNING:root:frame length (1103) is greater than FFT size (512), frame will be truncated. Increase NFFT to avoid.\n",
      "WARNING:root:frame length (1103) is greater than FFT size (512), frame will be truncated. Increase NFFT to avoid.\n",
      "WARNING:root:frame length (1103) is greater than FFT size (512), frame will be truncated. Increase NFFT to avoid.\n",
      "WARNING:root:frame length (1103) is greater than FFT size (512), frame will be truncated. Increase NFFT to avoid.\n",
      "WARNING:root:frame length (1103) is greater than FFT size (512), frame will be truncated. Increase NFFT to avoid.\n",
      "WARNING:root:frame length (1103) is greater than FFT size (512), frame will be truncated. Increase NFFT to avoid.\n",
      "WARNING:root:frame length (1103) is greater than FFT size (512), frame will be truncated. Increase NFFT to avoid.\n"
     ]
    },
    {
     "name": "stdout",
     "output_type": "stream",
     "text": [
      "Similarty with  ID 1358: 72.36176979515024\n",
      "Similarty with  ID 1506: 39.15035717034666\n",
      "Similarty with  ID 1362: 63.73722602091619\n",
      "Similarty with  ID 1514: 43.65369485709237\n",
      "Similarty with  ID 1364: 68.54788336214398\n",
      "Similarty with  ID 1512: 43.836151768452254\n",
      "Similarty with  ID 1366: 74.85607828654486\n",
      "Similarty with  ID 1552: 41.67992317296734\n",
      "Similarty with  ID 1493: 66.54658754103717\n"
     ]
    },
    {
     "name": "stderr",
     "output_type": "stream",
     "text": [
      "WARNING:root:frame length (1103) is greater than FFT size (512), frame will be truncated. Increase NFFT to avoid.\n",
      "WARNING:root:frame length (1103) is greater than FFT size (512), frame will be truncated. Increase NFFT to avoid.\n",
      "WARNING:root:frame length (1103) is greater than FFT size (512), frame will be truncated. Increase NFFT to avoid.\n",
      "WARNING:root:frame length (1103) is greater than FFT size (512), frame will be truncated. Increase NFFT to avoid.\n",
      "WARNING:root:frame length (1103) is greater than FFT size (512), frame will be truncated. Increase NFFT to avoid.\n",
      "WARNING:root:frame length (1103) is greater than FFT size (512), frame will be truncated. Increase NFFT to avoid.\n"
     ]
    },
    {
     "name": "stdout",
     "output_type": "stream",
     "text": [
      "Similarty with  ID 1510: 39.713375728395036\n",
      "Similarty with  ID 1463: 70.5030761557406\n",
      "Similarty with  ID 1526: 51.96602041459859\n",
      "Similarty with  ID 1451: 67.15657329462529\n",
      "Similarty with  ID 1653: 48.77965829040355\n",
      "Similarty with  ID 1770: 64.77794441109046\n"
     ]
    },
    {
     "name": "stderr",
     "output_type": "stream",
     "text": [
      "WARNING:root:frame length (1103) is greater than FFT size (512), frame will be truncated. Increase NFFT to avoid.\n",
      "WARNING:root:frame length (1103) is greater than FFT size (512), frame will be truncated. Increase NFFT to avoid.\n",
      "WARNING:root:frame length (1103) is greater than FFT size (512), frame will be truncated. Increase NFFT to avoid.\n",
      "WARNING:root:frame length (1103) is greater than FFT size (512), frame will be truncated. Increase NFFT to avoid.\n",
      "WARNING:root:frame length (1103) is greater than FFT size (512), frame will be truncated. Increase NFFT to avoid.\n",
      "WARNING:root:frame length (1103) is greater than FFT size (512), frame will be truncated. Increase NFFT to avoid.\n"
     ]
    },
    {
     "name": "stdout",
     "output_type": "stream",
     "text": [
      "Similarty with  ID 1613: 39.61944485063987\n",
      "Similarty with  ID 1690: 68.87584646232648\n",
      "Similarty with  ID 1741: 43.19216378272482\n",
      "Similarty with  ID 1563: 63.49050504449744\n",
      "Similarty with  ID 1727: 47.542482565079574\n",
      "Similarty with  ID 1772: 59.34246076153509\n",
      "Similarty with  ID 1689: 36.51255803671944\n"
     ]
    },
    {
     "name": "stderr",
     "output_type": "stream",
     "text": [
      "WARNING:root:frame length (1103) is greater than FFT size (512), frame will be truncated. Increase NFFT to avoid.\n",
      "WARNING:root:frame length (1103) is greater than FFT size (512), frame will be truncated. Increase NFFT to avoid.\n",
      "WARNING:root:frame length (1103) is greater than FFT size (512), frame will be truncated. Increase NFFT to avoid.\n",
      "WARNING:root:frame length (1103) is greater than FFT size (512), frame will be truncated. Increase NFFT to avoid.\n",
      "WARNING:root:frame length (1103) is greater than FFT size (512), frame will be truncated. Increase NFFT to avoid.\n",
      "WARNING:root:frame length (1103) is greater than FFT size (512), frame will be truncated. Increase NFFT to avoid.\n"
     ]
    },
    {
     "name": "stdout",
     "output_type": "stream",
     "text": [
      "Similarty with  ID 1694: 70.26186430891292\n",
      "Similarty with  ID 1743: 49.412966613632854\n",
      "Similarty with  ID 1688: 64.86551979633545\n",
      "Similarty with  ID 1735: 45.71221358157636\n",
      "Similarty with  ID 1641: 68.61589464558318\n",
      "Similarty with  ID 1771: 47.978997006659256\n"
     ]
    },
    {
     "name": "stderr",
     "output_type": "stream",
     "text": [
      "WARNING:root:frame length (1103) is greater than FFT size (512), frame will be truncated. Increase NFFT to avoid.\n",
      "WARNING:root:frame length (1103) is greater than FFT size (512), frame will be truncated. Increase NFFT to avoid.\n",
      "WARNING:root:frame length (1103) is greater than FFT size (512), frame will be truncated. Increase NFFT to avoid.\n",
      "WARNING:root:frame length (1103) is greater than FFT size (512), frame will be truncated. Increase NFFT to avoid.\n",
      "WARNING:root:frame length (1103) is greater than FFT size (512), frame will be truncated. Increase NFFT to avoid.\n",
      "WARNING:root:frame length (1103) is greater than FFT size (512), frame will be truncated. Increase NFFT to avoid.\n",
      "WARNING:root:frame length (1103) is greater than FFT size (512), frame will be truncated. Increase NFFT to avoid.\n",
      "WARNING:root:frame length (1103) is greater than FFT size (512), frame will be truncated. Increase NFFT to avoid.\n"
     ]
    },
    {
     "name": "stdout",
     "output_type": "stream",
     "text": [
      "Similarty with  ID 1576: 63.956645964444725\n",
      "Similarty with  ID 1763: 40.97223984337139\n",
      "Similarty with  ID 1639: 64.95275742578048\n",
      "Similarty with  ID 1729: 41.72712170911797\n",
      "Similarty with  ID 1574: 67.27403338490393\n",
      "Similarty with  ID 1671: 47.6248354402372\n",
      "Similarty with  ID 1572: 60.36564986611124\n"
     ]
    },
    {
     "name": "stderr",
     "output_type": "stream",
     "text": [
      "WARNING:root:frame length (1103) is greater than FFT size (512), frame will be truncated. Increase NFFT to avoid.\n",
      "WARNING:root:frame length (1103) is greater than FFT size (512), frame will be truncated. Increase NFFT to avoid.\n",
      "WARNING:root:frame length (1103) is greater than FFT size (512), frame will be truncated. Increase NFFT to avoid.\n",
      "WARNING:root:frame length (1103) is greater than FFT size (512), frame will be truncated. Increase NFFT to avoid.\n",
      "WARNING:root:frame length (1103) is greater than FFT size (512), frame will be truncated. Increase NFFT to avoid.\n"
     ]
    },
    {
     "name": "stdout",
     "output_type": "stream",
     "text": [
      "Similarty with  ID 1620: 43.6457091110806\n",
      "Similarty with  ID 1564: 72.67715672967206\n",
      "Similarty with  ID 1603: 44.67057361100035\n",
      "Similarty with  ID 1570: 67.97150961289297\n",
      "Similarty with  ID 1640: 43.380778813524685\n"
     ]
    },
    {
     "name": "stderr",
     "output_type": "stream",
     "text": [
      "WARNING:root:frame length (1103) is greater than FFT size (512), frame will be truncated. Increase NFFT to avoid.\n",
      "WARNING:root:frame length (1103) is greater than FFT size (512), frame will be truncated. Increase NFFT to avoid.\n",
      "WARNING:root:frame length (1103) is greater than FFT size (512), frame will be truncated. Increase NFFT to avoid.\n"
     ]
    },
    {
     "name": "stdout",
     "output_type": "stream",
     "text": [
      "Similarty with  ID 1566: 62.69611641245135\n",
      "Similarty with  ID 1585: 44.35390580595185\n",
      "Similarty with  ID 1568: 66.56174387508726\n",
      "Similarty with  ID 1628: 48.08279765767596\n"
     ]
    },
    {
     "name": "stderr",
     "output_type": "stream",
     "text": [
      "WARNING:root:frame length (1103) is greater than FFT size (512), frame will be truncated. Increase NFFT to avoid.\n",
      "WARNING:root:frame length (1103) is greater than FFT size (512), frame will be truncated. Increase NFFT to avoid.\n",
      "WARNING:root:frame length (1103) is greater than FFT size (512), frame will be truncated. Increase NFFT to avoid.\n",
      "WARNING:root:frame length (1103) is greater than FFT size (512), frame will be truncated. Increase NFFT to avoid.\n",
      "WARNING:root:frame length (1103) is greater than FFT size (512), frame will be truncated. Increase NFFT to avoid.\n",
      "WARNING:root:frame length (1103) is greater than FFT size (512), frame will be truncated. Increase NFFT to avoid.\n",
      "WARNING:root:frame length (1103) is greater than FFT size (512), frame will be truncated. Increase NFFT to avoid.\n",
      "WARNING:root:frame length (1103) is greater than FFT size (512), frame will be truncated. Increase NFFT to avoid.\n",
      "WARNING:root:frame length (1103) is greater than FFT size (512), frame will be truncated. Increase NFFT to avoid.\n",
      "WARNING:root:frame length (1103) is greater than FFT size (512), frame will be truncated. Increase NFFT to avoid.\n"
     ]
    },
    {
     "name": "stdout",
     "output_type": "stream",
     "text": [
      "Similarty with  ID 1637: 65.33660252796611\n",
      "Similarty with  ID 1583: 39.82889200471104\n",
      "Similarty with  ID 1608: 68.52914435521805\n",
      "Similarty with  ID 1626: 45.59313038138822\n",
      "Similarty with  ID 1586: 66.9129354950455\n",
      "Similarty with  ID 1597: 43.18326379839772\n",
      "Similarty with  ID 1578: 66.13672646439089\n",
      "Similarty with  ID 1614: 43.971315923628566\n",
      "Similarty with  ID 1584: 65.39269003346398\n"
     ]
    },
    {
     "name": "stderr",
     "output_type": "stream",
     "text": [
      "WARNING:root:frame length (1103) is greater than FFT size (512), frame will be truncated. Increase NFFT to avoid.\n",
      "WARNING:root:frame length (1103) is greater than FFT size (512), frame will be truncated. Increase NFFT to avoid.\n",
      "WARNING:root:frame length (1103) is greater than FFT size (512), frame will be truncated. Increase NFFT to avoid.\n",
      "WARNING:root:frame length (1103) is greater than FFT size (512), frame will be truncated. Increase NFFT to avoid.\n",
      "WARNING:root:frame length (1103) is greater than FFT size (512), frame will be truncated. Increase NFFT to avoid.\n"
     ]
    },
    {
     "name": "stdout",
     "output_type": "stream",
     "text": [
      "Similarty with  ID 1575: 40.54108193105686\n",
      "Similarty with  ID 1580: 66.44774421576611\n",
      "Similarty with  ID 1589: 47.86548398440532\n",
      "Similarty with  ID 1582: 71.30483793452585\n",
      "Similarty with  ID 1581: 41.1542325635834\n"
     ]
    },
    {
     "name": "stderr",
     "output_type": "stream",
     "text": [
      "WARNING:root:frame length (1103) is greater than FFT size (512), frame will be truncated. Increase NFFT to avoid.\n",
      "WARNING:root:frame length (1103) is greater than FFT size (512), frame will be truncated. Increase NFFT to avoid.\n",
      "WARNING:root:frame length (1103) is greater than FFT size (512), frame will be truncated. Increase NFFT to avoid.\n",
      "WARNING:root:frame length (1103) is greater than FFT size (512), frame will be truncated. Increase NFFT to avoid.\n",
      "WARNING:root:frame length (1103) is greater than FFT size (512), frame will be truncated. Increase NFFT to avoid.\n",
      "WARNING:root:frame length (1103) is greater than FFT size (512), frame will be truncated. Increase NFFT to avoid.\n"
     ]
    },
    {
     "name": "stdout",
     "output_type": "stream",
     "text": [
      "Similarty with  ID 1598: 66.55796034873629\n",
      "Similarty with  ID 1638: 45.06464246308254\n",
      "Similarty with  ID 1590: 68.61059665477936\n",
      "Similarty with  ID 1605: 44.08348500001523\n",
      "Similarty with  ID 1588: 64.07813419433708\n",
      "Similarty with  ID 1601: 44.37986171392194\n"
     ]
    },
    {
     "name": "stderr",
     "output_type": "stream",
     "text": [
      "WARNING:root:frame length (1103) is greater than FFT size (512), frame will be truncated. Increase NFFT to avoid.\n",
      "WARNING:root:frame length (1103) is greater than FFT size (512), frame will be truncated. Increase NFFT to avoid.\n",
      "WARNING:root:frame length (1103) is greater than FFT size (512), frame will be truncated. Increase NFFT to avoid.\n",
      "WARNING:root:frame length (1103) is greater than FFT size (512), frame will be truncated. Increase NFFT to avoid.\n",
      "WARNING:root:frame length (1103) is greater than FFT size (512), frame will be truncated. Increase NFFT to avoid.\n",
      "WARNING:root:frame length (1103) is greater than FFT size (512), frame will be truncated. Increase NFFT to avoid.\n",
      "WARNING:root:frame length (1103) is greater than FFT size (512), frame will be truncated. Increase NFFT to avoid.\n"
     ]
    },
    {
     "name": "stdout",
     "output_type": "stream",
     "text": [
      "Similarty with  ID 1596: 69.87120080396815\n",
      "Similarty with  ID 1565: 36.66089970664814\n",
      "Similarty with  ID 1592: 64.7545764357904\n",
      "Similarty with  ID 1642: 43.43413452498885\n",
      "Similarty with  ID 1594: 69.8268743509783\n",
      "Similarty with  ID 1713: 40.76411998643648\n",
      "Similarty with  ID 1635: 64.15279833008158\n"
     ]
    },
    {
     "name": "stderr",
     "output_type": "stream",
     "text": [
      "WARNING:root:frame length (1103) is greater than FFT size (512), frame will be truncated. Increase NFFT to avoid.\n",
      "WARNING:root:frame length (1103) is greater than FFT size (512), frame will be truncated. Increase NFFT to avoid.\n",
      "WARNING:root:frame length (1103) is greater than FFT size (512), frame will be truncated. Increase NFFT to avoid.\n",
      "WARNING:root:frame length (1103) is greater than FFT size (512), frame will be truncated. Increase NFFT to avoid.\n",
      "WARNING:root:frame length (1103) is greater than FFT size (512), frame will be truncated. Increase NFFT to avoid.\n"
     ]
    },
    {
     "name": "stdout",
     "output_type": "stream",
     "text": [
      "Similarty with  ID 1765: 42.30610458445401\n",
      "Similarty with  ID 1621: 67.9924302595\n",
      "Similarty with  ID 1571: 48.97628611545538\n",
      "Similarty with  ID 1612: 66.97631297705075\n",
      "Similarty with  ID 1567: 46.25281104981952\n"
     ]
    },
    {
     "name": "stderr",
     "output_type": "stream",
     "text": [
      "WARNING:root:frame length (1103) is greater than FFT size (512), frame will be truncated. Increase NFFT to avoid.\n",
      "WARNING:root:frame length (1103) is greater than FFT size (512), frame will be truncated. Increase NFFT to avoid.\n",
      "WARNING:root:frame length (1103) is greater than FFT size (512), frame will be truncated. Increase NFFT to avoid.\n"
     ]
    },
    {
     "name": "stdout",
     "output_type": "stream",
     "text": [
      "Similarty with  ID 1610: 67.13154842797942\n",
      "Similarty with  ID 1636: 42.59107677563276\n",
      "Similarty with  ID 1619: 68.13242033314165\n"
     ]
    },
    {
     "name": "stderr",
     "output_type": "stream",
     "text": [
      "WARNING:root:frame length (1103) is greater than FFT size (512), frame will be truncated. Increase NFFT to avoid.\n",
      "WARNING:root:frame length (1103) is greater than FFT size (512), frame will be truncated. Increase NFFT to avoid.\n",
      "WARNING:root:frame length (1103) is greater than FFT size (512), frame will be truncated. Increase NFFT to avoid.\n",
      "WARNING:root:frame length (1103) is greater than FFT size (512), frame will be truncated. Increase NFFT to avoid.\n"
     ]
    },
    {
     "name": "stdout",
     "output_type": "stream",
     "text": [
      "Similarty with  ID 1634: 47.093501333768735\n",
      "Similarty with  ID 1615: 67.35049326745946\n",
      "Similarty with  ID 1632: 45.86701002961427\n",
      "Similarty with  ID 1617: 72.44827368016986\n"
     ]
    },
    {
     "name": "stderr",
     "output_type": "stream",
     "text": [
      "WARNING:root:frame length (1103) is greater than FFT size (512), frame will be truncated. Increase NFFT to avoid.\n",
      "WARNING:root:frame length (1103) is greater than FFT size (512), frame will be truncated. Increase NFFT to avoid.\n",
      "WARNING:root:frame length (1103) is greater than FFT size (512), frame will be truncated. Increase NFFT to avoid.\n",
      "WARNING:root:frame length (1103) is greater than FFT size (512), frame will be truncated. Increase NFFT to avoid.\n"
     ]
    },
    {
     "name": "stdout",
     "output_type": "stream",
     "text": [
      "Similarty with  ID 1667: 42.930512892499095\n",
      "Similarty with  ID 1633: 61.69581160069748\n",
      "Similarty with  ID 1648: 41.31659971457386\n",
      "Similarty with  ID 1625: 70.57641418838938\n",
      "Similarty with  ID 1646: 40.42594941976716\n"
     ]
    },
    {
     "name": "stderr",
     "output_type": "stream",
     "text": [
      "WARNING:root:frame length (1103) is greater than FFT size (512), frame will be truncated. Increase NFFT to avoid.\n",
      "WARNING:root:frame length (1103) is greater than FFT size (512), frame will be truncated. Increase NFFT to avoid.\n",
      "WARNING:root:frame length (1103) is greater than FFT size (512), frame will be truncated. Increase NFFT to avoid.\n",
      "WARNING:root:frame length (1103) is greater than FFT size (512), frame will be truncated. Increase NFFT to avoid.\n",
      "WARNING:root:frame length (1103) is greater than FFT size (512), frame will be truncated. Increase NFFT to avoid.\n",
      "WARNING:root:frame length (1103) is greater than FFT size (512), frame will be truncated. Increase NFFT to avoid.\n"
     ]
    },
    {
     "name": "stdout",
     "output_type": "stream",
     "text": [
      "Similarty with  ID 1623: 69.329168868737\n",
      "Similarty with  ID 1665: 46.65139696861737\n",
      "Similarty with  ID 1631: 69.58837336418357\n",
      "Similarty with  ID 1663: 48.33476303326382\n",
      "Similarty with  ID 1627: 68.52407024449636\n"
     ]
    },
    {
     "name": "stderr",
     "output_type": "stream",
     "text": [
      "WARNING:root:frame length (1103) is greater than FFT size (512), frame will be truncated. Increase NFFT to avoid.\n",
      "WARNING:root:frame length (1103) is greater than FFT size (512), frame will be truncated. Increase NFFT to avoid.\n",
      "WARNING:root:frame length (1103) is greater than FFT size (512), frame will be truncated. Increase NFFT to avoid.\n",
      "WARNING:root:frame length (1103) is greater than FFT size (512), frame will be truncated. Increase NFFT to avoid.\n",
      "WARNING:root:frame length (1103) is greater than FFT size (512), frame will be truncated. Increase NFFT to avoid.\n"
     ]
    },
    {
     "name": "stdout",
     "output_type": "stream",
     "text": [
      "Similarty with  ID 1661: 43.69575397429051\n",
      "Similarty with  ID 1629: 61.425566333045914\n",
      "Similarty with  ID 1677: 50.137000923760105\n",
      "Similarty with  ID 1712: 69.2185352591519\n",
      "Similarty with  ID 1687: 42.0967756832014\n",
      "Similarty with  ID 1662: 73.80404646397396\n"
     ]
    },
    {
     "name": "stderr",
     "output_type": "stream",
     "text": [
      "WARNING:root:frame length (1103) is greater than FFT size (512), frame will be truncated. Increase NFFT to avoid.\n",
      "WARNING:root:frame length (1103) is greater than FFT size (512), frame will be truncated. Increase NFFT to avoid.\n",
      "WARNING:root:frame length (1103) is greater than FFT size (512), frame will be truncated. Increase NFFT to avoid.\n",
      "WARNING:root:frame length (1103) is greater than FFT size (512), frame will be truncated. Increase NFFT to avoid.\n",
      "WARNING:root:frame length (1103) is greater than FFT size (512), frame will be truncated. Increase NFFT to avoid.\n",
      "WARNING:root:frame length (1103) is greater than FFT size (512), frame will be truncated. Increase NFFT to avoid.\n",
      "WARNING:root:frame length (1103) is greater than FFT size (512), frame will be truncated. Increase NFFT to avoid.\n"
     ]
    },
    {
     "name": "stdout",
     "output_type": "stream",
     "text": [
      "Similarty with  ID 1562: 39.249261357690884\n",
      "Similarty with  ID 1647: 62.92754652799447\n",
      "Similarty with  ID 1651: 46.11009274334585\n",
      "Similarty with  ID 1645: 68.29977587222658\n",
      "Similarty with  ID 1747: 42.303406131089396\n",
      "Similarty with  ID 1643: 74.02939416053118\n"
     ]
    },
    {
     "name": "stderr",
     "output_type": "stream",
     "text": [
      "WARNING:root:frame length (1103) is greater than FFT size (512), frame will be truncated. Increase NFFT to avoid.\n",
      "WARNING:root:frame length (1103) is greater than FFT size (512), frame will be truncated. Increase NFFT to avoid.\n",
      "WARNING:root:frame length (1103) is greater than FFT size (512), frame will be truncated. Increase NFFT to avoid.\n",
      "WARNING:root:frame length (1103) is greater than FFT size (512), frame will be truncated. Increase NFFT to avoid.\n"
     ]
    },
    {
     "name": "stdout",
     "output_type": "stream",
     "text": [
      "Similarty with  ID 1711: 47.1513793810904\n",
      "Similarty with  ID 1660: 66.53132672331252\n",
      "Similarty with  ID 1611: 45.25092221949039\n",
      "Similarty with  ID 1652: 70.55289721159653\n",
      "Similarty with  ID 1707: 46.66455170410669\n"
     ]
    },
    {
     "name": "stderr",
     "output_type": "stream",
     "text": [
      "WARNING:root:frame length (1103) is greater than FFT size (512), frame will be truncated. Increase NFFT to avoid.\n",
      "WARNING:root:frame length (1103) is greater than FFT size (512), frame will be truncated. Increase NFFT to avoid.\n",
      "WARNING:root:frame length (1103) is greater than FFT size (512), frame will be truncated. Increase NFFT to avoid.\n",
      "WARNING:root:frame length (1103) is greater than FFT size (512), frame will be truncated. Increase NFFT to avoid.\n",
      "WARNING:root:frame length (1103) is greater than FFT size (512), frame will be truncated. Increase NFFT to avoid.\n",
      "WARNING:root:frame length (1103) is greater than FFT size (512), frame will be truncated. Increase NFFT to avoid.\n"
     ]
    },
    {
     "name": "stdout",
     "output_type": "stream",
     "text": [
      "Similarty with  ID 1650: 69.00994796464926\n",
      "Similarty with  ID 1705: 43.95861723571219\n",
      "Similarty with  ID 1658: 71.27616340613943\n",
      "Similarty with  ID 1703: 47.37909953077064\n",
      "Similarty with  ID 1654: 59.25276712209739\n",
      "Similarty with  ID 1725: 50.29134432860605\n"
     ]
    },
    {
     "name": "stderr",
     "output_type": "stream",
     "text": [
      "WARNING:root:frame length (1103) is greater than FFT size (512), frame will be truncated. Increase NFFT to avoid.\n",
      "WARNING:root:frame length (1103) is greater than FFT size (512), frame will be truncated. Increase NFFT to avoid.\n",
      "WARNING:root:frame length (1103) is greater than FFT size (512), frame will be truncated. Increase NFFT to avoid.\n",
      "WARNING:root:frame length (1103) is greater than FFT size (512), frame will be truncated. Increase NFFT to avoid.\n"
     ]
    },
    {
     "name": "stdout",
     "output_type": "stream",
     "text": [
      "Similarty with  ID 1656: 61.51046735226197\n",
      "Similarty with  ID 1649: 42.72005184424171\n",
      "Similarty with  ID 1710: 67.83885294373812\n",
      "Similarty with  ID 1745: 39.763325719241564\n"
     ]
    },
    {
     "name": "stderr",
     "output_type": "stream",
     "text": [
      "WARNING:root:frame length (1103) is greater than FFT size (512), frame will be truncated. Increase NFFT to avoid.\n",
      "WARNING:root:frame length (1103) is greater than FFT size (512), frame will be truncated. Increase NFFT to avoid.\n",
      "WARNING:root:frame length (1103) is greater than FFT size (512), frame will be truncated. Increase NFFT to avoid.\n",
      "WARNING:root:frame length (1103) is greater than FFT size (512), frame will be truncated. Increase NFFT to avoid.\n",
      "WARNING:root:frame length (1103) is greater than FFT size (512), frame will be truncated. Increase NFFT to avoid.\n",
      "WARNING:root:frame length (1103) is greater than FFT size (512), frame will be truncated. Increase NFFT to avoid.\n",
      "WARNING:root:frame length (1103) is greater than FFT size (512), frame will be truncated. Increase NFFT to avoid.\n"
     ]
    },
    {
     "name": "stdout",
     "output_type": "stream",
     "text": [
      "Similarty with  ID 1696: 62.92031541538897\n",
      "Similarty with  ID 1769: 39.867997591463684\n",
      "Similarty with  ID 1666: 64.1853664499641\n",
      "Similarty with  ID 1701: 39.850859518023924\n",
      "Similarty with  ID 1664: 66.09778637884513\n",
      "Similarty with  ID 1573: 42.467900764040415\n"
     ]
    },
    {
     "name": "stderr",
     "output_type": "stream",
     "text": [
      "WARNING:root:frame length (1103) is greater than FFT size (512), frame will be truncated. Increase NFFT to avoid.\n",
      "WARNING:root:frame length (1103) is greater than FFT size (512), frame will be truncated. Increase NFFT to avoid.\n",
      "WARNING:root:frame length (1103) is greater than FFT size (512), frame will be truncated. Increase NFFT to avoid.\n"
     ]
    },
    {
     "name": "stdout",
     "output_type": "stream",
     "text": [
      "Similarty with  ID 1686: 68.89055778147927\n",
      "Similarty with  ID 1669: 40.36439009297333\n",
      "Similarty with  ID 1668: 65.73162590060049\n",
      "Similarty with  ID 1644: 42.53339695636247\n"
     ]
    },
    {
     "name": "stderr",
     "output_type": "stream",
     "text": [
      "WARNING:root:frame length (1103) is greater than FFT size (512), frame will be truncated. Increase NFFT to avoid.\n",
      "WARNING:root:frame length (1103) is greater than FFT size (512), frame will be truncated. Increase NFFT to avoid.\n",
      "WARNING:root:frame length (1103) is greater than FFT size (512), frame will be truncated. Increase NFFT to avoid.\n",
      "WARNING:root:frame length (1103) is greater than FFT size (512), frame will be truncated. Increase NFFT to avoid.\n",
      "WARNING:root:frame length (1103) is greater than FFT size (512), frame will be truncated. Increase NFFT to avoid.\n"
     ]
    },
    {
     "name": "stdout",
     "output_type": "stream",
     "text": [
      "Similarty with  ID 1670: 70.134168126699\n",
      "Similarty with  ID 1695: 45.29969940747774\n",
      "Similarty with  ID 1708: 67.5755859509122\n",
      "Similarty with  ID 1733: 43.09594006044555\n",
      "Similarty with  ID 1700: 68.30234211966447\n"
     ]
    },
    {
     "name": "stderr",
     "output_type": "stream",
     "text": [
      "WARNING:root:frame length (1103) is greater than FFT size (512), frame will be truncated. Increase NFFT to avoid.\n",
      "WARNING:root:frame length (1103) is greater than FFT size (512), frame will be truncated. Increase NFFT to avoid.\n",
      "WARNING:root:frame length (1103) is greater than FFT size (512), frame will be truncated. Increase NFFT to avoid.\n",
      "WARNING:root:frame length (1103) is greater than FFT size (512), frame will be truncated. Increase NFFT to avoid.\n",
      "WARNING:root:frame length (1103) is greater than FFT size (512), frame will be truncated. Increase NFFT to avoid.\n"
     ]
    },
    {
     "name": "stdout",
     "output_type": "stream",
     "text": [
      "Similarty with  ID 1622: 45.68610866359589\n",
      "Similarty with  ID 1698: 64.15840080547154\n",
      "Similarty with  ID 1609: 42.09760737844442\n",
      "Similarty with  ID 1706: 68.72385623947751\n"
     ]
    },
    {
     "name": "stderr",
     "output_type": "stream",
     "text": [
      "WARNING:root:frame length (1103) is greater than FFT size (512), frame will be truncated. Increase NFFT to avoid.\n",
      "WARNING:root:frame length (1103) is greater than FFT size (512), frame will be truncated. Increase NFFT to avoid.\n",
      "WARNING:root:frame length (1103) is greater than FFT size (512), frame will be truncated. Increase NFFT to avoid.\n",
      "WARNING:root:frame length (1103) is greater than FFT size (512), frame will be truncated. Increase NFFT to avoid.\n",
      "WARNING:root:frame length (1103) is greater than FFT size (512), frame will be truncated. Increase NFFT to avoid.\n"
     ]
    },
    {
     "name": "stdout",
     "output_type": "stream",
     "text": [
      "Similarty with  ID 1569: 42.04324531497942\n",
      "Similarty with  ID 1702: 70.4607785079529\n",
      "Similarty with  ID 1731: 41.96909318011584\n",
      "Similarty with  ID 1704: 69.98115660545075\n",
      "Similarty with  ID 1616: 48.480226021613205\n"
     ]
    },
    {
     "name": "stderr",
     "output_type": "stream",
     "text": [
      "WARNING:root:frame length (1103) is greater than FFT size (512), frame will be truncated. Increase NFFT to avoid.\n",
      "WARNING:root:frame length (1103) is greater than FFT size (512), frame will be truncated. Increase NFFT to avoid.\n",
      "WARNING:root:frame length (1103) is greater than FFT size (512), frame will be truncated. Increase NFFT to avoid.\n",
      "WARNING:root:frame length (1103) is greater than FFT size (512), frame will be truncated. Increase NFFT to avoid.\n",
      "WARNING:root:frame length (1103) is greater than FFT size (512), frame will be truncated. Increase NFFT to avoid.\n"
     ]
    },
    {
     "name": "stdout",
     "output_type": "stream",
     "text": [
      "Similarty with  ID 1692: 67.04501628963952\n",
      "Similarty with  ID 1618: 45.73042202023207\n",
      "Similarty with  ID 1736: 71.67023163413641\n",
      "Similarty with  ID 1753: 50.87354181173529\n",
      "Similarty with  ID 1722: 65.14818599768088\n",
      "Similarty with  ID 1755: 44.386425188657604\n"
     ]
    },
    {
     "name": "stderr",
     "output_type": "stream",
     "text": [
      "WARNING:root:frame length (1103) is greater than FFT size (512), frame will be truncated. Increase NFFT to avoid.\n",
      "WARNING:root:frame length (1103) is greater than FFT size (512), frame will be truncated. Increase NFFT to avoid.\n",
      "WARNING:root:frame length (1103) is greater than FFT size (512), frame will be truncated. Increase NFFT to avoid.\n",
      "WARNING:root:frame length (1103) is greater than FFT size (512), frame will be truncated. Increase NFFT to avoid.\n",
      "WARNING:root:frame length (1103) is greater than FFT size (512), frame will be truncated. Increase NFFT to avoid.\n",
      "WARNING:root:frame length (1103) is greater than FFT size (512), frame will be truncated. Increase NFFT to avoid.\n"
     ]
    },
    {
     "name": "stdout",
     "output_type": "stream",
     "text": [
      "Similarty with  ID 1714: 67.31573550213527\n",
      "Similarty with  ID 1757: 45.45935583553719\n",
      "Similarty with  ID 1720: 65.01696592078474\n",
      "Similarty with  ID 1759: 47.87568472262774\n",
      "Similarty with  ID 1716: 64.86080226696316\n"
     ]
    },
    {
     "name": "stderr",
     "output_type": "stream",
     "text": [
      "WARNING:root:frame length (1103) is greater than FFT size (512), frame will be truncated. Increase NFFT to avoid.\n",
      "WARNING:root:frame length (1103) is greater than FFT size (512), frame will be truncated. Increase NFFT to avoid.\n"
     ]
    },
    {
     "name": "stdout",
     "output_type": "stream",
     "text": [
      "Similarty with  ID 1691: 40.98360892180646\n",
      "Similarty with  ID 1718: 70.59008535355767\n",
      "Similarty with  ID 1709: 47.335728802627365\n"
     ]
    },
    {
     "name": "stderr",
     "output_type": "stream",
     "text": [
      "WARNING:root:frame length (1103) is greater than FFT size (512), frame will be truncated. Increase NFFT to avoid.\n",
      "WARNING:root:frame length (1103) is greater than FFT size (512), frame will be truncated. Increase NFFT to avoid.\n",
      "WARNING:root:frame length (1103) is greater than FFT size (512), frame will be truncated. Increase NFFT to avoid.\n",
      "WARNING:root:frame length (1103) is greater than FFT size (512), frame will be truncated. Increase NFFT to avoid.\n"
     ]
    },
    {
     "name": "stdout",
     "output_type": "stream",
     "text": [
      "Similarty with  ID 1734: 69.04113039167574\n",
      "Similarty with  ID 1749: 38.925124046255156\n",
      "Similarty with  ID 1726: 68.0375216265646\n",
      "Similarty with  ID 1593: 46.115489298162586\n"
     ]
    },
    {
     "name": "stderr",
     "output_type": "stream",
     "text": [
      "WARNING:root:frame length (1103) is greater than FFT size (512), frame will be truncated. Increase NFFT to avoid.\n",
      "WARNING:root:frame length (1103) is greater than FFT size (512), frame will be truncated. Increase NFFT to avoid.\n",
      "WARNING:root:frame length (1103) is greater than FFT size (512), frame will be truncated. Increase NFFT to avoid.\n",
      "WARNING:root:frame length (1103) is greater than FFT size (512), frame will be truncated. Increase NFFT to avoid.\n",
      "WARNING:root:frame length (1103) is greater than FFT size (512), frame will be truncated. Increase NFFT to avoid.\n",
      "WARNING:root:frame length (1103) is greater than FFT size (512), frame will be truncated. Increase NFFT to avoid.\n"
     ]
    },
    {
     "name": "stdout",
     "output_type": "stream",
     "text": [
      "Similarty with  ID 1724: 71.79069065024109\n",
      "Similarty with  ID 1595: 42.7422674529862\n",
      "Similarty with  ID 1732: 68.2994345953934\n",
      "Similarty with  ID 1591: 43.02221154802413\n",
      "Similarty with  ID 1728: 65.89639623422849\n"
     ]
    },
    {
     "name": "stderr",
     "output_type": "stream",
     "text": [
      "WARNING:root:frame length (1103) is greater than FFT size (512), frame will be truncated. Increase NFFT to avoid.\n",
      "WARNING:root:frame length (1103) is greater than FFT size (512), frame will be truncated. Increase NFFT to avoid.\n",
      "WARNING:root:frame length (1103) is greater than FFT size (512), frame will be truncated. Increase NFFT to avoid.\n"
     ]
    },
    {
     "name": "stdout",
     "output_type": "stream",
     "text": [
      "Similarty with  ID 1767: 47.61373779476889\n",
      "Similarty with  ID 1730: 66.39848975980675\n",
      "Similarty with  ID 1630: 46.00698035334266\n",
      "Similarty with  ID 1748: 68.8576738745759\n"
     ]
    },
    {
     "name": "stderr",
     "output_type": "stream",
     "text": [
      "WARNING:root:frame length (1103) is greater than FFT size (512), frame will be truncated. Increase NFFT to avoid.\n",
      "WARNING:root:frame length (1103) is greater than FFT size (512), frame will be truncated. Increase NFFT to avoid.\n",
      "WARNING:root:frame length (1103) is greater than FFT size (512), frame will be truncated. Increase NFFT to avoid.\n",
      "WARNING:root:frame length (1103) is greater than FFT size (512), frame will be truncated. Increase NFFT to avoid.\n",
      "WARNING:root:frame length (1103) is greater than FFT size (512), frame will be truncated. Increase NFFT to avoid.\n",
      "WARNING:root:frame length (1103) is greater than FFT size (512), frame will be truncated. Increase NFFT to avoid.\n",
      "WARNING:root:frame length (1103) is greater than FFT size (512), frame will be truncated. Increase NFFT to avoid.\n"
     ]
    },
    {
     "name": "stdout",
     "output_type": "stream",
     "text": [
      "Similarty with  ID 1699: 45.09498483937924\n",
      "Similarty with  ID 1740: 63.424985965542064\n",
      "Similarty with  ID 1659: 39.90688821489653\n",
      "Similarty with  ID 1738: 66.8418786848867\n",
      "Similarty with  ID 1675: 48.94585646366322\n",
      "Similarty with  ID 1746: 67.0072602632155\n"
     ]
    },
    {
     "name": "stderr",
     "output_type": "stream",
     "text": [
      "WARNING:root:frame length (1103) is greater than FFT size (512), frame will be truncated. Increase NFFT to avoid.\n",
      "WARNING:root:frame length (1103) is greater than FFT size (512), frame will be truncated. Increase NFFT to avoid.\n",
      "WARNING:root:frame length (1103) is greater than FFT size (512), frame will be truncated. Increase NFFT to avoid.\n",
      "WARNING:root:frame length (1103) is greater than FFT size (512), frame will be truncated. Increase NFFT to avoid.\n"
     ]
    },
    {
     "name": "stdout",
     "output_type": "stream",
     "text": [
      "Similarty with  ID 1693: 41.21244163677928\n",
      "Similarty with  ID 1742: 69.6900401756282\n",
      "Similarty with  ID 1737: 45.18013091547635\n",
      "Similarty with  ID 1744: 65.6489710791307\n"
     ]
    },
    {
     "name": "stderr",
     "output_type": "stream",
     "text": [
      "WARNING:root:frame length (1103) is greater than FFT size (512), frame will be truncated. Increase NFFT to avoid.\n",
      "WARNING:root:frame length (1103) is greater than FFT size (512), frame will be truncated. Increase NFFT to avoid.\n",
      "WARNING:root:frame length (1103) is greater than FFT size (512), frame will be truncated. Increase NFFT to avoid.\n",
      "WARNING:root:frame length (1103) is greater than FFT size (512), frame will be truncated. Increase NFFT to avoid.\n",
      "WARNING:root:frame length (1103) is greater than FFT size (512), frame will be truncated. Increase NFFT to avoid.\n",
      "WARNING:root:frame length (1103) is greater than FFT size (512), frame will be truncated. Increase NFFT to avoid.\n"
     ]
    },
    {
     "name": "stdout",
     "output_type": "stream",
     "text": [
      "Similarty with  ID 1607: 48.280349943756235\n",
      "Similarty with  ID 1768: 64.5919500217331\n",
      "Similarty with  ID 1673: 45.435148429355635\n",
      "Similarty with  ID 1752: 69.86270661394714\n",
      "Similarty with  ID 1685: 41.569891681162545\n",
      "Similarty with  ID 1750: 69.83384298992327\n"
     ]
    },
    {
     "name": "stderr",
     "output_type": "stream",
     "text": [
      "WARNING:root:frame length (1103) is greater than FFT size (512), frame will be truncated. Increase NFFT to avoid.\n",
      "WARNING:root:frame length (1103) is greater than FFT size (512), frame will be truncated. Increase NFFT to avoid.\n",
      "WARNING:root:frame length (1103) is greater than FFT size (512), frame will be truncated. Increase NFFT to avoid.\n"
     ]
    },
    {
     "name": "stdout",
     "output_type": "stream",
     "text": [
      "Similarty with  ID 1681: 44.866187198128564\n",
      "Similarty with  ID 1758: 65.34176657090921\n",
      "Similarty with  ID 1739: 46.720998565074964\n"
     ]
    },
    {
     "name": "stderr",
     "output_type": "stream",
     "text": [
      "WARNING:root:frame length (1103) is greater than FFT size (512), frame will be truncated. Increase NFFT to avoid.\n"
     ]
    },
    {
     "name": "stdout",
     "output_type": "stream",
     "text": [
      "Similarty with  ID 1754: 60.46515663106092\n",
      "Similarty with  ID 1721: 39.08610780689632\n"
     ]
    },
    {
     "name": "stderr",
     "output_type": "stream",
     "text": [
      "WARNING:root:frame length (1103) is greater than FFT size (512), frame will be truncated. Increase NFFT to avoid.\n",
      "WARNING:root:frame length (1103) is greater than FFT size (512), frame will be truncated. Increase NFFT to avoid.\n",
      "WARNING:root:frame length (1103) is greater than FFT size (512), frame will be truncated. Increase NFFT to avoid.\n",
      "WARNING:root:frame length (1103) is greater than FFT size (512), frame will be truncated. Increase NFFT to avoid.\n",
      "WARNING:root:frame length (1103) is greater than FFT size (512), frame will be truncated. Increase NFFT to avoid.\n",
      "WARNING:root:frame length (1103) is greater than FFT size (512), frame will be truncated. Increase NFFT to avoid.\n",
      "WARNING:root:frame length (1103) is greater than FFT size (512), frame will be truncated. Increase NFFT to avoid.\n"
     ]
    },
    {
     "name": "stdout",
     "output_type": "stream",
     "text": [
      "Similarty with  ID 1756: 69.11521007030007\n",
      "Similarty with  ID 1719: 48.62241841880634\n",
      "Similarty with  ID 1764: 70.01311842830067\n",
      "Similarty with  ID 1723: 42.662514482160454\n",
      "Similarty with  ID 1674: 66.3528584500342\n",
      "Similarty with  ID 1717: 45.60790518626683\n"
     ]
    },
    {
     "name": "stderr",
     "output_type": "stream",
     "text": [
      "WARNING:root:frame length (1103) is greater than FFT size (512), frame will be truncated. Increase NFFT to avoid.\n",
      "WARNING:root:frame length (1103) is greater than FFT size (512), frame will be truncated. Increase NFFT to avoid.\n",
      "WARNING:root:frame length (1103) is greater than FFT size (512), frame will be truncated. Increase NFFT to avoid.\n",
      "WARNING:root:frame length (1103) is greater than FFT size (512), frame will be truncated. Increase NFFT to avoid.\n",
      "WARNING:root:frame length (1103) is greater than FFT size (512), frame will be truncated. Increase NFFT to avoid.\n",
      "WARNING:root:frame length (1103) is greater than FFT size (512), frame will be truncated. Increase NFFT to avoid.\n",
      "WARNING:root:frame length (1103) is greater than FFT size (512), frame will be truncated. Increase NFFT to avoid.\n"
     ]
    },
    {
     "name": "stdout",
     "output_type": "stream",
     "text": [
      "Similarty with  ID 1762: 65.64456632473409\n",
      "Similarty with  ID 1655: 40.2395629940046\n",
      "Similarty with  ID 1684: 71.28744719758406\n",
      "Similarty with  ID 1697: 38.01972299643812\n",
      "Similarty with  ID 1672: 68.05037587063518\n",
      "Similarty with  ID 1683: 42.617885600510796\n",
      "Similarty with  ID 1766: 67.091957001325\n"
     ]
    },
    {
     "name": "stderr",
     "output_type": "stream",
     "text": [
      "WARNING:root:frame length (1103) is greater than FFT size (512), frame will be truncated. Increase NFFT to avoid.\n",
      "WARNING:root:frame length (1103) is greater than FFT size (512), frame will be truncated. Increase NFFT to avoid.\n",
      "WARNING:root:frame length (1103) is greater than FFT size (512), frame will be truncated. Increase NFFT to avoid.\n",
      "WARNING:root:frame length (1103) is greater than FFT size (512), frame will be truncated. Increase NFFT to avoid.\n",
      "WARNING:root:frame length (1103) is greater than FFT size (512), frame will be truncated. Increase NFFT to avoid.\n"
     ]
    },
    {
     "name": "stdout",
     "output_type": "stream",
     "text": [
      "Similarty with  ID 1679: 44.77919213049175\n",
      "Similarty with  ID 1606: 64.88089492457803\n",
      "Similarty with  ID 1579: 39.74587523201431\n",
      "Similarty with  ID 1760: 68.59033603997835\n",
      "Similarty with  ID 1624: 42.62620421824854\n",
      "Similarty with  ID 1604: 65.21205166228967\n"
     ]
    },
    {
     "name": "stderr",
     "output_type": "stream",
     "text": [
      "WARNING:root:frame length (1103) is greater than FFT size (512), frame will be truncated. Increase NFFT to avoid.\n",
      "WARNING:root:frame length (1103) is greater than FFT size (512), frame will be truncated. Increase NFFT to avoid.\n",
      "WARNING:root:frame length (1103) is greater than FFT size (512), frame will be truncated. Increase NFFT to avoid.\n",
      "WARNING:root:frame length (1103) is greater than FFT size (512), frame will be truncated. Increase NFFT to avoid.\n",
      "WARNING:root:frame length (1103) is greater than FFT size (512), frame will be truncated. Increase NFFT to avoid.\n"
     ]
    },
    {
     "name": "stdout",
     "output_type": "stream",
     "text": [
      "Similarty with  ID 1761: 50.10865326605723\n",
      "Similarty with  ID 1682: 68.06313749540101\n",
      "Similarty with  ID 1599: 41.76058522467519\n",
      "Similarty with  ID 1680: 66.73239869204147\n",
      "Similarty with  ID 1587: 44.46377950662299\n"
     ]
    },
    {
     "name": "stderr",
     "output_type": "stream",
     "text": [
      "WARNING:root:frame length (1103) is greater than FFT size (512), frame will be truncated. Increase NFFT to avoid.\n",
      "WARNING:root:frame length (1103) is greater than FFT size (512), frame will be truncated. Increase NFFT to avoid.\n",
      "WARNING:root:frame length (1103) is greater than FFT size (512), frame will be truncated. Increase NFFT to avoid.\n"
     ]
    },
    {
     "name": "stdout",
     "output_type": "stream",
     "text": [
      "Similarty with  ID 1678: 69.25545904229988\n",
      "Similarty with  ID 1577: 40.76002284987942\n",
      "Similarty with  ID 1676: 67.06376764151275\n"
     ]
    },
    {
     "name": "stderr",
     "output_type": "stream",
     "text": [
      "WARNING:root:frame length (1103) is greater than FFT size (512), frame will be truncated. Increase NFFT to avoid.\n",
      "WARNING:root:frame length (1103) is greater than FFT size (512), frame will be truncated. Increase NFFT to avoid.\n",
      "WARNING:root:frame length (1103) is greater than FFT size (512), frame will be truncated. Increase NFFT to avoid.\n"
     ]
    },
    {
     "name": "stdout",
     "output_type": "stream",
     "text": [
      "Similarty with  ID 1751: 46.28286316247046\n",
      "Similarty with  ID 1600: 63.74802504182412\n",
      "Similarty with  ID 1715: 41.06577251876704\n"
     ]
    },
    {
     "name": "stderr",
     "output_type": "stream",
     "text": [
      "WARNING:root:frame length (1103) is greater than FFT size (512), frame will be truncated. Increase NFFT to avoid.\n",
      "WARNING:root:frame length (1103) is greater than FFT size (512), frame will be truncated. Increase NFFT to avoid.\n"
     ]
    },
    {
     "name": "stdout",
     "output_type": "stream",
     "text": [
      "Similarty with  ID 1602: 73.69692797581882\n",
      "Similarty with  ID 1657: 47.092806333912954\n"
     ]
    },
    {
     "name": "stderr",
     "output_type": "stream",
     "text": [
      "WARNING:root:frame length (1103) is greater than FFT size (512), frame will be truncated. Increase NFFT to avoid.\n",
      "WARNING:root:frame length (1103) is greater than FFT size (512), frame will be truncated. Increase NFFT to avoid.\n",
      "WARNING:root:frame length (1103) is greater than FFT size (512), frame will be truncated. Increase NFFT to avoid.\n",
      "WARNING:root:frame length (1103) is greater than FFT size (512), frame will be truncated. Increase NFFT to avoid.\n",
      "WARNING:root:frame length (1103) is greater than FFT size (512), frame will be truncated. Increase NFFT to avoid.\n",
      "WARNING:root:frame length (1103) is greater than FFT size (512), frame will be truncated. Increase NFFT to avoid.\n",
      "WARNING:root:frame length (1103) is greater than FFT size (512), frame will be truncated. Increase NFFT to avoid.\n",
      "WARNING:root:frame length (1103) is greater than FFT size (512), frame will be truncated. Increase NFFT to avoid.\n",
      "WARNING:root:frame length (1103) is greater than FFT size (512), frame will be truncated. Increase NFFT to avoid.\n",
      "WARNING:root:frame length (1103) is greater than FFT size (512), frame will be truncated. Increase NFFT to avoid.\n"
     ]
    },
    {
     "name": "stdout",
     "output_type": "stream",
     "text": [
      "Similarty with  ID 219949: 63.28685621384021\n",
      "Similarty with  ID 221103: 53.352256513732115\n",
      "Similarty with  ID 221111: 62.837396603437334\n",
      "Similarty with  ID 221110: 68.8940708085098\n",
      "Similarty with  ID 221149: 60.9932950320256\n",
      "Similarty with  ID 221150: 62.42513354954455\n",
      "Similarty with  ID 221121: 55.34443608411079\n",
      "Similarty with  ID 221123: 49.957514248361164\n",
      "Similarty with  ID 221122: 58.44944949134601\n",
      "Similarty with  ID 221124: 57.48052628322284\n"
     ]
    },
    {
     "name": "stderr",
     "output_type": "stream",
     "text": [
      "WARNING:root:frame length (1103) is greater than FFT size (512), frame will be truncated. Increase NFFT to avoid.\n",
      "WARNING:root:frame length (1103) is greater than FFT size (512), frame will be truncated. Increase NFFT to avoid.\n",
      "WARNING:root:frame length (1103) is greater than FFT size (512), frame will be truncated. Increase NFFT to avoid.\n",
      "WARNING:root:frame length (1103) is greater than FFT size (512), frame will be truncated. Increase NFFT to avoid.\n",
      "WARNING:root:frame length (1103) is greater than FFT size (512), frame will be truncated. Increase NFFT to avoid.\n"
     ]
    },
    {
     "name": "stdout",
     "output_type": "stream",
     "text": [
      "Similarty with  ID 221145: 59.26402366713179\n",
      "Similarty with  ID 221146: 60.62112404815198\n",
      "Similarty with  ID 221144: 58.11895409018651\n",
      "Similarty with  ID 221140: 60.80609962963297\n",
      "Similarty with  ID 221136: 61.14203500138691\n"
     ]
    },
    {
     "name": "stderr",
     "output_type": "stream",
     "text": [
      "WARNING:root:frame length (1103) is greater than FFT size (512), frame will be truncated. Increase NFFT to avoid.\n",
      "WARNING:root:frame length (1103) is greater than FFT size (512), frame will be truncated. Increase NFFT to avoid.\n",
      "WARNING:root:frame length (1103) is greater than FFT size (512), frame will be truncated. Increase NFFT to avoid.\n",
      "WARNING:root:frame length (1103) is greater than FFT size (512), frame will be truncated. Increase NFFT to avoid.\n",
      "WARNING:root:frame length (1103) is greater than FFT size (512), frame will be truncated. Increase NFFT to avoid.\n"
     ]
    },
    {
     "name": "stdout",
     "output_type": "stream",
     "text": [
      "Similarty with  ID 221135: 60.826888669229106\n",
      "Similarty with  ID 221137: 53.79158877976452\n",
      "Similarty with  ID 221138: 59.04164852255258\n",
      "Similarty with  ID 221139: 57.50845763871903\n",
      "Similarty with  ID 221134: 61.82850772021566\n"
     ]
    },
    {
     "name": "stderr",
     "output_type": "stream",
     "text": [
      "WARNING:root:frame length (1103) is greater than FFT size (512), frame will be truncated. Increase NFFT to avoid.\n",
      "WARNING:root:frame length (1103) is greater than FFT size (512), frame will be truncated. Increase NFFT to avoid.\n",
      "WARNING:root:frame length (1103) is greater than FFT size (512), frame will be truncated. Increase NFFT to avoid.\n",
      "WARNING:root:frame length (1103) is greater than FFT size (512), frame will be truncated. Increase NFFT to avoid.\n",
      "WARNING:root:frame length (1103) is greater than FFT size (512), frame will be truncated. Increase NFFT to avoid.\n",
      "WARNING:root:frame length (1103) is greater than FFT size (512), frame will be truncated. Increase NFFT to avoid.\n"
     ]
    },
    {
     "name": "stdout",
     "output_type": "stream",
     "text": [
      "Similarty with  ID 221102: 56.89811148239245\n",
      "Similarty with  ID 221101: 54.78231166533764\n",
      "Similarty with  ID 221148: 59.498373848816584\n",
      "Similarty with  ID 221132: 57.89470240825277\n",
      "Similarty with  ID 221131: 52.13592548898594\n"
     ]
    },
    {
     "name": "stderr",
     "output_type": "stream",
     "text": [
      "WARNING:root:frame length (1103) is greater than FFT size (512), frame will be truncated. Increase NFFT to avoid.\n",
      "WARNING:root:frame length (1103) is greater than FFT size (512), frame will be truncated. Increase NFFT to avoid.\n",
      "WARNING:root:frame length (1103) is greater than FFT size (512), frame will be truncated. Increase NFFT to avoid.\n",
      "WARNING:root:frame length (1103) is greater than FFT size (512), frame will be truncated. Increase NFFT to avoid.\n"
     ]
    },
    {
     "name": "stdout",
     "output_type": "stream",
     "text": [
      "Similarty with  ID 221158: 47.43119291721142\n",
      "Similarty with  ID 221157: 58.19288527747283\n",
      "Similarty with  ID 221127: 63.870497460392876\n",
      "Similarty with  ID 221126: 51.648540951323845\n",
      "Similarty with  ID 221133: 48.181509088502395\n"
     ]
    },
    {
     "name": "stderr",
     "output_type": "stream",
     "text": [
      "WARNING:root:frame length (1103) is greater than FFT size (512), frame will be truncated. Increase NFFT to avoid.\n",
      "WARNING:root:frame length (1103) is greater than FFT size (512), frame will be truncated. Increase NFFT to avoid.\n",
      "WARNING:root:frame length (1103) is greater than FFT size (512), frame will be truncated. Increase NFFT to avoid.\n",
      "WARNING:root:frame length (1103) is greater than FFT size (512), frame will be truncated. Increase NFFT to avoid.\n",
      "WARNING:root:frame length (1103) is greater than FFT size (512), frame will be truncated. Increase NFFT to avoid.\n"
     ]
    },
    {
     "name": "stdout",
     "output_type": "stream",
     "text": [
      "Similarty with  ID 219950: 54.01907243252158\n",
      "Similarty with  ID 221151: 62.00827668178277\n",
      "Similarty with  ID 221105: 65.29028897755458\n",
      "Similarty with  ID 221107: 60.04578518243116\n",
      "Similarty with  ID 221106: 62.160493420898135\n"
     ]
    },
    {
     "name": "stderr",
     "output_type": "stream",
     "text": [
      "WARNING:root:frame length (1103) is greater than FFT size (512), frame will be truncated. Increase NFFT to avoid.\n",
      "WARNING:root:frame length (1103) is greater than FFT size (512), frame will be truncated. Increase NFFT to avoid.\n",
      "WARNING:root:frame length (1103) is greater than FFT size (512), frame will be truncated. Increase NFFT to avoid.\n",
      "WARNING:root:frame length (1103) is greater than FFT size (512), frame will be truncated. Increase NFFT to avoid.\n"
     ]
    },
    {
     "name": "stdout",
     "output_type": "stream",
     "text": [
      "Similarty with  ID 221104: 52.61371646281625\n",
      "Similarty with  ID 221109: 59.867494350282904\n",
      "Similarty with  ID 221099: 66.56623689839218\n",
      "Similarty with  ID 221152: 59.8670348968715\n"
     ]
    },
    {
     "name": "stderr",
     "output_type": "stream",
     "text": [
      "WARNING:root:frame length (1103) is greater than FFT size (512), frame will be truncated. Increase NFFT to avoid.\n",
      "WARNING:root:frame length (1103) is greater than FFT size (512), frame will be truncated. Increase NFFT to avoid.\n",
      "WARNING:root:frame length (1103) is greater than FFT size (512), frame will be truncated. Increase NFFT to avoid.\n",
      "WARNING:root:frame length (1103) is greater than FFT size (512), frame will be truncated. Increase NFFT to avoid.\n",
      "WARNING:root:frame length (1103) is greater than FFT size (512), frame will be truncated. Increase NFFT to avoid.\n"
     ]
    },
    {
     "name": "stdout",
     "output_type": "stream",
     "text": [
      "Similarty with  ID 221153: 57.27889162533088\n",
      "Similarty with  ID 221154: 55.78408868107982\n",
      "Similarty with  ID 221155: 52.99143991286783\n",
      "Similarty with  ID 221156: 61.1113232280595\n",
      "Similarty with  ID 221128: 55.45768394348502\n"
     ]
    },
    {
     "name": "stderr",
     "output_type": "stream",
     "text": [
      "WARNING:root:frame length (1103) is greater than FFT size (512), frame will be truncated. Increase NFFT to avoid.\n",
      "WARNING:root:frame length (1103) is greater than FFT size (512), frame will be truncated. Increase NFFT to avoid.\n",
      "WARNING:root:frame length (1103) is greater than FFT size (512), frame will be truncated. Increase NFFT to avoid.\n",
      "WARNING:root:frame length (1103) is greater than FFT size (512), frame will be truncated. Increase NFFT to avoid.\n",
      "WARNING:root:frame length (1103) is greater than FFT size (512), frame will be truncated. Increase NFFT to avoid.\n",
      "WARNING:root:frame length (1103) is greater than FFT size (512), frame will be truncated. Increase NFFT to avoid.\n"
     ]
    },
    {
     "name": "stdout",
     "output_type": "stream",
     "text": [
      "Similarty with  ID 221130: 61.71475944484445\n",
      "Similarty with  ID 221129: 60.73151455578983\n",
      "Similarty with  ID 221147: 60.05304847144677\n",
      "Similarty with  ID 221119: 56.85049674531266\n",
      "Similarty with  ID 221120: 62.179948342693564\n"
     ]
    },
    {
     "name": "stderr",
     "output_type": "stream",
     "text": [
      "WARNING:root:frame length (1103) is greater than FFT size (512), frame will be truncated. Increase NFFT to avoid.\n",
      "WARNING:root:frame length (1103) is greater than FFT size (512), frame will be truncated. Increase NFFT to avoid.\n",
      "WARNING:root:frame length (1103) is greater than FFT size (512), frame will be truncated. Increase NFFT to avoid.\n"
     ]
    },
    {
     "name": "stdout",
     "output_type": "stream",
     "text": [
      "Similarty with  ID 221116: 61.78232095192729\n",
      "Similarty with  ID 221141: 56.29666632724191\n",
      "Similarty with  ID 221142: 56.134884079193235\n"
     ]
    },
    {
     "name": "stderr",
     "output_type": "stream",
     "text": [
      "WARNING:root:frame length (1103) is greater than FFT size (512), frame will be truncated. Increase NFFT to avoid.\n",
      "WARNING:root:frame length (1103) is greater than FFT size (512), frame will be truncated. Increase NFFT to avoid.\n",
      "WARNING:root:frame length (1103) is greater than FFT size (512), frame will be truncated. Increase NFFT to avoid.\n",
      "WARNING:root:frame length (1103) is greater than FFT size (512), frame will be truncated. Increase NFFT to avoid.\n"
     ]
    },
    {
     "name": "stdout",
     "output_type": "stream",
     "text": [
      "Similarty with  ID 221108: 55.67111206358763\n",
      "Similarty with  ID 221114: 56.03107693897034\n",
      "Similarty with  ID 221100: 56.51143688450242\n",
      "Similarty with  ID 221143: 52.89693504802199\n",
      "Similarty with  ID 221113: 55.49543841597111\n"
     ]
    },
    {
     "name": "stderr",
     "output_type": "stream",
     "text": [
      "WARNING:root:frame length (1103) is greater than FFT size (512), frame will be truncated. Increase NFFT to avoid.\n",
      "WARNING:root:frame length (1103) is greater than FFT size (512), frame will be truncated. Increase NFFT to avoid.\n",
      "WARNING:root:frame length (1103) is greater than FFT size (512), frame will be truncated. Increase NFFT to avoid.\n",
      "WARNING:root:frame length (1103) is greater than FFT size (512), frame will be truncated. Increase NFFT to avoid.\n",
      "WARNING:root:frame length (1103) is greater than FFT size (512), frame will be truncated. Increase NFFT to avoid.\n"
     ]
    },
    {
     "name": "stdout",
     "output_type": "stream",
     "text": [
      "Similarty with  ID 221112: 57.321345429721035\n",
      "Similarty with  ID 221118: 55.53839510063708\n",
      "Similarty with  ID 221117: 59.426328764781545\n",
      "Similarty with  ID 221115: 60.39958974261265\n",
      "Similarty with  ID 221125: 62.87051988103897\n"
     ]
    },
    {
     "name": "stderr",
     "output_type": "stream",
     "text": [
      "WARNING:root:frame length (1103) is greater than FFT size (512), frame will be truncated. Increase NFFT to avoid.\n",
      "WARNING:root:frame length (1103) is greater than FFT size (512), frame will be truncated. Increase NFFT to avoid.\n",
      "WARNING:root:frame length (1103) is greater than FFT size (512), frame will be truncated. Increase NFFT to avoid.\n",
      "WARNING:root:frame length (1103) is greater than FFT size (512), frame will be truncated. Increase NFFT to avoid.\n",
      "WARNING:root:frame length (1103) is greater than FFT size (512), frame will be truncated. Increase NFFT to avoid.\n",
      "WARNING:root:frame length (1103) is greater than FFT size (512), frame will be truncated. Increase NFFT to avoid.\n",
      "WARNING:root:frame length (1103) is greater than FFT size (512), frame will be truncated. Increase NFFT to avoid.\n"
     ]
    },
    {
     "name": "stdout",
     "output_type": "stream",
     "text": [
      "Similarty with  ID 219951: 60.423823216505035\n",
      "Similarty with  ID 221164: 66.30493502799882\n",
      "Similarty with  ID 221201: 65.1490424388763\n",
      "Similarty with  ID 221200: 67.65613982850948\n",
      "Similarty with  ID 221167: 65.54316491131682\n",
      "Similarty with  ID 221166: 68.70883142350618\n",
      "Similarty with  ID 221165: 66.13268856381048\n"
     ]
    },
    {
     "name": "stderr",
     "output_type": "stream",
     "text": [
      "WARNING:root:frame length (1103) is greater than FFT size (512), frame will be truncated. Increase NFFT to avoid.\n",
      "WARNING:root:frame length (1103) is greater than FFT size (512), frame will be truncated. Increase NFFT to avoid.\n",
      "WARNING:root:frame length (1103) is greater than FFT size (512), frame will be truncated. Increase NFFT to avoid.\n",
      "WARNING:root:frame length (1103) is greater than FFT size (512), frame will be truncated. Increase NFFT to avoid.\n",
      "WARNING:root:frame length (1103) is greater than FFT size (512), frame will be truncated. Increase NFFT to avoid.\n",
      "WARNING:root:frame length (1103) is greater than FFT size (512), frame will be truncated. Increase NFFT to avoid.\n"
     ]
    },
    {
     "name": "stdout",
     "output_type": "stream",
     "text": [
      "Similarty with  ID 221180: 65.91695590371285\n",
      "Similarty with  ID 221181: 65.39817682299488\n",
      "Similarty with  ID 221182: 63.205884800177216\n",
      "Similarty with  ID 221183: 61.73052783945172\n",
      "Similarty with  ID 221206: 62.73573758419502\n",
      "Similarty with  ID 221205: 65.7597437462948\n"
     ]
    },
    {
     "name": "stderr",
     "output_type": "stream",
     "text": [
      "WARNING:root:frame length (1103) is greater than FFT size (512), frame will be truncated. Increase NFFT to avoid.\n",
      "WARNING:root:frame length (1103) is greater than FFT size (512), frame will be truncated. Increase NFFT to avoid.\n"
     ]
    },
    {
     "name": "stdout",
     "output_type": "stream",
     "text": [
      "Similarty with  ID 221208: 63.16360416397502\n",
      "Similarty with  ID 221207: 63.46940008769056\n"
     ]
    },
    {
     "name": "stderr",
     "output_type": "stream",
     "text": [
      "WARNING:root:frame length (1103) is greater than FFT size (512), frame will be truncated. Increase NFFT to avoid.\n",
      "WARNING:root:frame length (1103) is greater than FFT size (512), frame will be truncated. Increase NFFT to avoid.\n",
      "WARNING:root:frame length (1103) is greater than FFT size (512), frame will be truncated. Increase NFFT to avoid.\n"
     ]
    },
    {
     "name": "stdout",
     "output_type": "stream",
     "text": [
      "Similarty with  ID 219952: 59.915020862374696\n",
      "Similarty with  ID 221172: 63.175673536647906\n",
      "Similarty with  ID 221173: 65.70683914843535\n"
     ]
    },
    {
     "name": "stderr",
     "output_type": "stream",
     "text": [
      "WARNING:root:frame length (1103) is greater than FFT size (512), frame will be truncated. Increase NFFT to avoid.\n",
      "WARNING:root:frame length (1103) is greater than FFT size (512), frame will be truncated. Increase NFFT to avoid.\n",
      "WARNING:root:frame length (1103) is greater than FFT size (512), frame will be truncated. Increase NFFT to avoid.\n",
      "WARNING:root:frame length (1103) is greater than FFT size (512), frame will be truncated. Increase NFFT to avoid.\n",
      "WARNING:root:frame length (1103) is greater than FFT size (512), frame will be truncated. Increase NFFT to avoid.\n",
      "WARNING:root:frame length (1103) is greater than FFT size (512), frame will be truncated. Increase NFFT to avoid.\n"
     ]
    },
    {
     "name": "stdout",
     "output_type": "stream",
     "text": [
      "Similarty with  ID 221174: 66.46774941464773\n",
      "Similarty with  ID 221177: 66.71816937524524\n",
      "Similarty with  ID 221176: 64.13564956003087\n",
      "Similarty with  ID 221175: 62.448014168781874\n",
      "Similarty with  ID 221178: 61.829145595339284\n",
      "Similarty with  ID 221179: 62.63139098670414\n"
     ]
    },
    {
     "name": "stderr",
     "output_type": "stream",
     "text": [
      "WARNING:root:frame length (1103) is greater than FFT size (512), frame will be truncated. Increase NFFT to avoid.\n",
      "WARNING:root:frame length (1103) is greater than FFT size (512), frame will be truncated. Increase NFFT to avoid.\n",
      "WARNING:root:frame length (1103) is greater than FFT size (512), frame will be truncated. Increase NFFT to avoid.\n"
     ]
    },
    {
     "name": "stdout",
     "output_type": "stream",
     "text": [
      "Similarty with  ID 221210: 64.94907772120585\n",
      "Similarty with  ID 221196: 60.823274258890216\n"
     ]
    },
    {
     "name": "stderr",
     "output_type": "stream",
     "text": [
      "WARNING:root:frame length (1103) is greater than FFT size (512), frame will be truncated. Increase NFFT to avoid.\n",
      "WARNING:root:frame length (1103) is greater than FFT size (512), frame will be truncated. Increase NFFT to avoid.\n"
     ]
    },
    {
     "name": "stdout",
     "output_type": "stream",
     "text": [
      "Similarty with  ID 221197: 72.72230871656215\n",
      "Similarty with  ID 221211: 65.05016900691088\n",
      "Similarty with  ID 221212: 73.5105232227816\n"
     ]
    },
    {
     "name": "stderr",
     "output_type": "stream",
     "text": [
      "WARNING:root:frame length (1103) is greater than FFT size (512), frame will be truncated. Increase NFFT to avoid.\n",
      "WARNING:root:frame length (1103) is greater than FFT size (512), frame will be truncated. Increase NFFT to avoid.\n",
      "WARNING:root:frame length (1103) is greater than FFT size (512), frame will be truncated. Increase NFFT to avoid.\n",
      "WARNING:root:frame length (1103) is greater than FFT size (512), frame will be truncated. Increase NFFT to avoid.\n",
      "WARNING:root:frame length (1103) is greater than FFT size (512), frame will be truncated. Increase NFFT to avoid.\n",
      "WARNING:root:frame length (1103) is greater than FFT size (512), frame will be truncated. Increase NFFT to avoid.\n"
     ]
    },
    {
     "name": "stdout",
     "output_type": "stream",
     "text": [
      "Similarty with  ID 221199: 67.42017755234812\n",
      "Similarty with  ID 221195: 70.94824150551197\n",
      "Similarty with  ID 221194: 69.72989055342231\n",
      "Similarty with  ID 221193: 60.49992074668136\n",
      "Similarty with  ID 221159: 66.68968779154748\n"
     ]
    },
    {
     "name": "stderr",
     "output_type": "stream",
     "text": [
      "WARNING:root:frame length (1103) is greater than FFT size (512), frame will be truncated. Increase NFFT to avoid.\n",
      "WARNING:root:frame length (1103) is greater than FFT size (512), frame will be truncated. Increase NFFT to avoid.\n",
      "WARNING:root:frame length (1103) is greater than FFT size (512), frame will be truncated. Increase NFFT to avoid.\n",
      "WARNING:root:frame length (1103) is greater than FFT size (512), frame will be truncated. Increase NFFT to avoid.\n",
      "WARNING:root:frame length (1103) is greater than FFT size (512), frame will be truncated. Increase NFFT to avoid.\n",
      "WARNING:root:frame length (1103) is greater than FFT size (512), frame will be truncated. Increase NFFT to avoid.\n"
     ]
    },
    {
     "name": "stdout",
     "output_type": "stream",
     "text": [
      "Similarty with  ID 221160: 64.89973342770266\n",
      "Similarty with  ID 221161: 64.98417112406052\n",
      "Similarty with  ID 221163: 62.1148995204299\n",
      "Similarty with  ID 221162: 64.8252138799497\n",
      "Similarty with  ID 221215: 67.77164992585186\n",
      "Similarty with  ID 221216: 77.85483749474037\n",
      "Similarty with  ID 221214: 65.85569121711498\n"
     ]
    },
    {
     "name": "stderr",
     "output_type": "stream",
     "text": [
      "WARNING:root:frame length (1103) is greater than FFT size (512), frame will be truncated. Increase NFFT to avoid.\n",
      "WARNING:root:frame length (1103) is greater than FFT size (512), frame will be truncated. Increase NFFT to avoid.\n",
      "WARNING:root:frame length (1103) is greater than FFT size (512), frame will be truncated. Increase NFFT to avoid.\n",
      "WARNING:root:frame length (1103) is greater than FFT size (512), frame will be truncated. Increase NFFT to avoid.\n",
      "WARNING:root:frame length (1103) is greater than FFT size (512), frame will be truncated. Increase NFFT to avoid.\n",
      "WARNING:root:frame length (1103) is greater than FFT size (512), frame will be truncated. Increase NFFT to avoid.\n",
      "WARNING:root:frame length (1103) is greater than FFT size (512), frame will be truncated. Increase NFFT to avoid.\n"
     ]
    },
    {
     "name": "stdout",
     "output_type": "stream",
     "text": [
      "Similarty with  ID 221213: 64.83077407537823\n",
      "Similarty with  ID 221190: 67.6991618979199\n",
      "Similarty with  ID 221189: 66.34331858836218\n",
      "Similarty with  ID 221188: 67.98565873494837\n",
      "Similarty with  ID 221187: 67.19382851301678\n",
      "Similarty with  ID 221209: 65.8813716363977\n"
     ]
    },
    {
     "name": "stderr",
     "output_type": "stream",
     "text": [
      "WARNING:root:frame length (1103) is greater than FFT size (512), frame will be truncated. Increase NFFT to avoid.\n",
      "WARNING:root:frame length (1103) is greater than FFT size (512), frame will be truncated. Increase NFFT to avoid.\n"
     ]
    },
    {
     "name": "stdout",
     "output_type": "stream",
     "text": [
      "Similarty with  ID 221204: 66.78235091156428\n",
      "Similarty with  ID 221203: 65.52966463124355\n"
     ]
    },
    {
     "name": "stderr",
     "output_type": "stream",
     "text": [
      "WARNING:root:frame length (1103) is greater than FFT size (512), frame will be truncated. Increase NFFT to avoid.\n",
      "WARNING:root:frame length (1103) is greater than FFT size (512), frame will be truncated. Increase NFFT to avoid.\n",
      "WARNING:root:frame length (1103) is greater than FFT size (512), frame will be truncated. Increase NFFT to avoid.\n",
      "WARNING:root:frame length (1103) is greater than FFT size (512), frame will be truncated. Increase NFFT to avoid.\n",
      "WARNING:root:frame length (1103) is greater than FFT size (512), frame will be truncated. Increase NFFT to avoid.\n"
     ]
    },
    {
     "name": "stdout",
     "output_type": "stream",
     "text": [
      "Similarty with  ID 221202: 67.06752113980109\n",
      "Similarty with  ID 221170: 66.2568314794684\n",
      "Similarty with  ID 221169: 66.17940385079731\n",
      "Similarty with  ID 221168: 65.8385260040409\n",
      "Similarty with  ID 221171: 67.79458725248391\n"
     ]
    },
    {
     "name": "stderr",
     "output_type": "stream",
     "text": [
      "WARNING:root:frame length (1103) is greater than FFT size (512), frame will be truncated. Increase NFFT to avoid.\n",
      "WARNING:root:frame length (1103) is greater than FFT size (512), frame will be truncated. Increase NFFT to avoid.\n",
      "WARNING:root:frame length (1103) is greater than FFT size (512), frame will be truncated. Increase NFFT to avoid.\n",
      "WARNING:root:frame length (1103) is greater than FFT size (512), frame will be truncated. Increase NFFT to avoid.\n",
      "WARNING:root:frame length (1103) is greater than FFT size (512), frame will be truncated. Increase NFFT to avoid.\n"
     ]
    },
    {
     "name": "stdout",
     "output_type": "stream",
     "text": [
      "Similarty with  ID 221198: 62.2224333910763\n",
      "Similarty with  ID 221184: 66.91785546521923\n",
      "Similarty with  ID 221186: 64.90185976647535\n",
      "Similarty with  ID 221185: 67.1284174757024\n",
      "Similarty with  ID 221191: 67.22917174085545\n",
      "Similarty with  ID 221192: 70.10180184009276\n"
     ]
    },
    {
     "name": "stderr",
     "output_type": "stream",
     "text": [
      "WARNING:root:frame length (1103) is greater than FFT size (512), frame will be truncated. Increase NFFT to avoid.\n",
      "WARNING:root:frame length (1103) is greater than FFT size (512), frame will be truncated. Increase NFFT to avoid.\n",
      "WARNING:root:frame length (1103) is greater than FFT size (512), frame will be truncated. Increase NFFT to avoid.\n",
      "WARNING:root:frame length (1103) is greater than FFT size (512), frame will be truncated. Increase NFFT to avoid.\n",
      "WARNING:root:frame length (1103) is greater than FFT size (512), frame will be truncated. Increase NFFT to avoid.\n",
      "WARNING:root:frame length (1103) is greater than FFT size (512), frame will be truncated. Increase NFFT to avoid.\n",
      "WARNING:root:frame length (1103) is greater than FFT size (512), frame will be truncated. Increase NFFT to avoid.\n"
     ]
    },
    {
     "name": "stdout",
     "output_type": "stream",
     "text": [
      "Similarty with  ID 219953: 56.72788294534278\n",
      "Similarty with  ID 220517: 52.78326878601788\n",
      "Similarty with  ID 220516: 54.41087407961178\n",
      "Similarty with  ID 220520: 58.151595486978636\n",
      "Similarty with  ID 220521: 51.775553007677814\n",
      "Similarty with  ID 220522: 51.035816884418146\n",
      "Similarty with  ID 220515: 62.27363139385399\n"
     ]
    },
    {
     "name": "stderr",
     "output_type": "stream",
     "text": [
      "WARNING:root:frame length (1103) is greater than FFT size (512), frame will be truncated. Increase NFFT to avoid.\n",
      "WARNING:root:frame length (1103) is greater than FFT size (512), frame will be truncated. Increase NFFT to avoid.\n",
      "WARNING:root:frame length (1103) is greater than FFT size (512), frame will be truncated. Increase NFFT to avoid.\n",
      "WARNING:root:frame length (1103) is greater than FFT size (512), frame will be truncated. Increase NFFT to avoid.\n",
      "WARNING:root:frame length (1103) is greater than FFT size (512), frame will be truncated. Increase NFFT to avoid.\n",
      "WARNING:root:frame length (1103) is greater than FFT size (512), frame will be truncated. Increase NFFT to avoid.\n"
     ]
    },
    {
     "name": "stdout",
     "output_type": "stream",
     "text": [
      "Similarty with  ID 219954: 51.07883498645954\n",
      "Similarty with  ID 220518: 57.837961786428814\n",
      "Similarty with  ID 220519: 58.652623920519986\n",
      "Similarty with  ID 220512: 58.90238812640023\n",
      "Similarty with  ID 220513: 58.19518575458328\n"
     ]
    },
    {
     "name": "stderr",
     "output_type": "stream",
     "text": [
      "WARNING:root:frame length (1103) is greater than FFT size (512), frame will be truncated. Increase NFFT to avoid.\n"
     ]
    },
    {
     "name": "stdout",
     "output_type": "stream",
     "text": [
      "Similarty with  ID 220514: 58.46148558196351\n",
      "Similarty with  ID 220511: 60.21058465909902\n"
     ]
    },
    {
     "name": "stderr",
     "output_type": "stream",
     "text": [
      "WARNING:root:frame length (1103) is greater than FFT size (512), frame will be truncated. Increase NFFT to avoid.\n",
      "WARNING:root:frame length (1103) is greater than FFT size (512), frame will be truncated. Increase NFFT to avoid.\n",
      "WARNING:root:frame length (1103) is greater than FFT size (512), frame will be truncated. Increase NFFT to avoid.\n",
      "WARNING:root:frame length (1103) is greater than FFT size (512), frame will be truncated. Increase NFFT to avoid.\n",
      "WARNING:root:frame length (1103) is greater than FFT size (512), frame will be truncated. Increase NFFT to avoid.\n",
      "WARNING:root:frame length (1103) is greater than FFT size (512), frame will be truncated. Increase NFFT to avoid.\n",
      "WARNING:root:frame length (1103) is greater than FFT size (512), frame will be truncated. Increase NFFT to avoid.\n",
      "WARNING:root:frame length (1103) is greater than FFT size (512), frame will be truncated. Increase NFFT to avoid.\n",
      "WARNING:root:frame length (1103) is greater than FFT size (512), frame will be truncated. Increase NFFT to avoid.\n"
     ]
    },
    {
     "name": "stdout",
     "output_type": "stream",
     "text": [
      "Similarty with  ID 219955: 65.19113190834473\n",
      "Similarty with  ID 220553: 65.24849020740682\n",
      "Similarty with  ID 220543: 66.70540513229398\n",
      "Similarty with  ID 220538: 65.80565854632302\n",
      "Similarty with  ID 220546: 57.00508334238796\n",
      "Similarty with  ID 220541: 65.54711185531674\n",
      "Similarty with  ID 220540: 51.217919784988716\n",
      "Similarty with  ID 220542: 64.96441813739504\n",
      "Similarty with  ID 220554: 64.85973753113701\n"
     ]
    },
    {
     "name": "stderr",
     "output_type": "stream",
     "text": [
      "WARNING:root:frame length (1103) is greater than FFT size (512), frame will be truncated. Increase NFFT to avoid.\n",
      "WARNING:root:frame length (1103) is greater than FFT size (512), frame will be truncated. Increase NFFT to avoid.\n",
      "WARNING:root:frame length (1103) is greater than FFT size (512), frame will be truncated. Increase NFFT to avoid.\n",
      "WARNING:root:frame length (1103) is greater than FFT size (512), frame will be truncated. Increase NFFT to avoid.\n"
     ]
    },
    {
     "name": "stdout",
     "output_type": "stream",
     "text": [
      "Similarty with  ID 219956: 62.223779311016116\n",
      "Similarty with  ID 220552: 66.46325933432843\n",
      "Similarty with  ID 220528: 62.67333116769772\n",
      "Similarty with  ID 220539: 54.50419789983036\n"
     ]
    },
    {
     "name": "stderr",
     "output_type": "stream",
     "text": [
      "WARNING:root:frame length (1103) is greater than FFT size (512), frame will be truncated. Increase NFFT to avoid.\n",
      "WARNING:root:frame length (1103) is greater than FFT size (512), frame will be truncated. Increase NFFT to avoid.\n",
      "WARNING:root:frame length (1103) is greater than FFT size (512), frame will be truncated. Increase NFFT to avoid.\n",
      "WARNING:root:frame length (1103) is greater than FFT size (512), frame will be truncated. Increase NFFT to avoid.\n",
      "WARNING:root:frame length (1103) is greater than FFT size (512), frame will be truncated. Increase NFFT to avoid.\n"
     ]
    },
    {
     "name": "stdout",
     "output_type": "stream",
     "text": [
      "Similarty with  ID 219957: 61.34421402198133\n",
      "Similarty with  ID 220533: 65.59693022835096\n",
      "Similarty with  ID 220534: 65.46640821130838\n",
      "Similarty with  ID 220527: 64.14888947591663\n",
      "Similarty with  ID 220526: 63.61646351746487\n"
     ]
    },
    {
     "name": "stderr",
     "output_type": "stream",
     "text": [
      "WARNING:root:frame length (1103) is greater than FFT size (512), frame will be truncated. Increase NFFT to avoid.\n",
      "WARNING:root:frame length (1103) is greater than FFT size (512), frame will be truncated. Increase NFFT to avoid.\n",
      "WARNING:root:frame length (1103) is greater than FFT size (512), frame will be truncated. Increase NFFT to avoid.\n"
     ]
    },
    {
     "name": "stdout",
     "output_type": "stream",
     "text": [
      "Similarty with  ID 220523: 77.21225472999046\n",
      "Similarty with  ID 220549: 66.37112914672852\n",
      "Similarty with  ID 220547: 68.31555846442645\n"
     ]
    },
    {
     "name": "stderr",
     "output_type": "stream",
     "text": [
      "WARNING:root:frame length (1103) is greater than FFT size (512), frame will be truncated. Increase NFFT to avoid.\n"
     ]
    },
    {
     "name": "stdout",
     "output_type": "stream",
     "text": [
      "Similarty with  ID 220548: 64.64934463768908\n"
     ]
    },
    {
     "name": "stderr",
     "output_type": "stream",
     "text": [
      "WARNING:root:frame length (1103) is greater than FFT size (512), frame will be truncated. Increase NFFT to avoid.\n",
      "WARNING:root:frame length (1103) is greater than FFT size (512), frame will be truncated. Increase NFFT to avoid.\n",
      "WARNING:root:frame length (1103) is greater than FFT size (512), frame will be truncated. Increase NFFT to avoid.\n",
      "WARNING:root:frame length (1103) is greater than FFT size (512), frame will be truncated. Increase NFFT to avoid.\n",
      "WARNING:root:frame length (1103) is greater than FFT size (512), frame will be truncated. Increase NFFT to avoid.\n",
      "WARNING:root:frame length (1103) is greater than FFT size (512), frame will be truncated. Increase NFFT to avoid.\n"
     ]
    },
    {
     "name": "stdout",
     "output_type": "stream",
     "text": [
      "Similarty with  ID 220535: 63.29197320670121\n",
      "Similarty with  ID 220537: 64.28987195715527\n",
      "Similarty with  ID 220536: 65.54387473190083\n",
      "Similarty with  ID 220551: 62.81067988948838\n",
      "Similarty with  ID 220550: 64.25079864988258\n",
      "Similarty with  ID 220545: 67.02337558794989\n"
     ]
    },
    {
     "name": "stderr",
     "output_type": "stream",
     "text": [
      "WARNING:root:frame length (1103) is greater than FFT size (512), frame will be truncated. Increase NFFT to avoid.\n",
      "WARNING:root:frame length (1103) is greater than FFT size (512), frame will be truncated. Increase NFFT to avoid.\n",
      "WARNING:root:frame length (1103) is greater than FFT size (512), frame will be truncated. Increase NFFT to avoid.\n",
      "WARNING:root:frame length (1103) is greater than FFT size (512), frame will be truncated. Increase NFFT to avoid.\n",
      "WARNING:root:frame length (1103) is greater than FFT size (512), frame will be truncated. Increase NFFT to avoid.\n",
      "WARNING:root:frame length (1103) is greater than FFT size (512), frame will be truncated. Increase NFFT to avoid.\n",
      "WARNING:root:frame length (1103) is greater than FFT size (512), frame will be truncated. Increase NFFT to avoid.\n",
      "WARNING:root:frame length (1103) is greater than FFT size (512), frame will be truncated. Increase NFFT to avoid.\n",
      "WARNING:root:frame length (1103) is greater than FFT size (512), frame will be truncated. Increase NFFT to avoid.\n"
     ]
    },
    {
     "name": "stdout",
     "output_type": "stream",
     "text": [
      "Similarty with  ID 220544: 66.55293616943058\n",
      "Similarty with  ID 220524: 67.18679539524521\n",
      "Similarty with  ID 220525: 62.98584155131392\n",
      "Similarty with  ID 220555: 64.53111766483505\n",
      "Similarty with  ID 220532: 63.92619491483833\n",
      "Similarty with  ID 220531: 70.73967324576287\n",
      "Similarty with  ID 220530: 66.65715142699842\n",
      "Similarty with  ID 220529: 58.17329587894327\n",
      "Similarty with  ID 220556: 63.49918583698673\n"
     ]
    },
    {
     "name": "stderr",
     "output_type": "stream",
     "text": [
      "WARNING:root:frame length (1103) is greater than FFT size (512), frame will be truncated. Increase NFFT to avoid.\n",
      "WARNING:root:frame length (1103) is greater than FFT size (512), frame will be truncated. Increase NFFT to avoid.\n"
     ]
    },
    {
     "name": "stdout",
     "output_type": "stream",
     "text": [
      "Similarty with  ID 220558: 62.2782339624485\n",
      "Similarty with  ID 220557: 63.90218790259401\n"
     ]
    },
    {
     "name": "stderr",
     "output_type": "stream",
     "text": [
      "WARNING:root:frame length (1103) is greater than FFT size (512), frame will be truncated. Increase NFFT to avoid.\n",
      "WARNING:root:frame length (1103) is greater than FFT size (512), frame will be truncated. Increase NFFT to avoid.\n",
      "WARNING:root:frame length (1103) is greater than FFT size (512), frame will be truncated. Increase NFFT to avoid.\n",
      "WARNING:root:frame length (1103) is greater than FFT size (512), frame will be truncated. Increase NFFT to avoid.\n",
      "WARNING:root:frame length (1103) is greater than FFT size (512), frame will be truncated. Increase NFFT to avoid.\n"
     ]
    },
    {
     "name": "stdout",
     "output_type": "stream",
     "text": [
      "Similarty with  ID 219958: 56.980540959096196\n",
      "Similarty with  ID 220578: 61.94953608868477\n",
      "Similarty with  ID 220577: 64.53909463206138\n",
      "Similarty with  ID 220602: 63.668499403402336\n",
      "Similarty with  ID 220601: 63.748529869892586\n"
     ]
    },
    {
     "name": "stderr",
     "output_type": "stream",
     "text": [
      "WARNING:root:frame length (1103) is greater than FFT size (512), frame will be truncated. Increase NFFT to avoid.\n",
      "WARNING:root:frame length (1103) is greater than FFT size (512), frame will be truncated. Increase NFFT to avoid.\n",
      "WARNING:root:frame length (1103) is greater than FFT size (512), frame will be truncated. Increase NFFT to avoid.\n",
      "WARNING:root:frame length (1103) is greater than FFT size (512), frame will be truncated. Increase NFFT to avoid.\n",
      "WARNING:root:frame length (1103) is greater than FFT size (512), frame will be truncated. Increase NFFT to avoid.\n"
     ]
    },
    {
     "name": "stdout",
     "output_type": "stream",
     "text": [
      "Similarty with  ID 220608: 62.35168760239515\n",
      "Similarty with  ID 220607: 60.528222035973144\n",
      "Similarty with  ID 220559: 59.5737219410549\n",
      "Similarty with  ID 220567: 58.37938984899784\n"
     ]
    },
    {
     "name": "stderr",
     "output_type": "stream",
     "text": [
      "WARNING:root:frame length (1103) is greater than FFT size (512), frame will be truncated. Increase NFFT to avoid.\n"
     ]
    },
    {
     "name": "stdout",
     "output_type": "stream",
     "text": [
      "Similarty with  ID 220604: 60.69178154344546\n",
      "Similarty with  ID 220603: 61.162608811384096\n"
     ]
    },
    {
     "name": "stderr",
     "output_type": "stream",
     "text": [
      "WARNING:root:frame length (1103) is greater than FFT size (512), frame will be truncated. Increase NFFT to avoid.\n",
      "WARNING:root:frame length (1103) is greater than FFT size (512), frame will be truncated. Increase NFFT to avoid.\n",
      "WARNING:root:frame length (1103) is greater than FFT size (512), frame will be truncated. Increase NFFT to avoid.\n",
      "WARNING:root:frame length (1103) is greater than FFT size (512), frame will be truncated. Increase NFFT to avoid.\n",
      "WARNING:root:frame length (1103) is greater than FFT size (512), frame will be truncated. Increase NFFT to avoid.\n",
      "WARNING:root:frame length (1103) is greater than FFT size (512), frame will be truncated. Increase NFFT to avoid.\n"
     ]
    },
    {
     "name": "stdout",
     "output_type": "stream",
     "text": [
      "Similarty with  ID 220565: 63.33590287241767\n",
      "Similarty with  ID 220566: 64.43339407100764\n",
      "Similarty with  ID 220572: 65.81112616037157\n",
      "Similarty with  ID 220560: 65.14143841094595\n",
      "Similarty with  ID 220561: 64.6832525662333\n",
      "Similarty with  ID 220562: 63.805605581565636\n"
     ]
    },
    {
     "name": "stderr",
     "output_type": "stream",
     "text": [
      "WARNING:root:frame length (1103) is greater than FFT size (512), frame will be truncated. Increase NFFT to avoid.\n",
      "WARNING:root:frame length (1103) is greater than FFT size (512), frame will be truncated. Increase NFFT to avoid.\n",
      "WARNING:root:frame length (1103) is greater than FFT size (512), frame will be truncated. Increase NFFT to avoid.\n"
     ]
    },
    {
     "name": "stdout",
     "output_type": "stream",
     "text": [
      "Similarty with  ID 220563: 63.56781806341429\n",
      "Similarty with  ID 220579: 60.097254917500024\n",
      "Similarty with  ID 220581: 62.67924870990167\n"
     ]
    },
    {
     "name": "stderr",
     "output_type": "stream",
     "text": [
      "WARNING:root:frame length (1103) is greater than FFT size (512), frame will be truncated. Increase NFFT to avoid.\n",
      "WARNING:root:frame length (1103) is greater than FFT size (512), frame will be truncated. Increase NFFT to avoid.\n",
      "WARNING:root:frame length (1103) is greater than FFT size (512), frame will be truncated. Increase NFFT to avoid.\n",
      "WARNING:root:frame length (1103) is greater than FFT size (512), frame will be truncated. Increase NFFT to avoid.\n"
     ]
    },
    {
     "name": "stdout",
     "output_type": "stream",
     "text": [
      "Similarty with  ID 220580: 62.13813622247367\n",
      "Similarty with  ID 220609: 62.044450580091635\n",
      "Similarty with  ID 220611: 66.57341585592829\n"
     ]
    },
    {
     "name": "stderr",
     "output_type": "stream",
     "text": [
      "WARNING:root:frame length (1103) is greater than FFT size (512), frame will be truncated. Increase NFFT to avoid.\n",
      "WARNING:root:frame length (1103) is greater than FFT size (512), frame will be truncated. Increase NFFT to avoid.\n"
     ]
    },
    {
     "name": "stdout",
     "output_type": "stream",
     "text": [
      "Similarty with  ID 220570: 64.094320234524\n",
      "Similarty with  ID 220571: 68.66851043631146\n"
     ]
    },
    {
     "name": "stderr",
     "output_type": "stream",
     "text": [
      "WARNING:root:frame length (1103) is greater than FFT size (512), frame will be truncated. Increase NFFT to avoid.\n",
      "WARNING:root:frame length (1103) is greater than FFT size (512), frame will be truncated. Increase NFFT to avoid.\n",
      "WARNING:root:frame length (1103) is greater than FFT size (512), frame will be truncated. Increase NFFT to avoid.\n",
      "WARNING:root:frame length (1103) is greater than FFT size (512), frame will be truncated. Increase NFFT to avoid.\n",
      "WARNING:root:frame length (1103) is greater than FFT size (512), frame will be truncated. Increase NFFT to avoid.\n",
      "WARNING:root:frame length (1103) is greater than FFT size (512), frame will be truncated. Increase NFFT to avoid.\n"
     ]
    },
    {
     "name": "stdout",
     "output_type": "stream",
     "text": [
      "Similarty with  ID 220612: 64.53592503323752\n",
      "Similarty with  ID 220594: 61.87992003639823\n",
      "Similarty with  ID 220598: 67.40979274154856\n",
      "Similarty with  ID 220597: 67.06559564557662\n",
      "Similarty with  ID 220595: 54.78628215198059\n",
      "Similarty with  ID 220596: 68.50633797869449\n"
     ]
    },
    {
     "name": "stderr",
     "output_type": "stream",
     "text": [
      "WARNING:root:frame length (1103) is greater than FFT size (512), frame will be truncated. Increase NFFT to avoid.\n",
      "WARNING:root:frame length (1103) is greater than FFT size (512), frame will be truncated. Increase NFFT to avoid.\n",
      "WARNING:root:frame length (1103) is greater than FFT size (512), frame will be truncated. Increase NFFT to avoid.\n"
     ]
    },
    {
     "name": "stdout",
     "output_type": "stream",
     "text": [
      "Similarty with  ID 220605: 60.668293108911186\n",
      "Similarty with  ID 220606: 57.11561373938301\n",
      "Similarty with  ID 220590: 58.168541246492936\n",
      "Similarty with  ID 220599: 63.662899038110496\n"
     ]
    },
    {
     "name": "stderr",
     "output_type": "stream",
     "text": [
      "WARNING:root:frame length (1103) is greater than FFT size (512), frame will be truncated. Increase NFFT to avoid.\n",
      "WARNING:root:frame length (1103) is greater than FFT size (512), frame will be truncated. Increase NFFT to avoid.\n",
      "WARNING:root:frame length (1103) is greater than FFT size (512), frame will be truncated. Increase NFFT to avoid.\n",
      "WARNING:root:frame length (1103) is greater than FFT size (512), frame will be truncated. Increase NFFT to avoid.\n",
      "WARNING:root:frame length (1103) is greater than FFT size (512), frame will be truncated. Increase NFFT to avoid.\n"
     ]
    },
    {
     "name": "stdout",
     "output_type": "stream",
     "text": [
      "Similarty with  ID 220600: 62.91105151380981\n",
      "Similarty with  ID 220573: 60.3650059900735\n",
      "Similarty with  ID 220613: 57.38074003604197\n",
      "Similarty with  ID 220584: 63.87316257676301\n",
      "Similarty with  ID 220583: 61.410186719125704\n"
     ]
    },
    {
     "name": "stderr",
     "output_type": "stream",
     "text": [
      "WARNING:root:frame length (1103) is greater than FFT size (512), frame will be truncated. Increase NFFT to avoid.\n",
      "WARNING:root:frame length (1103) is greater than FFT size (512), frame will be truncated. Increase NFFT to avoid.\n",
      "WARNING:root:frame length (1103) is greater than FFT size (512), frame will be truncated. Increase NFFT to avoid.\n",
      "WARNING:root:frame length (1103) is greater than FFT size (512), frame will be truncated. Increase NFFT to avoid.\n",
      "WARNING:root:frame length (1103) is greater than FFT size (512), frame will be truncated. Increase NFFT to avoid.\n",
      "WARNING:root:frame length (1103) is greater than FFT size (512), frame will be truncated. Increase NFFT to avoid.\n"
     ]
    },
    {
     "name": "stdout",
     "output_type": "stream",
     "text": [
      "Similarty with  ID 220582: 61.01134870897864\n",
      "Similarty with  ID 220586: 66.75836655228662\n",
      "Similarty with  ID 220585: 65.65402168384955\n",
      "Similarty with  ID 220564: 62.14261326687474\n",
      "Similarty with  ID 220575: 64.42862015734444\n",
      "Similarty with  ID 220576: 62.63491678676263\n"
     ]
    },
    {
     "name": "stderr",
     "output_type": "stream",
     "text": [
      "WARNING:root:frame length (1103) is greater than FFT size (512), frame will be truncated. Increase NFFT to avoid.\n",
      "WARNING:root:frame length (1103) is greater than FFT size (512), frame will be truncated. Increase NFFT to avoid.\n",
      "WARNING:root:frame length (1103) is greater than FFT size (512), frame will be truncated. Increase NFFT to avoid.\n",
      "WARNING:root:frame length (1103) is greater than FFT size (512), frame will be truncated. Increase NFFT to avoid.\n",
      "WARNING:root:frame length (1103) is greater than FFT size (512), frame will be truncated. Increase NFFT to avoid.\n"
     ]
    },
    {
     "name": "stdout",
     "output_type": "stream",
     "text": [
      "Similarty with  ID 220574: 62.91739743120441\n",
      "Similarty with  ID 220593: 61.38812171647014\n",
      "Similarty with  ID 220592: 62.26990983380036\n",
      "Similarty with  ID 220591: 60.35316913662835\n"
     ]
    },
    {
     "name": "stderr",
     "output_type": "stream",
     "text": [
      "WARNING:root:frame length (1103) is greater than FFT size (512), frame will be truncated. Increase NFFT to avoid.\n",
      "WARNING:root:frame length (1103) is greater than FFT size (512), frame will be truncated. Increase NFFT to avoid.\n",
      "WARNING:root:frame length (1103) is greater than FFT size (512), frame will be truncated. Increase NFFT to avoid.\n",
      "WARNING:root:frame length (1103) is greater than FFT size (512), frame will be truncated. Increase NFFT to avoid.\n",
      "WARNING:root:frame length (1103) is greater than FFT size (512), frame will be truncated. Increase NFFT to avoid.\n"
     ]
    },
    {
     "name": "stdout",
     "output_type": "stream",
     "text": [
      "Similarty with  ID 220610: 63.54472986794928\n",
      "Similarty with  ID 220587: 65.22902695189462\n",
      "Similarty with  ID 220589: 68.1493445667918\n",
      "Similarty with  ID 220588: 65.76388696071179\n",
      "Similarty with  ID 220569: 67.00815230257862\n",
      "Similarty with  ID 220568: 66.02306804932878\n"
     ]
    },
    {
     "name": "stderr",
     "output_type": "stream",
     "text": [
      "WARNING:root:frame length (1103) is greater than FFT size (512), frame will be truncated. Increase NFFT to avoid.\n",
      "WARNING:root:frame length (1103) is greater than FFT size (512), frame will be truncated. Increase NFFT to avoid.\n",
      "WARNING:root:frame length (1103) is greater than FFT size (512), frame will be truncated. Increase NFFT to avoid.\n"
     ]
    },
    {
     "name": "stdout",
     "output_type": "stream",
     "text": [
      "Similarty with  ID 220615: 69.17626484894934\n",
      "Similarty with  ID 220614: 62.754910722679305\n",
      "Similarty with  ID 220619: 71.89989807150863\n"
     ]
    },
    {
     "name": "stderr",
     "output_type": "stream",
     "text": [
      "WARNING:root:frame length (1103) is greater than FFT size (512), frame will be truncated. Increase NFFT to avoid.\n"
     ]
    },
    {
     "name": "stdout",
     "output_type": "stream",
     "text": [
      "Similarty with  ID 220620: 69.59109696470311\n"
     ]
    },
    {
     "name": "stderr",
     "output_type": "stream",
     "text": [
      "WARNING:root:frame length (1103) is greater than FFT size (512), frame will be truncated. Increase NFFT to avoid.\n",
      "WARNING:root:frame length (1103) is greater than FFT size (512), frame will be truncated. Increase NFFT to avoid.\n"
     ]
    },
    {
     "name": "stdout",
     "output_type": "stream",
     "text": [
      "Similarty with  ID 219959: 57.99636771410377\n",
      "Similarty with  ID 220641: 60.736871829426214\n"
     ]
    },
    {
     "name": "stderr",
     "output_type": "stream",
     "text": [
      "WARNING:root:frame length (1103) is greater than FFT size (512), frame will be truncated. Increase NFFT to avoid.\n",
      "WARNING:root:frame length (1103) is greater than FFT size (512), frame will be truncated. Increase NFFT to avoid.\n",
      "WARNING:root:frame length (1103) is greater than FFT size (512), frame will be truncated. Increase NFFT to avoid.\n"
     ]
    },
    {
     "name": "stdout",
     "output_type": "stream",
     "text": [
      "Similarty with  ID 220633: 61.92821468800451\n",
      "Similarty with  ID 220643: 61.61004351099769\n",
      "Similarty with  ID 220642: 63.0660785142768\n"
     ]
    },
    {
     "name": "stderr",
     "output_type": "stream",
     "text": [
      "WARNING:root:frame length (1103) is greater than FFT size (512), frame will be truncated. Increase NFFT to avoid.\n",
      "WARNING:root:frame length (1103) is greater than FFT size (512), frame will be truncated. Increase NFFT to avoid.\n"
     ]
    },
    {
     "name": "stdout",
     "output_type": "stream",
     "text": [
      "Similarty with  ID 220657: 60.472363330816165\n",
      "Similarty with  ID 220631: 58.743817022116616\n"
     ]
    },
    {
     "name": "stderr",
     "output_type": "stream",
     "text": [
      "WARNING:root:frame length (1103) is greater than FFT size (512), frame will be truncated. Increase NFFT to avoid.\n",
      "WARNING:root:frame length (1103) is greater than FFT size (512), frame will be truncated. Increase NFFT to avoid.\n",
      "WARNING:root:frame length (1103) is greater than FFT size (512), frame will be truncated. Increase NFFT to avoid.\n"
     ]
    },
    {
     "name": "stdout",
     "output_type": "stream",
     "text": [
      "Similarty with  ID 220637: 63.485725323943896\n",
      "Similarty with  ID 220687: 63.176485793309745\n",
      "Similarty with  ID 220654: 61.32961313569025\n"
     ]
    },
    {
     "name": "stderr",
     "output_type": "stream",
     "text": [
      "WARNING:root:frame length (1103) is greater than FFT size (512), frame will be truncated. Increase NFFT to avoid.\n",
      "WARNING:root:frame length (1103) is greater than FFT size (512), frame will be truncated. Increase NFFT to avoid.\n",
      "WARNING:root:frame length (1103) is greater than FFT size (512), frame will be truncated. Increase NFFT to avoid.\n"
     ]
    },
    {
     "name": "stdout",
     "output_type": "stream",
     "text": [
      "Similarty with  ID 220655: 64.14530085425079\n",
      "Similarty with  ID 220656: 64.16858455289247\n"
     ]
    },
    {
     "name": "stderr",
     "output_type": "stream",
     "text": [
      "WARNING:root:frame length (1103) is greater than FFT size (512), frame will be truncated. Increase NFFT to avoid.\n",
      "WARNING:root:frame length (1103) is greater than FFT size (512), frame will be truncated. Increase NFFT to avoid.\n",
      "WARNING:root:frame length (1103) is greater than FFT size (512), frame will be truncated. Increase NFFT to avoid.\n"
     ]
    },
    {
     "name": "stdout",
     "output_type": "stream",
     "text": [
      "Similarty with  ID 220634: 61.1883425842781\n",
      "Similarty with  ID 220636: 62.224743588917356\n",
      "Similarty with  ID 220635: 62.13788046120524\n",
      "Similarty with  ID 220647: 62.52563998140431\n"
     ]
    },
    {
     "name": "stderr",
     "output_type": "stream",
     "text": [
      "WARNING:root:frame length (1103) is greater than FFT size (512), frame will be truncated. Increase NFFT to avoid.\n",
      "WARNING:root:frame length (1103) is greater than FFT size (512), frame will be truncated. Increase NFFT to avoid.\n",
      "WARNING:root:frame length (1103) is greater than FFT size (512), frame will be truncated. Increase NFFT to avoid.\n",
      "WARNING:root:frame length (1103) is greater than FFT size (512), frame will be truncated. Increase NFFT to avoid.\n",
      "WARNING:root:frame length (1103) is greater than FFT size (512), frame will be truncated. Increase NFFT to avoid.\n"
     ]
    },
    {
     "name": "stdout",
     "output_type": "stream",
     "text": [
      "Similarty with  ID 220624: 60.95925321773793\n",
      "Similarty with  ID 220623: 61.086230118666094\n",
      "Similarty with  ID 220625: 62.8701796524337\n",
      "Similarty with  ID 220663: 64.06339558839437\n"
     ]
    },
    {
     "name": "stderr",
     "output_type": "stream",
     "text": [
      "WARNING:root:frame length (1103) is greater than FFT size (512), frame will be truncated. Increase NFFT to avoid.\n",
      "WARNING:root:frame length (1103) is greater than FFT size (512), frame will be truncated. Increase NFFT to avoid.\n",
      "WARNING:root:frame length (1103) is greater than FFT size (512), frame will be truncated. Increase NFFT to avoid.\n",
      "WARNING:root:frame length (1103) is greater than FFT size (512), frame will be truncated. Increase NFFT to avoid.\n"
     ]
    },
    {
     "name": "stdout",
     "output_type": "stream",
     "text": [
      "Similarty with  ID 220662: 64.8660110715829\n",
      "Similarty with  ID 220617: 68.21684187560022\n",
      "Similarty with  ID 220618: 67.66212936391534\n",
      "Similarty with  ID 220616: 64.87167132048113\n"
     ]
    },
    {
     "name": "stderr",
     "output_type": "stream",
     "text": [
      "WARNING:root:frame length (1103) is greater than FFT size (512), frame will be truncated. Increase NFFT to avoid.\n",
      "WARNING:root:frame length (1103) is greater than FFT size (512), frame will be truncated. Increase NFFT to avoid.\n",
      "WARNING:root:frame length (1103) is greater than FFT size (512), frame will be truncated. Increase NFFT to avoid.\n",
      "WARNING:root:frame length (1103) is greater than FFT size (512), frame will be truncated. Increase NFFT to avoid.\n",
      "WARNING:root:frame length (1103) is greater than FFT size (512), frame will be truncated. Increase NFFT to avoid.\n"
     ]
    },
    {
     "name": "stdout",
     "output_type": "stream",
     "text": [
      "Similarty with  ID 220694: 62.82845704554688\n",
      "Similarty with  ID 220695: 66.59749134724761\n",
      "Similarty with  ID 220682: 64.87405582940238\n",
      "Similarty with  ID 220683: 64.17277124418617\n",
      "Similarty with  ID 220680: 60.13687056429926\n"
     ]
    },
    {
     "name": "stderr",
     "output_type": "stream",
     "text": [
      "WARNING:root:frame length (1103) is greater than FFT size (512), frame will be truncated. Increase NFFT to avoid.\n",
      "WARNING:root:frame length (1103) is greater than FFT size (512), frame will be truncated. Increase NFFT to avoid.\n",
      "WARNING:root:frame length (1103) is greater than FFT size (512), frame will be truncated. Increase NFFT to avoid.\n",
      "WARNING:root:frame length (1103) is greater than FFT size (512), frame will be truncated. Increase NFFT to avoid.\n"
     ]
    },
    {
     "name": "stdout",
     "output_type": "stream",
     "text": [
      "Similarty with  ID 220681: 60.133431206800125\n",
      "Similarty with  ID 220685: 61.9148459924072\n",
      "Similarty with  ID 220684: 60.542009179299974\n",
      "Similarty with  ID 220688: 61.93319664649258\n",
      "Similarty with  ID 220689: 67.3040989328369\n"
     ]
    },
    {
     "name": "stderr",
     "output_type": "stream",
     "text": [
      "WARNING:root:frame length (1103) is greater than FFT size (512), frame will be truncated. Increase NFFT to avoid.\n",
      "WARNING:root:frame length (1103) is greater than FFT size (512), frame will be truncated. Increase NFFT to avoid.\n",
      "WARNING:root:frame length (1103) is greater than FFT size (512), frame will be truncated. Increase NFFT to avoid.\n",
      "WARNING:root:frame length (1103) is greater than FFT size (512), frame will be truncated. Increase NFFT to avoid.\n",
      "WARNING:root:frame length (1103) is greater than FFT size (512), frame will be truncated. Increase NFFT to avoid.\n",
      "WARNING:root:frame length (1103) is greater than FFT size (512), frame will be truncated. Increase NFFT to avoid.\n",
      "WARNING:root:frame length (1103) is greater than FFT size (512), frame will be truncated. Increase NFFT to avoid.\n"
     ]
    },
    {
     "name": "stdout",
     "output_type": "stream",
     "text": [
      "Similarty with  ID 220690: 65.01844242317311\n",
      "Similarty with  ID 220691: 62.62612001645631\n",
      "Similarty with  ID 220639: 62.935279145495336\n",
      "Similarty with  ID 220640: 65.31570315587247\n",
      "Similarty with  ID 220638: 62.42005197131334\n",
      "Similarty with  ID 220668: 61.172788096634775\n",
      "Similarty with  ID 220667: 61.83083338295359\n"
     ]
    },
    {
     "ename": "KeyboardInterrupt",
     "evalue": "",
     "output_type": "error",
     "traceback": [
      "\u001b[1;31m---------------------------------------------------------------------------\u001b[0m",
      "\u001b[1;31mKeyboardInterrupt\u001b[0m                         Traceback (most recent call last)",
      "Cell \u001b[1;32mIn[30], line 2\u001b[0m\n\u001b[0;32m      1\u001b[0m \u001b[38;5;28;01mif\u001b[39;00m \u001b[38;5;18m__name__\u001b[39m \u001b[38;5;241m==\u001b[39m \u001b[38;5;124m\"\u001b[39m\u001b[38;5;124m__main__\u001b[39m\u001b[38;5;124m\"\u001b[39m:\n\u001b[1;32m----> 2\u001b[0m     \u001b[43mprocessDetect\u001b[49m\u001b[43m(\u001b[49m\u001b[38;5;124;43m\"\u001b[39;49m\u001b[38;5;124;43mnyamuk.wav\u001b[39;49m\u001b[38;5;124;43m\"\u001b[39;49m\u001b[43m)\u001b[49m\n",
      "Cell \u001b[1;32mIn[29], line 26\u001b[0m, in \u001b[0;36mprocessDetect\u001b[1;34m(unique_filename)\u001b[0m\n\u001b[0;32m     23\u001b[0m new_audio_path \u001b[38;5;241m=\u001b[39m os\u001b[38;5;241m.\u001b[39mpath\u001b[38;5;241m.\u001b[39mjoin(\u001b[38;5;124mr\u001b[39m\u001b[38;5;124m\"\u001b[39m\u001b[38;5;124mE:\u001b[39m\u001b[38;5;124m\\\u001b[39m\u001b[38;5;124mKERJA\u001b[39m\u001b[38;5;124m\\\u001b[39m\u001b[38;5;124mspudniklab\u001b[39m\u001b[38;5;124m\\\u001b[39m\u001b[38;5;124mInsecstopProjeck\u001b[39m\u001b[38;5;124m\\\u001b[39m\u001b[38;5;124mupload\u001b[39m\u001b[38;5;124m\"\u001b[39m, unique_filename) \n\u001b[0;32m     25\u001b[0m \u001b[38;5;66;03m# Compare new audio with existing audio\u001b[39;00m\n\u001b[1;32m---> 26\u001b[0m closest_match_id,similarity,new_audio, new_sr \u001b[38;5;241m=\u001b[39m \u001b[43mcompare_audio\u001b[49m\u001b[43m(\u001b[49m\u001b[43mnew_audio_path\u001b[49m\u001b[43m,\u001b[49m\u001b[43m \u001b[49m\u001b[43maudio_data\u001b[49m\u001b[43m)\u001b[49m\n\u001b[0;32m     29\u001b[0m \u001b[38;5;28;01mif\u001b[39;00m closest_match_id \u001b[38;5;129;01mis\u001b[39;00m \u001b[38;5;28;01mFalse\u001b[39;00m:\n\u001b[0;32m     30\u001b[0m     \u001b[38;5;28;01mreturn\u001b[39;00m json\u001b[38;5;241m.\u001b[39mdumps({\u001b[38;5;124m\"\u001b[39m\u001b[38;5;124mspeciesName\u001b[39m\u001b[38;5;124m\"\u001b[39m: \u001b[38;5;124m\"\u001b[39m\u001b[38;5;124m\"\u001b[39m, \u001b[38;5;124m\"\u001b[39m\u001b[38;5;124msimilarityValue\u001b[39m\u001b[38;5;124m\"\u001b[39m: \u001b[38;5;241m0\u001b[39m, \u001b[38;5;124m\"\u001b[39m\u001b[38;5;124mcheck_dangerous\u001b[39m\u001b[38;5;124m\"\u001b[39m: \u001b[38;5;124m\"\u001b[39m\u001b[38;5;124m\"\u001b[39m, \u001b[38;5;124m\"\u001b[39m\u001b[38;5;124mstatus\u001b[39m\u001b[38;5;124m\"\u001b[39m: \u001b[38;5;124m\"\u001b[39m\u001b[38;5;124mfile not found\u001b[39m\u001b[38;5;124m\"\u001b[39m})\n",
      "Cell \u001b[1;32mIn[25], line 19\u001b[0m, in \u001b[0;36mcompare_audio\u001b[1;34m(new_audio_path, existing_audios, method)\u001b[0m\n\u001b[0;32m     13\u001b[0m \u001b[38;5;66;03m# Iterate over existing audios\u001b[39;00m\n\u001b[0;32m     14\u001b[0m \u001b[38;5;28;01mfor\u001b[39;00m id_, (existing_sr, existing_audio) \u001b[38;5;129;01min\u001b[39;00m existing_audios\u001b[38;5;241m.\u001b[39mitems():\n\u001b[0;32m     15\u001b[0m     \u001b[38;5;66;03m# Check if sample rates are compatible\u001b[39;00m\n\u001b[0;32m     16\u001b[0m     \n\u001b[0;32m     17\u001b[0m     \u001b[38;5;66;03m# if new_sr == existing_sr:\u001b[39;00m\n\u001b[0;32m     18\u001b[0m         \u001b[38;5;66;03m# Calculate MFCC for the existing audio\u001b[39;00m\n\u001b[1;32m---> 19\u001b[0m         existing_mfcc \u001b[38;5;241m=\u001b[39m \u001b[43mmfcc\u001b[49m\u001b[43m(\u001b[49m\u001b[43mexisting_audio\u001b[49m\u001b[43m,\u001b[49m\u001b[43m \u001b[49m\u001b[43msamplerate\u001b[49m\u001b[38;5;241;43m=\u001b[39;49m\u001b[43mexisting_sr\u001b[49m\u001b[43m)\u001b[49m\n\u001b[0;32m     21\u001b[0m         \u001b[38;5;66;03m# Calculate similarity between the new audio and existing audio\u001b[39;00m\n\u001b[0;32m     22\u001b[0m         \u001b[38;5;28;01mif\u001b[39;00m method \u001b[38;5;241m==\u001b[39m \u001b[38;5;124m'\u001b[39m\u001b[38;5;124mmfcc\u001b[39m\u001b[38;5;124m'\u001b[39m:\n\u001b[0;32m     23\u001b[0m             \u001b[38;5;66;03m# Euclidean distance between MFCC vectors\u001b[39;00m\n",
      "File \u001b[1;32mc:\\Users\\H P\\AppData\\Local\\Programs\\Python\\Python38\\lib\\site-packages\\python_speech_features\\base.py:28\u001b[0m, in \u001b[0;36mmfcc\u001b[1;34m(signal, samplerate, winlen, winstep, numcep, nfilt, nfft, lowfreq, highfreq, preemph, ceplifter, appendEnergy, winfunc)\u001b[0m\n\u001b[0;32m      8\u001b[0m \u001b[38;5;28;01mdef\u001b[39;00m \u001b[38;5;21mmfcc\u001b[39m(signal,samplerate\u001b[38;5;241m=\u001b[39m\u001b[38;5;241m16000\u001b[39m,winlen\u001b[38;5;241m=\u001b[39m\u001b[38;5;241m0.025\u001b[39m,winstep\u001b[38;5;241m=\u001b[39m\u001b[38;5;241m0.01\u001b[39m,numcep\u001b[38;5;241m=\u001b[39m\u001b[38;5;241m13\u001b[39m,\n\u001b[0;32m      9\u001b[0m          nfilt\u001b[38;5;241m=\u001b[39m\u001b[38;5;241m26\u001b[39m,nfft\u001b[38;5;241m=\u001b[39m\u001b[38;5;241m512\u001b[39m,lowfreq\u001b[38;5;241m=\u001b[39m\u001b[38;5;241m0\u001b[39m,highfreq\u001b[38;5;241m=\u001b[39m\u001b[38;5;28;01mNone\u001b[39;00m,preemph\u001b[38;5;241m=\u001b[39m\u001b[38;5;241m0.97\u001b[39m,ceplifter\u001b[38;5;241m=\u001b[39m\u001b[38;5;241m22\u001b[39m,appendEnergy\u001b[38;5;241m=\u001b[39m\u001b[38;5;28;01mTrue\u001b[39;00m,\n\u001b[0;32m     10\u001b[0m          winfunc\u001b[38;5;241m=\u001b[39m\u001b[38;5;28;01mlambda\u001b[39;00m x:numpy\u001b[38;5;241m.\u001b[39mones((x,))):\n\u001b[0;32m     11\u001b[0m \u001b[38;5;250m    \u001b[39m\u001b[38;5;124;03m\"\"\"Compute MFCC features from an audio signal.\u001b[39;00m\n\u001b[0;32m     12\u001b[0m \n\u001b[0;32m     13\u001b[0m \u001b[38;5;124;03m    :param signal: the audio signal from which to compute features. Should be an N*1 array\u001b[39;00m\n\u001b[1;32m   (...)\u001b[0m\n\u001b[0;32m     26\u001b[0m \u001b[38;5;124;03m    :returns: A numpy array of size (NUMFRAMES by numcep) containing features. Each row holds 1 feature vector.\u001b[39;00m\n\u001b[0;32m     27\u001b[0m \u001b[38;5;124;03m    \"\"\"\u001b[39;00m\n\u001b[1;32m---> 28\u001b[0m     feat,energy \u001b[38;5;241m=\u001b[39m \u001b[43mfbank\u001b[49m\u001b[43m(\u001b[49m\u001b[43msignal\u001b[49m\u001b[43m,\u001b[49m\u001b[43msamplerate\u001b[49m\u001b[43m,\u001b[49m\u001b[43mwinlen\u001b[49m\u001b[43m,\u001b[49m\u001b[43mwinstep\u001b[49m\u001b[43m,\u001b[49m\u001b[43mnfilt\u001b[49m\u001b[43m,\u001b[49m\u001b[43mnfft\u001b[49m\u001b[43m,\u001b[49m\u001b[43mlowfreq\u001b[49m\u001b[43m,\u001b[49m\u001b[43mhighfreq\u001b[49m\u001b[43m,\u001b[49m\u001b[43mpreemph\u001b[49m\u001b[43m,\u001b[49m\u001b[43mwinfunc\u001b[49m\u001b[43m)\u001b[49m\n\u001b[0;32m     29\u001b[0m     feat \u001b[38;5;241m=\u001b[39m numpy\u001b[38;5;241m.\u001b[39mlog(feat)\n\u001b[0;32m     30\u001b[0m     feat \u001b[38;5;241m=\u001b[39m dct(feat, \u001b[38;5;28mtype\u001b[39m\u001b[38;5;241m=\u001b[39m\u001b[38;5;241m2\u001b[39m, axis\u001b[38;5;241m=\u001b[39m\u001b[38;5;241m1\u001b[39m, norm\u001b[38;5;241m=\u001b[39m\u001b[38;5;124m'\u001b[39m\u001b[38;5;124mortho\u001b[39m\u001b[38;5;124m'\u001b[39m)[:,:numcep]\n",
      "File \u001b[1;32mc:\\Users\\H P\\AppData\\Local\\Programs\\Python\\Python38\\lib\\site-packages\\python_speech_features\\base.py:54\u001b[0m, in \u001b[0;36mfbank\u001b[1;34m(signal, samplerate, winlen, winstep, nfilt, nfft, lowfreq, highfreq, preemph, winfunc)\u001b[0m\n\u001b[0;32m     38\u001b[0m \u001b[38;5;250m\u001b[39m\u001b[38;5;124;03m\"\"\"Compute Mel-filterbank energy features from an audio signal.\u001b[39;00m\n\u001b[0;32m     39\u001b[0m \n\u001b[0;32m     40\u001b[0m \u001b[38;5;124;03m:param signal: the audio signal from which to compute features. Should be an N*1 array\u001b[39;00m\n\u001b[1;32m   (...)\u001b[0m\n\u001b[0;32m     51\u001b[0m \u001b[38;5;124;03m    second return value is the energy in each frame (total energy, unwindowed)\u001b[39;00m\n\u001b[0;32m     52\u001b[0m \u001b[38;5;124;03m\"\"\"\u001b[39;00m\n\u001b[0;32m     53\u001b[0m highfreq\u001b[38;5;241m=\u001b[39m highfreq \u001b[38;5;129;01mor\u001b[39;00m samplerate\u001b[38;5;241m/\u001b[39m\u001b[38;5;241m2\u001b[39m\n\u001b[1;32m---> 54\u001b[0m signal \u001b[38;5;241m=\u001b[39m \u001b[43msigproc\u001b[49m\u001b[38;5;241;43m.\u001b[39;49m\u001b[43mpreemphasis\u001b[49m\u001b[43m(\u001b[49m\u001b[43msignal\u001b[49m\u001b[43m,\u001b[49m\u001b[43mpreemph\u001b[49m\u001b[43m)\u001b[49m\n\u001b[0;32m     55\u001b[0m frames \u001b[38;5;241m=\u001b[39m sigproc\u001b[38;5;241m.\u001b[39mframesig(signal, winlen\u001b[38;5;241m*\u001b[39msamplerate, winstep\u001b[38;5;241m*\u001b[39msamplerate, winfunc)\n\u001b[0;32m     56\u001b[0m pspec \u001b[38;5;241m=\u001b[39m sigproc\u001b[38;5;241m.\u001b[39mpowspec(frames,nfft)\n",
      "File \u001b[1;32mc:\\Users\\H P\\AppData\\Local\\Programs\\Python\\Python38\\lib\\site-packages\\python_speech_features\\sigproc.py:118\u001b[0m, in \u001b[0;36mpreemphasis\u001b[1;34m(signal, coeff)\u001b[0m\n\u001b[0;32m    111\u001b[0m \u001b[38;5;28;01mdef\u001b[39;00m \u001b[38;5;21mpreemphasis\u001b[39m(signal,coeff\u001b[38;5;241m=\u001b[39m\u001b[38;5;241m0.95\u001b[39m):\n\u001b[0;32m    112\u001b[0m \u001b[38;5;250m    \u001b[39m\u001b[38;5;124;03m\"\"\"perform preemphasis on the input signal.\u001b[39;00m\n\u001b[0;32m    113\u001b[0m \n\u001b[0;32m    114\u001b[0m \u001b[38;5;124;03m    :param signal: The signal to filter.\u001b[39;00m\n\u001b[0;32m    115\u001b[0m \u001b[38;5;124;03m    :param coeff: The preemphasis coefficient. 0 is no filter, default is 0.95.\u001b[39;00m\n\u001b[0;32m    116\u001b[0m \u001b[38;5;124;03m    :returns: the filtered signal.\u001b[39;00m\n\u001b[0;32m    117\u001b[0m \u001b[38;5;124;03m    \"\"\"\u001b[39;00m\n\u001b[1;32m--> 118\u001b[0m     \u001b[38;5;28;01mreturn\u001b[39;00m numpy\u001b[38;5;241m.\u001b[39mappend(signal[\u001b[38;5;241m0\u001b[39m],signal[\u001b[38;5;241m1\u001b[39m:]\u001b[38;5;241m-\u001b[39m\u001b[43mcoeff\u001b[49m\u001b[38;5;241;43m*\u001b[39;49m\u001b[43msignal\u001b[49m\u001b[43m[\u001b[49m\u001b[43m:\u001b[49m\u001b[38;5;241;43m-\u001b[39;49m\u001b[38;5;241;43m1\u001b[39;49m\u001b[43m]\u001b[49m)\n",
      "\u001b[1;31mKeyboardInterrupt\u001b[0m: "
     ]
    }
   ],
   "source": [
    "if __name__ == \"__main__\":\n",
    "    processDetect(\"nyamuk.wav\")"
   ]
  }
 ],
 "metadata": {
  "kernelspec": {
   "display_name": "Python 3 (ipykernel)",
   "language": "python",
   "name": "python3"
  },
  "language_info": {
   "codemirror_mode": {
    "name": "ipython",
    "version": 3
   },
   "file_extension": ".py",
   "mimetype": "text/x-python",
   "name": "python",
   "nbconvert_exporter": "python",
   "pygments_lexer": "ipython3",
   "version": "3.8.0"
  }
 },
 "nbformat": 4,
 "nbformat_minor": 4
}
