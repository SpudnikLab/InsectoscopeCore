{
 "cells": [
  {
   "cell_type": "code",
   "execution_count": 118,
   "metadata": {},
   "outputs": [],
   "source": [
    "import concurrent.futures\n",
    "import numpy as np\n",
    "from python_speech_features import mfcc\n",
    "from scipy.spatial.distance import euclidean\n",
    "import os\n",
    "import pandas as pd\n",
    "import concurrent.futures\n",
    "from scipy.io import wavfile\n",
    "import time\n",
    "import json\n",
    "import librosa"
   ]
  },
  {
   "cell_type": "code",
   "execution_count": 119,
   "metadata": {},
   "outputs": [],
   "source": [
    "# Function to read CSV data\n",
    "def read_csv(file_path):\n",
    "    return pd.read_csv(file_path)"
   ]
  },
  {
   "cell_type": "code",
   "execution_count": 120,
   "metadata": {},
   "outputs": [],
   "source": [
    "# Function to load audio from file\n",
    "def load_audio(audio_file):\n",
    "    return wavfile.read(audio_file)"
   ]
  },
  {
   "cell_type": "code",
   "execution_count": 121,
   "metadata": {},
   "outputs": [],
   "source": [
    "# Function to match IDs with audio file names\n",
    "def match_audio_files(csv_data, audio_dir):\n",
    "    id_to_audio = {}\n",
    "    for index, row in csv_data.iterrows():\n",
    "        audio_file = os.path.join(audio_dir, f\"{row['id']}.wav\")\n",
    "        if os.path.exists(audio_file):\n",
    "            id_to_audio[row['id']] = audio_file\n",
    "    return id_to_audio"
   ]
  },
  {
   "cell_type": "code",
   "execution_count": 122,
   "metadata": {},
   "outputs": [],
   "source": [
    "def compare_audio(new_audio_path, existing_audios, method='mfcc'):\n",
    "    if not os.path.exists(new_audio_path):\n",
    "        return False, False, False\n",
    "    \n",
    "    new_sr, new_audio = wavfile.read(new_audio_path)\n",
    "    min_distance = float('inf')\n",
    "    closest_match_id = None\n",
    "\n",
    "    # Calculate MFCC for the new audio\n",
    "    new_mfcc = mfcc(new_audio, samplerate=new_sr)\n",
    "\n",
    "    # Define a helper function for calculating similarity\n",
    "    def calculate_similarity(existing_id, existing_audio_data):\n",
    "        existing_sr, existing_audio = existing_audio_data\n",
    "        existing_mfcc = mfcc(existing_audio, samplerate=existing_sr)\n",
    "        similarity = euclidean(new_mfcc.mean(axis=0), existing_mfcc.mean(axis=0))\n",
    "        return existing_id, similarity\n",
    "\n",
    "    # Iterate over existing audios\n",
    "    with concurrent.futures.ThreadPoolExecutor() as executor:\n",
    "        similarity_results = list(executor.map(lambda x: calculate_similarity(*x), existing_audios.items()))\n",
    "\n",
    "    for id_, similarity in similarity_results:\n",
    "        print(\"ID: {id_}.similarity:\",similarity)\n",
    "        if similarity == 0.0:\n",
    "            closest_match_id = id_\n",
    "            break\n",
    "        elif similarity < min_distance:\n",
    "            min_distance = similarity\n",
    "            closest_match_id = id_\n",
    "    \n",
    "    return closest_match_id, min_distance, new_audio, new_sr"
   ]
  },
  {
   "cell_type": "code",
   "execution_count": 123,
   "metadata": {},
   "outputs": [],
   "source": [
    "\n",
    "\n",
    "def extract_features(audio_path):\n",
    "    # Load audio file\n",
    "    y, sr = librosa.load(audio_path)\n",
    "\n",
    "    # Extract features (Mel-frequency cepstral coefficients (MFCC))\n",
    "    mfccs = librosa.feature.mfcc(y=y, sr=sr, n_mfcc=40)  # Using 40 MFCCs\n",
    "\n",
    "    # Compute statistical features from MFCCs\n",
    "    mfccs_mean = np.mean(mfccs, axis=1)\n",
    "    mfccs_std = np.std(mfccs, axis=1)\n",
    "\n",
    "    # Concatenate mean and standard deviation to form feature vector\n",
    "    features = np.concatenate((mfccs_mean, mfccs_std))\n",
    "\n",
    "    return features\n",
    "\n",
    "def classify_sound(audio_path):\n",
    "    # Extract features from the audio\n",
    "    features = extract_features(audio_path)\n",
    "\n",
    "    # Define thresholds for distinguishing between human and mosquito sounds\n",
    "    # Example thresholds, adjust as needed based on your data\n",
    "    threshold = 0\n",
    "\n",
    "    # Apply simple rules to classify the sound\n",
    "    resultAverage = np.mean(features)\n",
    "    print(resultAverage)\n",
    "    if resultAverage > threshold:\n",
    "        return \"Audio\"\n",
    "    elif resultAverage < threshold:\n",
    "        return \"Mosquito\""
   ]
  },
  {
   "cell_type": "code",
   "execution_count": 124,
   "metadata": {},
   "outputs": [],
   "source": [
    "# 1. Membaca data1.csv dan mencari nilai species untuk id 57\n",
    "def find_species_for_id(file_path, id_value):\n",
    "    df = pd.read_csv(file_path)\n",
    "    species_value = df.loc[df['id'] == id_value, 'species'].iloc[0]\n",
    "    return species_value"
   ]
  },
  {
   "cell_type": "code",
   "execution_count": 125,
   "metadata": {},
   "outputs": [],
   "source": [
    "def find_data_for_species(file_path, species_name):\n",
    "    df = pd.read_csv(file_path)\n",
    "    result = df.loc[df['Species Name'] == species_name, ['Species Name', 'Disease', 'Danger Level']]\n",
    "    return result.values.tolist()[0] if not result.empty else None"
   ]
  },
  {
   "cell_type": "code",
   "execution_count": 126,
   "metadata": {},
   "outputs": [],
   "source": [
    "\n",
    "def processDetect(unique_filename):\n",
    "    start_time = time.time()\n",
    "    \n",
    "    # CSV file location and audio directory\n",
    "    csv_file = r\"E:\\KERJA\\spudniklab\\InsecstopProjeck\\data\\metadata\\data.csv\"\n",
    "    csv_dangerous_species = r\"E:\\KERJA\\spudniklab\\InsecstopProjeck\\data\\metadata\\dangerous_species.csv\"\n",
    "    audio_dir = r\"E:\\KERJA\\spudniklab\\InsecstopProjeck\\data\\audio\"\n",
    "\n",
    "    # Read data from CSV\n",
    "    csv_data = read_csv(csv_file)\n",
    "\n",
    "    # Match IDs with audio file names\n",
    "    id_to_audio = match_audio_files(csv_data, audio_dir)\n",
    "\n",
    "    # Process audio in parallel\n",
    "    with concurrent.futures.ProcessPoolExecutor() as executor:\n",
    "        audio_data = {id_: load_audio(audio_file) for id_, audio_file in id_to_audio.items()}\n",
    "\n",
    "    # Example of new audio\n",
    "    new_audio_path = os.path.join(r\"E:\\KERJA\\spudniklab\\InsecstopProjeck\\upload\", unique_filename) \n",
    "    \n",
    "    #check sound tyep\n",
    "    checkSoundtype = classify_sound(new_audio_path)\n",
    "    \n",
    "    print(\"Sound Type :\",checkSoundtype)\n",
    "    if checkSoundtype == \"Audio\":\n",
    "        return json.dumps({\"speciesName\": \"\", \"similarityValue\": 0, \"check_dangerous\": \"\", \"status\": \"Sound Type:Audio\"})\n",
    "\n",
    "    # Compare new audio with existing audio\n",
    "    closest_match_id,similarity,new_audio, new_sr = compare_audio(new_audio_path, audio_data)\n",
    "    \n",
    "    \n",
    "    if closest_match_id is False:\n",
    "        return json.dumps({\"speciesName\": \"\", \"similarityValue\": 0, \"check_dangerous\": \"\", \"status\": \"file not found\"})\n",
    "    \n",
    "\n",
    "    print(\"Similarity value:\",similarity)\n",
    "    if closest_match_id:\n",
    "        print(f\"New audio is similar to the species with ID: {closest_match_id}.\")\n",
    "        # Check dangerous or not\n",
    "        get_speciesname = find_species_for_id(csv_file, closest_match_id)\n",
    "        print(f\"Species untuk ID {closest_match_id}:\", get_speciesname)\n",
    "        \n",
    "        check_dangerous = find_data_for_species(csv_dangerous_species, get_speciesname)\n",
    "        \n",
    "        if similarity == 0.0:\n",
    "            precentageSimilarity = 100\n",
    "        else:\n",
    "            precentageSimilarity = round(similarity)+30\n",
    "\n",
    "        if precentageSimilarity > 100:\n",
    "            precentageSimilarity = 100\n",
    "        elif precentageSimilarity < 40:\n",
    "            return json.dumps({\"speciesName\": \"\", \"similarityValue\": 0, \"check_dangerous\": \"\", \"status\": \"Species not found\"})\n",
    "        \n",
    "        print(\"Percentage Similarity value:\",precentageSimilarity)\n",
    "        \n",
    "        if check_dangerous:\n",
    "            print(\"Species DANGEROUS\", get_speciesname, \":\", check_dangerous)\n",
    "            return json.dumps({\"speciesName\": get_speciesname, \"similarityValue\": precentageSimilarity, \"check_dangerous\": check_dangerous, \"status\": \"Species found\"})\n",
    "        else:\n",
    "            print(\"Species NOT DANGEROUS \")\n",
    "            return json.dumps({\"speciesName\": get_speciesname, \"similarityValue\": precentageSimilarity, \"check_dangerous\": \"Low\", \"status\": \"Species found\"})\n",
    "\n",
    "    else:\n",
    "        print(\"No matching species found.\")\n",
    "\n",
    "        return json.dumps({\"speciesName\": \"\", \"similarityValue\": 0, \"check_dangerous\": \"\", \"status\": \"Species not found\"})\n",
    "    \n",
    "    print(\"Total time:\", time.time() - start_time)"
   ]
  },
  {
   "cell_type": "code",
   "execution_count": 127,
   "metadata": {},
   "outputs": [
    {
     "name": "stderr",
     "output_type": "stream",
     "text": [
      "C:\\Users\\H P\\AppData\\Local\\Temp\\ipykernel_16348\\526435801.py:3: WavFileWarning: Reached EOF prematurely; finished at 1507328 bytes, expected 6088490 bytes from header.\n",
      "  return wavfile.read(audio_file)\n"
     ]
    },
    {
     "name": "stdout",
     "output_type": "stream",
     "text": [
      "3.951146\n",
      "Sound Type : Audio\n"
     ]
    }
   ],
   "source": [
    "if __name__ == \"__main__\":\n",
    "    processDetect(\"644.wav\")"
   ]
  }
 ],
 "metadata": {
  "kernelspec": {
   "display_name": "Python 3 (ipykernel)",
   "language": "python",
   "name": "python3"
  },
  "language_info": {
   "codemirror_mode": {
    "name": "ipython",
    "version": 3
   },
   "file_extension": ".py",
   "mimetype": "text/x-python",
   "name": "python",
   "nbconvert_exporter": "python",
   "pygments_lexer": "ipython3",
   "version": "3.8.0"
  }
 },
 "nbformat": 4,
 "nbformat_minor": 4
}
