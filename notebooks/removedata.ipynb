import pandas as pd

# Baca file CSV
df = pd.read_csv('data.csv')

# Hapus baris dengan nilai sound_type bukan "mosquito"
df = df[df['sound_type'] == 'mosquito']

# Simpan kembali ke file CSV
df.to_csv('data_cleaned.csv', index=False)
